{
 "cells": [
  {
   "cell_type": "markdown",
   "id": "3c10b3dd",
   "metadata": {},
   "source": [
    "<div>\n",
    "<img src=\"svtLogo.png\"/>\n",
    "</div>"
   ]
  },
  {
   "cell_type": "markdown",
   "id": "219d873c",
   "metadata": {},
   "source": [
    "<h1><center>Mathematical Optimization for Engineers</center></h1>\n",
    "<h2><center>Lab 11 - Full discretization method</center></h2>\n",
    "\n",
    "In this exercise, we want to solve the van der Pol oscillator optimal control problem using the full discretization approach. \n",
    "The problem with state constraint is as follows: \n",
    "$\\begin{align}\n",
    "\\min_{u(t)} \\int_{t_{0}}^{t_{f}} x_1^2(t) &+ x_2^{2}(t) + u(t)^2 dt\\\\\n",
    "s.t.  \\dot{x} &= f(x(t),u(t))\\\\\n",
    "x(t_{0}) &= x_{0} \\\\\n",
    "x_1(t) &\\geq - 0.4 \\quad \\forall t \\in [t_{0},t_{f}]\\\\\n",
    "-0.3 &\\leq u(t) \\leq 1.0\\\\\n",
    "\\end{align}\n",
    "$\n",
    "\n",
    "For the full discretization appraoch, the differential equations are discretized usually by implicit Runge-Kutta methods. In this exercise, we will use the implicit Euler method due to its simplicity.\n"
   ]
  },
  {
   "cell_type": "markdown",
   "id": "f1f00020",
   "metadata": {
    "heading_collapsed": true
   },
   "source": [
    "### Imports"
   ]
  },
  {
   "cell_type": "code",
   "execution_count": 1,
   "id": "df3c781c",
   "metadata": {
    "hidden": true
   },
   "outputs": [],
   "source": [
    "import numpy as np\n",
    "\n",
    "from scipy.optimize import minimize\n",
    "from scipy.optimize import Bounds\n",
    "from scipy.optimize import NonlinearConstraint\n",
    "\n",
    "from matplotlib import pyplot as plt"
   ]
  },
  {
   "cell_type": "markdown",
   "id": "e7b7b4fb",
   "metadata": {
    "heading_collapsed": true
   },
   "source": [
    "### Right-hand side function of ODE"
   ]
  },
  {
   "cell_type": "code",
   "execution_count": 2,
   "id": "f902823b",
   "metadata": {
    "hidden": true
   },
   "outputs": [],
   "source": [
    "def eval_rhs(x, u):\n",
    "\n",
    "    f = np.zeros(3)\n",
    "    \n",
    "    x1 = x[0]\n",
    "    x2 = x[1]\n",
    "    x3 = x[2]\n",
    "    \n",
    "    f[0] = (1-x2**2)*x1 - x2 + u\n",
    "    f[1] = x1\n",
    "    f[2] = x1**2 + x2**2 + u**2\n",
    "    \n",
    "    return f"
   ]
  },
  {
   "cell_type": "markdown",
   "id": "d34b12b4",
   "metadata": {},
   "source": [
    "### Constraints for optimization - discretized ODE"
   ]
  },
  {
   "cell_type": "code",
   "execution_count": 36,
   "id": "6d906536",
   "metadata": {},
   "outputs": [],
   "source": [
    "def cons(y, x0, finalTime, M, n_u):\n",
    "    h = finalTime/M\n",
    "    n_x = len(x0)\n",
    "    ceq = np.zeros(n_x*M)\n",
    "\n",
    "    # backward Euler y_(k+1) = y_(k) + h.f(t_(k+1),y_(k+1))\n",
    "    \n",
    "    f1 = eval_rhs(y[0:n_x], y[n_x:n_x+n_u]) # first time step\n",
    "    \n",
    "    ceq[0:n_x] = x0 + h*f1 - y[0:n_x]\n",
    "        \n",
    "    # int(z) for z in [] just converts all elements in the list to integer\n",
    "    # it's an implementation detail because python only allows integer indices\n",
    "    \n",
    "    # second time step onward\n",
    "    for i in np.arange(2, M+1):  \n",
    "        ic0 = (i-1) * n_x\n",
    "        ic1 = [int(z) for z in range(ic0, ic0 + n_x)] # indices in ceq: current time step\n",
    "        \n",
    "        ix0 = (i-1) * (n_x + n_u)\n",
    "        ix1 = [int(z) for z in range(ix0, ix0 + n_x)] #[ix0, ix0 + 1, ix0 + 2]] # indices in y: current time step\n",
    "        ix = [int(z) for z in range(ix0-n_x-n_u, ix0-n_u)] # [ix0 - 4, ix0 - 3, ix0 - 2]] # indices in y: previous time step\n",
    "        iu1 = int(ix0 + n_x)\n",
    "        \n",
    "        f1 = eval_rhs(y[ix1],y[iu1])\n",
    "        \n",
    "        ceq[ic1] = y[ix] + h*f1 - y[ix1]\n",
    "            \n",
    "    return ceq\n"
   ]
  },
  {
   "cell_type": "markdown",
   "id": "9844a998",
   "metadata": {},
   "source": [
    "### objective"
   ]
  },
  {
   "cell_type": "code",
   "execution_count": 40,
   "id": "e35ef8ad",
   "metadata": {},
   "outputs": [],
   "source": [
    "def objective(y, x0):\n",
    "    obj = y[-2]\n",
    "    return obj"
   ]
  },
  {
   "cell_type": "markdown",
   "id": "c65a9f46",
   "metadata": {},
   "source": [
    "### Setting up optimization problem and solve it"
   ]
  },
  {
   "cell_type": "code",
   "execution_count": 41,
   "id": "5b6841f0",
   "metadata": {},
   "outputs": [
    {
     "name": "stdout",
     "output_type": "stream",
     "text": [
      "  NIT    FC           OBJFUN            GNORM\n",
      "    1   202    -1.108719E-01     1.000000E+00\n",
      "    2   403     6.320982E-01     1.000000E+00\n",
      "    3   604     2.714853E+00     1.000000E+00\n",
      "    4   805     2.981548E+00     1.000000E+00\n",
      "    5  1006     2.955657E+00     1.000000E+00\n",
      "    6  1207     2.820939E+00     1.000000E+00\n",
      "    7  1408     2.771703E+00     1.000000E+00\n",
      "    8  1609     2.800691E+00     1.000000E+00\n",
      "    9  1810     2.768467E+00     1.000000E+00\n",
      "   10  2011     2.758840E+00     1.000000E+00\n",
      "   11  2212     2.764718E+00     1.000000E+00\n",
      "   12  2413     2.759293E+00     1.000000E+00\n",
      "   13  2614     2.755296E+00     1.000000E+00\n",
      "   14  2815     2.756104E+00     1.000000E+00\n",
      "   15  3016     2.755835E+00     1.000000E+00\n",
      "   16  3217     2.755881E+00     1.000000E+00\n",
      "   17  3418     2.755706E+00     1.000000E+00\n",
      "   18  3619     2.755752E+00     1.000000E+00\n",
      "   19  3820     2.755763E+00     1.000000E+00\n",
      "   20  4021     2.755764E+00     1.000000E+00\n",
      "   21  4221     2.755764E+00     1.000000E+00\n",
      "Optimization terminated successfully    (Exit mode 0)\n",
      "            Current function value: 2.7557644939578974\n",
      "            Iterations: 21\n",
      "            Function evaluations: 4221\n",
      "            Gradient evaluations: 21\n",
      "Optimal function value is\n",
      "2.7557644939578974\n"
     ]
    }
   ],
   "source": [
    "n_x = 3 # dimension of state vector x \n",
    "n_u = 1 # dimension of control vector u\n",
    "\n",
    "M=50 # Number of discretization intervals\n",
    "\n",
    "x1_0 = 0 # initial value of x1\n",
    "x2_0 = 1 # initial value of x2\n",
    "x3_0 = 0 # initial value of x3\n",
    "\n",
    "x_initial = [0.0, 1.0, 0.0]\n",
    "finalTime = 5 # final time\n",
    "\n",
    "x1_min = -0.4 # lower bound on x1\n",
    "u_min = -0.3 # lower bound on u\n",
    "u_max = 1.0 # upper bound on u\n",
    "\n",
    "\n",
    "n = (n_x+n_u)*M # number of optimization variables\n",
    "iu = (np.arange(3,n,4)).astype(int) # indices of control variables\n",
    "ix1 = [int(z)-3 for z in iu] # indices of state x1\n",
    "ix2 = [int(z)-2 for z in iu] # indices of state x2\n",
    "ix3 = [int(z)-1 for z in iu] # indices of state x3\n",
    "\n",
    "lb = -float(\"inf\")*np.ones(n) # initialize lower bounds on all variables\n",
    "ub = float(\"inf\")*np.ones(n) # initialize upper bounds on all variables\n",
    "\n",
    "lb[iu] = u_min*np.ones(M) # lower bound of control \n",
    "ub[iu] = u_max # upper bound of control\n",
    "lb[ix1] = x1_min*np.ones(M) # lower bound on x1\n",
    "\n",
    "\n",
    "\n",
    "x_guess = np.zeros(n)  # initial guess of optimzation variable\n",
    "\n",
    "x_guess[ix1] = x1_0  # initial guess for state x1\n",
    "x_guess[ix2] = x2_0  # initial guess for state x2\n",
    "x_guess[ix3] = x3_0  # initial guess for state x3\n",
    "\n",
    "x_guess[iu] = 0.0  # initial guess for control u\n",
    "\n",
    "bounds = Bounds(lb, ub)\n",
    "\n",
    "consWithInitial = lambda y: cons(y, x_initial, finalTime, M, n_u)\n",
    "\n",
    "nonlinear_constraints = NonlinearConstraint(consWithInitial, 0, 0)\n",
    "# trust-constr\n",
    "res = minimize(objective, x_guess, args = (x_initial), method='SLSQP',\n",
    "               constraints=[nonlinear_constraints],\n",
    "               options={\"maxiter\": 10000, 'iprint': 2, 'disp': True}, bounds=bounds)\n",
    "\n",
    "print('Optimal function value is')\n",
    "print(res.fun)"
   ]
  },
  {
   "cell_type": "markdown",
   "id": "46e06392",
   "metadata": {},
   "source": [
    "### Plot trajectories"
   ]
  },
  {
   "cell_type": "code",
   "execution_count": 6,
   "id": "a05d55db",
   "metadata": {},
   "outputs": [
    {
     "data": {
      "image/png": "[encoded data removed]",
      "text/plain": [
       "<Figure size 432x288 with 4 Axes>"
      ]
     },
     "metadata": {
      "needs_background": "light"
     },
     "output_type": "display_data"
    }
   ],
   "source": [
    "xopt = res.x\n",
    "\n",
    "t = np.linspace(0, finalTime, M+1)\n",
    "x1 = np.append([x1_0],list(xopt[np.arange(0,len(xopt),4)]))\n",
    "x2 = np.append([x2_0],list(xopt[np.arange(1,len(xopt),4)]))\n",
    "x3 = np.append([x3_0],list(xopt[np.arange(2,len(xopt),4)]))\n",
    "u = np.append([0.0],list(xopt[np.arange(3,len(xopt),4)]))\n",
    "\n",
    "plt.figure()\n",
    "ax1 = plt.axes(xlim=(-4,4), ylim=(-4, 4))\n",
    "plt.subplot(311)\n",
    "\n",
    "plt.subplot(221)\n",
    "plt.plot(t, x1)\n",
    "plt.title('x1')\n",
    "\n",
    "plt.subplot(222)\n",
    "plt.plot(t, x2)\n",
    "plt.title('x2')\n",
    "\n",
    "plt.subplot(223)\n",
    "plt.plot(t, x3)\n",
    "plt.title('x3')\n",
    "#\n",
    "plt.subplot(224)\n",
    "plt.plot(t, u)\n",
    "plt.title('u')\n",
    "\n",
    "plt.tight_layout()\n",
    "\n",
    "plt.show()\n"
   ]
  },
  {
   "cell_type": "code",
   "execution_count": null,
   "id": "aa18208b",
   "metadata": {},
   "outputs": [],
   "source": []
  }
 ],
 "metadata": {
  "kernelspec": {
   "display_name": "Python 3 (ipykernel)",
   "language": "python",
   "name": "python3"
  },
  "language_info": {
   "codemirror_mode": {
    "name": "ipython",
    "version": 3
   },
   "file_extension": ".py",
   "mimetype": "text/x-python",
   "name": "python",
   "nbconvert_exporter": "python",
   "pygments_lexer": "ipython3",
   "version": "3.10.6"
  }
 },
 "nbformat": 4,
 "nbformat_minor": 5
}

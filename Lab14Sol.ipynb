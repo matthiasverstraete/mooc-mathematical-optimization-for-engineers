{
 "cells": [
  {
   "cell_type": "markdown",
   "id": "1bfb354c",
   "metadata": {},
   "source": [
    "<div>\n",
    "<img src=\"figures/svtLogo.png\"/>\n",
    "</div>\n",
    "<h1><center>Mathematical Optimization for Engineers</center></h1>\n",
    "<h2><center>Lab 14 - Uncertainty</center></h2>"
   ]
  },
  {
   "cell_type": "markdown",
   "id": "77e7d0f2",
   "metadata": {},
   "source": [
    "We want to optimize the total annualized cost of a heating and electric power system. Three different technologies are present: \n",
    "- a gas boiler\n",
    "- a combined heat and power plant\n",
    "- a photovoltaic module\n",
    "\n",
    "We first the the nominal case without uncertanties. \n",
    "Next, we will consider a two-stage approach to consider uncertainties in the electricity demand and the power producable via PV. \n",
    "Uncertain variables are the solar power and the power demand. "
   ]
  },
  {
   "cell_type": "code",
   "execution_count": 21,
   "id": "78bf3afb",
   "metadata": {},
   "outputs": [],
   "source": [
    "# import cell\n",
    "from scipy.optimize import minimize, NonlinearConstraint, Bounds"
   ]
  },
  {
   "cell_type": "code",
   "execution_count": 22,
   "id": "6ce4b40b",
   "metadata": {},
   "outputs": [],
   "source": [
    "class Boiler():\n",
    "    \"\"\"Boiler \n",
    "    Gas in, heat out\n",
    "    \"\"\"\n",
    "    \n",
    "    def __init__(self):\n",
    "        self.M = 0.75  \n",
    "        \n",
    "    def invest_cost(self, Qdot_nom):\n",
    "        inv = 100 * Qdot_nom ** self.M\n",
    "        return inv\n",
    "    \n",
    "    def oper_cost(self, Qdot_nom, op_load): \n",
    "        cost_gas = 60\n",
    "        cost_gas_oper = Qdot_nom * cost_gas * op_load\n",
    "        \n",
    "        return cost_gas_oper\n",
    "    \n",
    "    def heat(self, Qdot_nom, op_load):\n",
    "        eta_th = 0.9 - (1 - op_load) * 0.05\n",
    "        return Qdot_nom * op_load * eta_th\n",
    "    "
   ]
  },
  {
   "cell_type": "code",
   "execution_count": 23,
   "id": "717189c1",
   "metadata": {},
   "outputs": [],
   "source": [
    "class CHP():\n",
    "    \"\"\"Combined-heat-and-power (CHP) engine \n",
    "    Gas in, heat and power out\n",
    "    \"\"\"\n",
    "\n",
    "    def __init__(self):\n",
    "        self.c_ref = 150\n",
    "        self.M = 0.80  # [-], cost exponent\n",
    "        self.cost_gas = 60\n",
    "    \n",
    "    def invest_cost(self, Qdot_nom):\n",
    "        inv = self.c_ref * (Qdot_nom) ** self.M\n",
    "        return inv\n",
    "    \n",
    "    def oper_cost(self, Qdot_nom, op_load): \n",
    "        cost_gas_oper = Qdot_nom * op_load * self.cost_gas\n",
    "        return cost_gas_oper\n",
    "    \n",
    "    def elec_out(self, Qdot_nom, op_load):\n",
    "        eta_el = 0.3 - (1 - op_load) * 0.1\n",
    "        out_pow = eta_el * Qdot_nom * op_load\n",
    "        return out_pow\n",
    "    \n",
    "    def heat(self, Qdot_nom, op_load): \n",
    "        eta_th = 0.6 - (1-op_load) * 0.05  \n",
    "        return Qdot_nom * eta_th * op_load\n"
   ]
  },
  {
   "cell_type": "code",
   "execution_count": 24,
   "id": "a28784ba",
   "metadata": {},
   "outputs": [],
   "source": [
    "class PV:\n",
    "    \"\"\"Photovoltaic modules (PV) \n",
    "    solar \n",
    "    \"\"\" \n",
    "    \n",
    "    def __init__(self): \n",
    "        self.M = 0.9  # [-], cost exponent\n",
    "       \n",
    "    def invest_cost(self, p_nom):\n",
    "        inv = 200 * p_nom ** self.M\n",
    "        return inv\n",
    "    \n",
    "    def oper_cost(self, out_nom): \n",
    "        return 0\n",
    "    \n",
    "    def elec_out(self, p_nom, op_load, solar):\n",
    "        return p_nom * op_load * solar\n",
    "    "
   ]
  },
  {
   "cell_type": "code",
   "execution_count": 25,
   "id": "2b2c91f3",
   "metadata": {},
   "outputs": [],
   "source": [
    "def objective_function(x, PV, Boiler, CHP, scenarios):\n",
    "    total_cost = 0\n",
    "    design_PV = x[0]  \n",
    "    design_boiler = x[1]  \n",
    "    design_CHP = x[2] \n",
    "    \n",
    "    cost_PV = PV.invest_cost(design_PV) \n",
    "    cost_Boiler = Boiler.invest_cost(design_boiler)  \n",
    "    cost_CHP = CHP.invest_cost(design_CHP) \n",
    "\n",
    "    total_cost = cost_PV + cost_Boiler + cost_CHP\n",
    "    operating_cost = 0\n",
    "    \n",
    "    iIndexShift = 3\n",
    "    for idx, iSec in enumerate(scenarios): \n",
    "        indexOffset = 3 + idx * iIndexShift\n",
    "        \n",
    "        op_cost = Boiler.oper_cost(design_boiler, x[indexOffset + 1]) \\\n",
    "             + CHP.oper_cost(design_CHP, x[indexOffset + 2])\n",
    "        total_cost = total_cost + iSec[\"p\"] * op_cost\n",
    "        \n",
    "   \n",
    "    return total_cost"
   ]
  },
  {
   "cell_type": "code",
   "execution_count": 26,
   "id": "d91f7b7e",
   "metadata": {},
   "outputs": [],
   "source": [
    "def constraint_function(x, PV, Boiler, CHP, scenarios): \n",
    "    heat_demand = 200\n",
    "    c = list  \n",
    "    c = [0]\n",
    "    design_PV = x[0]  \n",
    "    design_boiler = x[1]  \n",
    "    design_CHP = x[2]  \n",
    "\n",
    "    # loop over all uncertatintes\n",
    "    iIndexShift = 3\n",
    "    for idx, iSec in enumerate(scenarios): \n",
    "        indexOffset = 3 + idx * iIndexShift\n",
    "        elec_demand = iSec[\"elec\"]\n",
    "        \n",
    "        # heat demand\n",
    "        c.append(Boiler.heat(design_boiler, x[indexOffset + 1]) \\\n",
    "             + CHP.heat(design_CHP, x[indexOffset + 2]) - heat_demand)     \n",
    "        # electricty demand \n",
    "        c.append(PV.elec_out(design_PV, x[indexOffset], iSec[\"solar\"])\n",
    "              + CHP.elec_out(design_CHP, x[indexOffset + 2]) - elec_demand)\n",
    "    # remove initial list element       \n",
    "    c.pop(0)\n",
    "    return c"
   ]
  },
  {
   "cell_type": "code",
   "execution_count": 27,
   "id": "adda1c42",
   "metadata": {},
   "outputs": [],
   "source": [
    "def print_solution(x):\n",
    "    print('PV design: ', x[0])\n",
    "    print('Boiler design: ', x[1])\n",
    "    print('CHP design: ', x[2], end='\\n\\n')\n",
    "\n",
    "    # print scenarios\n",
    "    n_scenarios = int((len(x) - 3) / 3)\n",
    "    for i_scenario in range(1, n_scenarios + 1): \n",
    "            print('Scenario ' + str(i_scenario) + ' PV load: ', x[3 * i_scenario])\n",
    "            print('Scenario ' + str(i_scenario) + ' Boiler load: ', x[3 * i_scenario + 1])\n",
    "            print('Scenario ' + str(i_scenario) + ' CHP load: ', x[3 * i_scenario + 2], end='\\n\\n')\n",
    "   "
   ]
  },
  {
   "cell_type": "code",
   "execution_count": 28,
   "id": "d9c0fa84",
   "metadata": {},
   "outputs": [],
   "source": [
    "# nominal case\n",
    "scenario1 = {\"p\": 1.0, \"solar\":1.0, \"elec\": 100}\n",
    "scenarios = [scenario1] # some base scenario\n"
   ]
  },
  {
   "cell_type": "code",
   "execution_count": 29,
   "id": "c7133264",
   "metadata": {},
   "outputs": [],
   "source": [
    "# now consider different scenarios\n",
    "myPV = PV()\n",
    "myBoiler = Boiler()\n",
    "myCHP = CHP()\n",
    "cons = lambda x: constraint_function(x, myPV, myBoiler, myCHP, scenarios)\n",
    "obj = lambda x: objective_function(x, myPV, myBoiler, myCHP, scenarios)\n",
    "nonlinear_constraints = NonlinearConstraint(cons, 0, 0)\n",
    "# bounds for operation 0 . 1\n",
    "x_guess = [200, 200, 200, 1, 1, 1]\n",
    "lbs = [0, 0, 0, 0, 0, 0]\n",
    "ubs = [10000, 10000, 10000, 1, 1, 1]\n",
    "bnds = Bounds(lbs, ubs)\n",
    "\n"
   ]
  },
  {
   "cell_type": "code",
   "execution_count": 30,
   "id": "ac8c05e7",
   "metadata": {},
   "outputs": [
    {
     "name": "stdout",
     "output_type": "stream",
     "text": [
      "  NIT    FC           OBJFUN            GNORM\n",
      "    1     8     4.230687E+04     1.697139E+04\n",
      "    2    15     3.378407E+04     1.515439E+04\n",
      "    3    22     3.433273E+04     1.216002E+04\n",
      "    4    29     3.405211E+04     1.113595E+04\n",
      "    5    36     3.172059E+04     1.148302E+04\n",
      "    7    43     3.170808E+04     1.333535E+04\n",
      "   11    49     3.170808E+04     1.445212E+04\n",
      "Optimization terminated successfully    (Exit mode 0)\n",
      "            Current function value: 31708.080595121006\n",
      "            Iterations: 11\n",
      "            Function evaluations: 49\n",
      "            Gradient evaluations: 7\n"
     ]
    }
   ],
   "source": [
    "res = minimize(obj, x_guess, method = 'SLSQP', bounds=bnds,\n",
    "               constraints = nonlinear_constraints,\n",
    "               options={\"maxiter\": 25, 'iprint': 2, 'disp': True})\n"
   ]
  },
  {
   "cell_type": "code",
   "execution_count": 31,
   "id": "85fce28f",
   "metadata": {},
   "outputs": [
    {
     "name": "stdout",
     "output_type": "stream",
     "text": [
      "PV design:  100.00000000749218\n",
      "Boiler design:  222.2222251037179\n",
      "CHP design:  0.0\n",
      "\n",
      "Scenario 1 PV load:  1.0\n",
      "Scenario 1 Boiler load:  1.0\n",
      "Scenario 1 CHP load:  0.9999999999692892\n",
      "\n"
     ]
    }
   ],
   "source": [
    "print_solution(res.x)"
   ]
  },
  {
   "cell_type": "code",
   "execution_count": 32,
   "id": "e29ea075",
   "metadata": {},
   "outputs": [
    {
     "name": "stdout",
     "output_type": "stream",
     "text": [
      "[{'p': 0.4, 'solar': 1.0, 'elec': 100}, {'p': 0.3, 'solar': 1.0, 'elec': 120}, {'p': 0.3, 'solar': 0.5, 'elec': 80}]\n"
     ]
    }
   ],
   "source": [
    "# nominal \n",
    "# uncertanties: power demand and solar power (relative 1.0)\n",
    "scenario1 = {\"p\": 0.4, \"solar\":1.0, \"elec\": 100}\n",
    "scenario2 = {\"p\": 0.3, \"solar\":1.0, \"elec\": 120}\n",
    "scenario3 = {\"p\": 0.3, \"solar\":0.5, \"elec\": 80}\n",
    "\n",
    "scenarios = [scenario1] # some base scenario\n",
    "scenarios.append(scenario2)\n",
    "scenarios.append(scenario3)\n",
    "\n",
    "print(scenarios)"
   ]
  },
  {
   "cell_type": "code",
   "execution_count": 33,
   "id": "0e3c1db6",
   "metadata": {},
   "outputs": [
    {
     "name": "stdout",
     "output_type": "stream",
     "text": [
      "  NIT    FC           OBJFUN            GNORM\n",
      "    1    14     4.368662E+04     9.896865E+03\n",
      "    2    27     3.780998E+04     8.491300E+03\n",
      "    3    40     3.822383E+04     7.547616E+03\n",
      "    4    53     3.776663E+04     7.318663E+03\n",
      "    5    66     3.775835E+04     6.635008E+03\n",
      "    6    79     3.776402E+04     6.598445E+03\n",
      "    7    92     3.776235E+04     6.599402E+03\n",
      "    8   113     3.776324E+04     6.599400E+03\n",
      "   10   126     3.776385E+04     6.599205E+03\n",
      "   11   139     3.776385E+04     6.599339E+03\n",
      "   12   152     3.776385E+04     6.599339E+03\n",
      "   13   165     3.776384E+04     6.599339E+03\n",
      "   14   188     3.776385E+04     6.599339E+03\n",
      "   15   200     3.776385E+04     6.599339E+03\n",
      "Iteration limit reached    (Exit mode 9)\n",
      "            Current function value: 37763.85488014591\n",
      "            Iterations: 15\n",
      "            Function evaluations: 200\n",
      "            Gradient evaluations: 14\n"
     ]
    }
   ],
   "source": [
    "myPV = PV()\n",
    "myBoiler = Boiler()\n",
    "myCHP = CHP()\n",
    "cons = lambda x: constraint_function(x, myPV, myBoiler, myCHP, scenarios)\n",
    "obj = lambda x: objective_function(x, myPV, myBoiler, myCHP, scenarios)\n",
    "nonlinear_constraints = NonlinearConstraint(cons, 0, 0)\n",
    "# bounds for operation 0 . 1\n",
    "x_guess = [200,200,200, 1,1,1, 1,1,1, 1,1,1 ]\n",
    "lbs = [0, 0, 0,   0, 0, 0,  0, 0, 0,  0, 0, 0]\n",
    "ubs = [10000, 10000, 10000, 1, 1, 1, 1, 1, 1, 1, 1, 1]\n",
    "bnds = Bounds(lbs, ubs)\n",
    "\n",
    "res = minimize(obj, x_guess, method = 'SLSQP', bounds=bnds,\n",
    "               constraints = nonlinear_constraints,\n",
    "               options={\"maxiter\": 15, 'iprint': 2, 'disp': True})"
   ]
  },
  {
   "cell_type": "code",
   "execution_count": 34,
   "id": "9d559524",
   "metadata": {},
   "outputs": [
    {
     "name": "stdout",
     "output_type": "stream",
     "text": [
      "PV design:  79.9999999973027\n",
      "Boiler design:  133.3333333364351\n",
      "CHP design:  133.33333331602304\n",
      "\n",
      "Scenario 1 PV load:  0.75000000988053\n",
      "Scenario 1 Boiler load:  1.0\n",
      "Scenario 1 CHP load:  0.9999999853145068\n",
      "\n",
      "Scenario 2 PV load:  1.0\n",
      "Scenario 2 Boiler load:  1.0\n",
      "Scenario 2 CHP load:  0.9999999928127812\n",
      "\n",
      "Scenario 3 PV load:  0.999999988561437\n",
      "Scenario 3 Boiler load:  0.9999999941062396\n",
      "Scenario 3 CHP load:  1.0\n",
      "\n"
     ]
    }
   ],
   "source": [
    "print_solution(res.x)"
   ]
  },
  {
   "cell_type": "code",
   "execution_count": 20,
   "id": "8bd5b665",
   "metadata": {},
   "outputs": [
    {
     "name": "stdout",
     "output_type": "stream",
     "text": [
      "[80, 133.333, 133.333]\n",
      "PV 10323.120194371457\n",
      "Boiler 3923.767251430592\n",
      "CHP 7516.945123606054\n",
      "invest cost 21763.832569408103\n",
      "37763.7925694081\n"
     ]
    }
   ],
   "source": [
    "print(objective_function([ 80, 133.333, 133.333, 0.75, 1, 1, 1, 1, 1, 1, 1, 1], myPV, myBoiler, myCHP, scenarios))"
   ]
  },
  {
   "cell_type": "code",
   "execution_count": null,
   "id": "45b565b7",
   "metadata": {},
   "outputs": [],
   "source": []
  }
 ],
 "metadata": {
  "kernelspec": {
   "display_name": "Python 3 (ipykernel)",
   "language": "python",
   "name": "python3"
  },
  "language_info": {
   "codemirror_mode": {
    "name": "ipython",
    "version": 3
   },
   "file_extension": ".py",
   "mimetype": "text/x-python",
   "name": "python",
   "nbconvert_exporter": "python",
   "pygments_lexer": "ipython3",
   "version": "3.10.6"
  }
 },
 "nbformat": 4,
 "nbformat_minor": 5
}

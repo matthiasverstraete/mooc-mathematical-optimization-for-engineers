{
 "cells": [
  {
   "cell_type": "markdown",
   "metadata": {},
   "source": [
    "<div>\n",
    "<img src=\"figures/svtLogo.png\"/>\n",
    "</div>"
   ]
  },
  {
   "cell_type": "markdown",
   "metadata": {},
   "source": [
    "<center><h1>Mathematical Optimization for Engineers</h1></center>\n",
    "<center><h2>Lab 6 - The Simplex Method</h2></center>\n",
    "\n",
    "Consider the following optimization problem:\n",
    "\n",
    "$$\\min_{x_1,x_2} \\quad \\quad x_1+x_2$$\n",
    "\n",
    "$$\\begin{aligned}\n",
    "\\mbox{s.t. }\\quad 0 \\; \\leq \\; x_1 \\; &\\leq \\; 1\\\\\n",
    "0 \\; \\leq \\; x_2 \\; &\\leq \\; 1\\\\\n",
    "x_1+x_2 \\; &\\leq \\; 1.5\\\\\n",
    "\\end{aligned}$$\n",
    "\n",
    "<u>Task 1</u>: Sketch the feasible region for this problem. Where is the optimal solution?"
   ]
  },
  {
   "cell_type": "code",
   "execution_count": 3,
   "metadata": {},
   "outputs": [
    {
     "data": {
      "image/png": "[encoded data removed]",
      "text/plain": [
       "<Figure size 432x288 with 1 Axes>"
      ]
     },
     "metadata": {
      "needs_background": "light"
     },
     "output_type": "display_data"
    }
   ],
   "source": [
    "import numpy as np\n",
    "import matplotlib.pyplot as plt\n",
    "\n",
    "# plot the feasible region\n",
    "d = np.linspace(-3,3,300)\n",
    "x,y = np.meshgrid(d,d)\n",
    "plt.imshow(((x>=0) & (y>=0) & (x<=1) & (y<=1) & (x+y<=1.5)).astype(int) , \n",
    "                extent=(x.min(),x.max(),y.min(),y.max()),origin=\"lower\", cmap=\"Greys\", alpha = 0.3);\n",
    "\n",
    "\n",
    "# plot the lines defining the constraints\n",
    "x = np.linspace(-1, 2, 500)\n",
    "y = np.linspace(-1, 2, 500)\n",
    "# 0 <= x <= 1\n",
    "y1 = 0\n",
    "y2 = 1\n",
    "# 0 <= y <= 1\n",
    "x1 = 0\n",
    "x2 = 1\n",
    "# x + y <= 1.5\n",
    "y5 = -x + 1.5\n",
    "\n",
    "# Make plot\n",
    "plt.plot(x, 0*np.ones_like(x), label=r'$x2=0$')\n",
    "plt.plot(x, 1*np.ones_like(x), label=r'$x2=1$')\n",
    "plt.plot(0*np.ones_like(y), y, label=r'$x1=0$')\n",
    "plt.plot(1*np.ones_like(y), y, label=r'$x1=1$')\n",
    "plt.plot(x, y5, label=r'$x2 = -x1 + 1.5$')\n",
    "plt.plot(0, 0, '-o', label=r'minimum')\n",
    "plt.xlim(-0.5,1.5)\n",
    "plt.ylim(-0.5,1.5)\n",
    "plt.legend(bbox_to_anchor=(1.05, 1), loc=2, borderaxespad=0.)\n",
    "plt.xlabel(r'$x1$')\n",
    "plt.ylabel(r'$x2$')\n",
    "plt.show()"
   ]
  },
  {
   "cell_type": "markdown",
   "metadata": {},
   "source": [
    "<u>Task 2</u>: Introduce slack variables and reformulate the optimization problem into standard form:\n",
    "\n",
    "$$\\begin{aligned}\n",
    "\\min_{\\bar{\\mathbf x}} \\quad \\bar{\\mathbf{d}}^{T} \\bar{\\mathbf x} \\\\\n",
    "\\mbox{s.t.} \\quad \\bar{\\mathbf A} \\bar{\\mathbf x} &= \\bar{\\mathbf b} \\\\\n",
    "\\bar{\\mathbf x} &\\geq \\mathbf{0}\n",
    "\\end{aligned}$$"
   ]
  },
  {
   "cell_type": "markdown",
   "metadata": {},
   "source": [
    "<details>\n",
    "We take the constraint, $x_1 \\leq 1$, and add a non-negative slack\n",
    "variable $v_1$, such that an equality constraint is obtained: <br>\n",
    "<br>\n",
    "$$ x_1 \\leq 1 \\rightarrow x_1+v_1=1, \\quad v_1 \\geq 0$$ <br>\n",
    "We repeat this procedere for the constraint, $x_2 \\leq 1$:<br>\n",
    "<br>\n",
    "$$x_2 \\leq 1 \\rightarrow x_2+v_2=1, \\quad v_2 \\geq 0$$ <br>\n",
    "As well as for the constraint, $x_1 + x_2 \\leq 1.5$<br>\n",
    "<br>\n",
    "$$x_1 + x_2 \\leq 1.5 \\rightarrow x_1 + x_2 + v_3=1.5, \\quad v_3 \\geq 0$$<br>\n",
    "<br>\n",
    "\n",
    "The vector $\\bar{\\mathbf x}$, then looks like:\n",
    "$$\\bar{\\mathbf x} = \\left( \\begin{array}{c}\n",
    "x_1 \\\\\n",
    "x_2 \\\\\n",
    "v_1 \\\\\n",
    "v_2 \\\\\n",
    "v_3\n",
    "\\end{array} \\right)$$\n",
    "\n",
    "The objective function coefficients become:\n",
    "$$\\bar{\\mathbf d} = \\left( \\begin{array}{c}\n",
    "1 \\\\\n",
    "1 \\\\\n",
    "0 \\\\\n",
    "0 \\\\\n",
    "0\n",
    "\\end{array} \\right)$$\n",
    "\n",
    "The matrix $\\bar{\\mathbf A}$, then looks like:\n",
    "$$\\bar{\\mathbf A} = \\left( \\begin{array}{*{5}{c}}\n",
    "1 & 0 & 1 & 0 & 0 \\\\\n",
    "0 & 1 & 0 & 1 & 0 \\\\\n",
    "1 & 1 & 0 & 0 & 1\n",
    "\\end{array} \\right)$$\n",
    "\n",
    "And RHS $\\bar{\\mathbf b}$, then looks like:\n",
    "$$\\bar{\\mathbf b} = \\left( \\begin{array}{c}\n",
    "1 \\\\\n",
    "1 \\\\\n",
    "1.5 \n",
    "\\end{array} \\right)$$\n",
    "</details>"
   ]
  },
  {
   "cell_type": "markdown",
   "metadata": {},
   "source": [
    "<u>Task 3</u>: Determine the values of $\\bar{\\mathbf x}$ for the points $\\mathbf x=(0,1)^T$, $\\mathbf x=(1,0.5)^T$, and $\\mathbf x=(0,0)^T$. What are the corresponding basic matrices $\\mathbf{B}$?"
   ]
  },
  {
   "cell_type": "markdown",
   "metadata": {},
   "source": [
    "<Details>\n",
    "When fixing the values of $x_1$ and $x_2$, the values of the slack variables $v_1,v_2$ and $v_3$ are, by definition, also fixed. Therefore:\n",
    "\n",
    "1. For $\\mathbf x=\\left( \\begin{array}{c}\n",
    "0 \\\\\n",
    "1\n",
    "\\end{array} \\right)$, we have $\\bar{\\mathbf x}=\\left( \\begin{array}{c}\n",
    "0 \\\\\n",
    "1 \\\\\n",
    "1 \\\\\n",
    "0 \\\\\n",
    "0.5\n",
    "\\end{array} \\right)$\n",
    "<br>\n",
    "<br>\n",
    "2. For $\\mathbf x=\\left( \\begin{array}{c}\n",
    "1 \\\\\n",
    "0.5\n",
    "\\end{array} \\right)$, we have $\\bar{\\mathbf x}=\\left( \\begin{array}{c}\n",
    "1 \\\\\n",
    "0.5 \\\\\n",
    "0 \\\\\n",
    "0.5 \\\\\n",
    "0\n",
    "\\end{array} \\right)$\n",
    "<br>\n",
    "<br>\n",
    "3. For $\\mathbf x=\\left( \\begin{array}{c}\n",
    "0 \\\\\n",
    "0\n",
    "\\end{array} \\right)$, we have $\\bar{\\mathbf x}=\\left( \\begin{array}{c}\n",
    "0 \\\\\n",
    "0 \\\\\n",
    "1 \\\\\n",
    "1 \\\\\n",
    "1.5\n",
    "\\end{array} \\right)$\n",
    "<br>\n",
    "<br>\n",
    "\n",
    "Which columns of $\\bar{\\mathbf A}$ have to be included in the matrix $\\mathbf B$? Typically, the columns of $\\bar{\\mathbf A}$ corresponding to nonzero entries in $\\bar{\\mathbf x}$ have to be included. (In degenerate problems, the number of nonzero entries in $\\bar{\\mathbf x}$ may be smaller than the number of columns needed for the matrix $\\mathbf B$ invertible.)\n",
    "\n",
    "Thus, we have:\n",
    "\n",
    "1. For $\\mathbf x=\\left( \\begin{array}{c}\n",
    "0 \\\\\n",
    "1\n",
    "\\end{array} \\right)$, that the second, third and fifth columns of $\\bar{\\mathbf A}$ have to be included to $\\mathbf B$. Hence,\n",
    "<br>\n",
    "<br>\n",
    "$\\mathbf B = \\left( \\begin{array}{*{3}{c}}  \n",
    "0 & 1 & 0 \\\\\n",
    "1 & 0 & 0 \\\\\n",
    "1 & 0 & 1\n",
    "\\end{array} \\right)$\n",
    "<br>\n",
    "<br>\n",
    "2. For $\\mathbf x=\\left( \\begin{array}{c}\n",
    "1 \\\\\n",
    "0.5\n",
    "\\end{array} \\right)$, that the first, second and fourth columns of $\\bar{\\mathbf A}$ have to be included to $\\mathbf B$. Hence,\n",
    "<br>\n",
    "<br>\n",
    "$\\mathbf B = \\left( \\begin{array}{*{3}{c}}\n",
    "1 & 0 & 0\\\\\n",
    "0 & 1 & 1\\\\\n",
    "1 & 1 & 0\n",
    "\\end{array} \\right)$\n",
    "<br>\n",
    "<br>\n",
    "3. For $\\mathbf x=\\left( \\begin{array}{c}\n",
    "0 \\\\\n",
    "0\n",
    "\\end{array} \\right)$, that the third, fourth and fifth column of $\\bar{\\mathbf A}$ have to be included to $\\mathbf B$. Hence,\n",
    "<br>\n",
    "<br>\n",
    "$\\mathbf B = \\left( \\begin{array}{*{3}{c}}\n",
    "1 & 0 & 0\\\\\n",
    "0 & 1 & 0\\\\\n",
    "0 & 0 & 1\n",
    "\\end{array} \\right)$\n",
    "</Details>"
   ]
  },
  {
   "cell_type": "markdown",
   "metadata": {},
   "source": [
    "<u>Task 4</u>: Answer the following:\n",
    "\n",
    "1. How does the Simplex method work?\n",
    "<br>\n",
    "<br>\n",
    "2. How do we know, if the current corner point is the optimal one? Which condition has to hold? Derive it from the KKT conditions.\n",
    "<br>\n",
    "<br>\n",
    "3. If we have not found the optimal corner point yet: which column has to be included into the basis matrix $\\mathbf {B}$? Which column must be excluded from $\\mathbf {B}$?"
   ]
  },
  {
   "cell_type": "markdown",
   "metadata": {},
   "source": [
    "<Details>\n",
    "1. The Simplex method moves (iterates) from one corner of the polytope to a neighboring corner such that the objective function decreases by most.\n",
    "<br>\n",
    "<br>\n",
    "2. The Simplex method terminates when the Lagrange multipliers of all inequality constraints are greater than or equal to 0. See lecture notes for derivation.\n",
    "<br>\n",
    "<br>\n",
    "3. We assume, that at least one component of $\\mathbf \\lambda_{I,N}$ is negative. We can include the column corresponding to the most negative entry of $\\mathbf \\lambda_{I,N}$ into the matrix $\\mathbf B$ (Dantzig's rule). Let $\\mathbf A_q$ denote the corresponding column of $\\mathbf A$. To determine the column we have to delete from $\\mathbf B$, we use the formula stated in the lecture: \n",
    "$$\\mathbf x_B^{+} = \\mathbf x_B - \\mathbf B^{-1} \\mathbf A_q x_q^+$$\n",
    "<br>\n",
    "Here, $x_q$ should be increased stepwise from zero. The entry of $\\mathbf x_B^{+}$, which goes to zero first, is exactly the column in $\\mathbf B$, which has to be deleted. See also the code below for implementation details."
   ]
  },
  {
   "cell_type": "markdown",
   "metadata": {},
   "source": [
    "<b>We will now implement the Simplex method in Python. </b>\n",
    "\n",
    "At the outset, let's declare the matrices we have defined in the exercise above:"
   ]
  },
  {
   "cell_type": "code",
   "execution_count": 2,
   "metadata": {},
   "outputs": [],
   "source": [
    "import numpy as np\n",
    "from numpy.linalg import inv\n",
    "from numpy.matlib import matrix\n",
    "\n",
    "# equality constraints LHS\n",
    "A = np.matrix([[1,0,1,0,0], [0,1,0,1,0], [1,1,0,0,1]])\n",
    "# equality constraints RHS\n",
    "b = np.array([1, 1, 1.5])\n",
    "# objective\n",
    "d = np.array([1, 1, 0, 0, 0])"
   ]
  },
  {
   "cell_type": "markdown",
   "metadata": {},
   "source": [
    "The Simplex method needs a <u>feasible corner point</u> to start with. We do not cover in this course, how such a point is found. Here, we are able to guess one because the problem is small."
   ]
  },
  {
   "cell_type": "code",
   "execution_count": 3,
   "metadata": {},
   "outputs": [],
   "source": [
    "# initial point\n",
    "x_init = np.array([1,0.5,0,0.5,0])\n",
    "# corresponding initial Basic Feasible Set \n",
    "# (note that indexing in Python starts from 0)\n",
    "basic_init = [0,1,3]"
   ]
  },
  {
   "cell_type": "markdown",
   "metadata": {},
   "source": [
    "We will now implement the following pseudo-code, that we saw in the lecture:\n",
    "<br>\n",
    "<br>\n",
    "While not($\\lambda_{I,N} \\geq \\mathbf 0$)\n",
    "1. Choose an index $q \\notin T^k(\\mathbf x)$ such that $$q = \\underset{i \\notin T^k(\\mathbf x)}{\\operatorname{argmin}}\\mathbf \\lambda_{I,i}$$\n",
    "<br>\n",
    "$$\\mathbf \\lambda_{I,q} = \\underset{i \\notin T^k(\\mathbf x)}{\\operatorname{min}}\\mathbf \\lambda_{I,i}$$\n",
    "<br>\n",
    "2. Increase $x_q$, following $\\mathbf A \\mathbf x^+ = \\mathbf b$, until some $x_p^+$ with $p \\in T(\\mathbf x)$ becomes zero. <br>\n",
    "<br>\n",
    "$$\\implies x_q^+ = \\underset{i \\in T^k(\\mathbf x)|(\\mathbf B^{-1} \\mathbf A_q)_i \\gt 0}{\\operatorname{min}} (\\mathbf x_B)_i/(\\mathbf B^{-1} \\mathbf A_q)_i$$\n",
    "<br>\n",
    "$$\\implies p = \\underset{i \\in T^k(\\mathbf x)|(\\mathbf B^{-1} \\mathbf A_q)_i \\gt 0}{\\operatorname{argmin}} (\\mathbf x_B)_i/(\\mathbf B^{-1} \\mathbf A_q)_i$$\n",
    "<br>\n",
    "3. Update $\\mathbf x$, basic set and non-basic set.$$\\mathbf x_B^{+} = \\mathbf x_B - \\mathbf B^{-1} \\mathbf A_q x_q^+ $$"
   ]
  },
  {
   "cell_type": "markdown",
   "metadata": {},
   "source": [
    "Let us now write the core function. Our implementation takes the follwoing as inputs:\n",
    "\n",
    "1. Matrix $\\bar{\\mathbf A}$ \n",
    "2. Cost vector $\\bar{\\mathbf d}$  \n",
    "3. An initial point \n",
    "4. The corresponding initial Basic Feasible Set \n",
    "\n",
    "It returns the following:\n",
    "\n",
    "1. Optimal value of $\\bar{\\mathbf x}$ \n",
    "2. The corresponding Basic Feasible Set\n",
    "3. The optimal cost"
   ]
  },
  {
   "cell_type": "code",
   "execution_count": 22,
   "metadata": {},
   "outputs": [],
   "source": [
    "def simplex_method(A: matrix, c: np.array, x: np.array, basic: list):\n",
    "    \n",
    "    # clear all\n",
    "    lambda_i_q, q, p, x_q_plus = None, None, None, None\n",
    "    \n",
    "    m, n = A.shape[0], A.shape[1]  # no. of rows, columns of A, respectively\n",
    "    nonbasic = set(range(n)) -set(basic)  # Non-basic index set\n",
    "    \n",
    "    obj = np.dot(c, x)  # Value of obj. function\n",
    "    \n",
    "    optimum = False # boolean for termination\n",
    "    iter = 1 # iteration counter\n",
    "    \n",
    "    \n",
    "    # main iterative loop\n",
    "    \n",
    "    while not optimum:\n",
    "        \n",
    "        # inverse of basic matrix - can be made efficient by updating B_inv\n",
    "        # instead of recomputing in each iteration\n",
    "        B_inv = inv(A[:, basic])\n",
    "        \n",
    "        # step 1: choose index q by Dantzig's rule\n",
    "        lambda_i_q, q = min([((c[q] - c[basic]*B_inv* A[:,q]).item(), q) for q in nonbasic],\n",
    "                         key=(lambda tup: tup[0]))\n",
    "        \n",
    "        optimum = (lambda_i_q >= 0)\n",
    "        \n",
    "        if optimum:\n",
    "            print(\"\\tfound optimum\")\n",
    "            return x, set(basic), obj  # Found optimal solution\n",
    "        \n",
    "        # step 2: calculate leaving index p and x_q_plus\n",
    "        \n",
    "        x_q_plus, p = min([(x[basic][i] / (B_inv[i, :]*A[:, q]).item(), i) for i in range(m) if (B_inv[i, :]*A[:, q]).item() > 0], key=(lambda tup: tup[0]))\n",
    "        \n",
    "        # step 3: update x\n",
    "        \n",
    "        x[basic] = x[basic] - x_q_plus*np.array([(B_inv[i, :] * A[:, q]).item() for i in range(m)])\n",
    "        x[q] = x_q_plus\n",
    "        assert x[basic][p] == 0\n",
    "        \n",
    "        obj = obj + x_q_plus*lambda_i_q\n",
    "        \n",
    "        nonbasic = nonbasic - {q} | {basic[p]}\n",
    "        basic = list(set(range(n)) - nonbasic)\n",
    "        \n",
    "        # print iteration log\n",
    "        \n",
    "        print(\n",
    "            \"Iteration {}: \\tq = {:d} \\tlambda_i_q = {:.2f} \\tp = {:d} \\tx_q_plus = {:.4f} \\tobj = {:.2f}\"\n",
    "                .format(iter, q+1, lambda_i_q, p+1, x_q_plus, obj)\n",
    "        )\n",
    "        \n",
    "        print(\"x = {}\\n\".format(x))\n",
    "        \n",
    "        iter += 1\n",
    "        \n",
    "        # end loop"
   ]
  },
  {
   "cell_type": "code",
   "execution_count": 23,
   "metadata": {},
   "outputs": [
    {
     "name": "stdout",
     "output_type": "stream",
     "text": [
      "Iteration 0:\n",
      "x0 = [1.  0.5 0.  0.5 0. ]\n",
      "\n",
      "Iteration 1: \tq = 5 \tlambda_i_q = -1.00 \tp = 2 \tx_q_plus = 0.5000 \tobj = 1.00\n",
      "x = [1.  0.  0.  1.  0.5]\n",
      "\n",
      "Iteration 2: \tq = 3 \tlambda_i_q = -1.00 \tp = 1 \tx_q_plus = 1.0000 \tobj = 0.00\n",
      "x = [0.  0.  1.  1.  1.5]\n",
      "\n",
      "\tfound optimum\n"
     ]
    }
   ],
   "source": [
    "print(\"Iteration {}:\".format(0))\n",
    "print(\"x0 = {}\\n\".format(x_init))\n",
    "\n",
    "xopt, basic, obj = simplex_method(A, d, x_init, basic_init)"
   ]
  },
  {
   "cell_type": "markdown",
   "metadata": {},
   "source": [
    "### Geometrical interpretation"
   ]
  },
  {
   "cell_type": "markdown",
   "metadata": {},
   "source": [
    "Geometrically speaking, the Simplex method moves along an edge of the feasible polytope that decreases $\\mathbf c^T \\mathbf x$. It continues to move along this edge until a new vertex is encountered. At this vertex, a new constraint $x_p \\ge 0$ must have become active, that is, one of the components $x_p, p \\in T(\\mathbf x)$, has decreased to zero. We then remove this index $p$ from the basis $T(\\mathbf x)$ and replace it by $q$.\n",
    "\n",
    "By looking at the figure below, we can tell that at the initial point, $\\mathbf x^0$, the constraints $x_5 \\ge 0$ and $x_3 \\ge 0$ are active. The optimizer picks $q=5$ as the entering index (as per Dantzig's rule) and $p=2$ as the leaving index. Note that at the the first iterate, $\\mathbf x^1$, the constraints $x_2 \\ge 0$ and $x_3 \\ge 0$ are active.\n",
    "\n",
    "Convince yourself that the above applies to the second step as well!\n",
    "<br>\n",
    "<br>\n",
    "<div>\n",
    "<img src=\"figures\\step.png\" width=\"400\"/>\n",
    "</div>\n",
    "<br>\n",
    "<br>\n",
    "This is the reason that Simplex method is called an active-set method - it approches the minimum via the boundary of the feasible set."
   ]
  },
  {
   "cell_type": "code",
   "execution_count": null,
   "metadata": {},
   "outputs": [],
   "source": []
  }
 ],
 "metadata": {
  "kernelspec": {
   "display_name": "Python 3 (ipykernel)",
   "language": "python",
   "name": "python3"
  },
  "language_info": {
   "codemirror_mode": {
    "name": "ipython",
    "version": 3
   },
   "file_extension": ".py",
   "mimetype": "text/x-python",
   "name": "python",
   "nbconvert_exporter": "python",
   "pygments_lexer": "ipython3",
   "version": "3.10.6"
  }
 },
 "nbformat": 4,
 "nbformat_minor": 4
}

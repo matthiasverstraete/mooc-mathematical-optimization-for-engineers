{
 "cells": [
  {
   "cell_type": "markdown",
   "metadata": {},
   "source": [
    "<div>\n",
    "<img src=\"figures/svtLogo.png\"/>\n",
    "</div>"
   ]
  },
  {
   "cell_type": "markdown",
   "metadata": {},
   "source": [
    "<center><h1>Mathematical Optimization for Engineers</h1></center>\n",
    "<center><h2>Lab 5 - KKT Conditions of Optimality</h2></center>"
   ]
  },
  {
   "cell_type": "markdown",
   "metadata": {},
   "source": [
    "### KKT conditions for equality-constrained problems\n",
    "\n",
    "We consider the following optimization problem \n",
    "\n",
    "$$\\begin{aligned}\n",
    "\\displaystyle \\min_{x_1,x_2} \\;\\; &x_1+x_2 \\\\\n",
    "\\mbox{s.t. } \\; &x_2=x_1 ^2-2.\n",
    "\\end{aligned}$$"
   ]
  },
  {
   "cell_type": "markdown",
   "metadata": {},
   "source": [
    "<u>Task 1</u>: Reformulate the optimization problem with the general nomenclature\n",
    "of the Lecture in terms of $f$ and $c_{i}$."
   ]
  },
  {
   "cell_type": "markdown",
   "metadata": {},
   "source": [
    "<details>\n",
    "<br>\n",
    "The nomenclature from the lecture for general optimization problems is:\n",
    "\n",
    "$$\\begin{aligned}\n",
    "\\min_{\\mathbf {x} \\in \\mathbb R^n} \\quad &f(\\mathbf {x}) \\\\\n",
    "\\mbox{s.t. } \\quad &\\mathbf {c_i}(\\mathbf {x}) \\leq \\mathbf {0} \\quad \\forall i \\in I \\\\\n",
    "&\\mathbf {c_i}(\\mathbf {x}) = \\mathbf {0}  \\quad \\forall i \\in E\n",
    "\\end{aligned}$$\n",
    "\n",
    "Here, we have $\\mathbf {x} = \\left[ \\begin{array}{{c}}\n",
    "                                        x_1 \\\\\n",
    "                                        x_2\n",
    "                                    \\end{array} \\right]$ and $n=2$; $f(x_1,x_2) = x_1 + x_2$ and $c(x_1,x_2)= x_2 - x_1^2+2$ are scalar functions. There are no inequality constraints in this example.\n",
    "</details>"
   ]
  },
  {
   "cell_type": "markdown",
   "metadata": {},
   "source": [
    "<u>Task 2</u>: -   What are the gradients of the objective function and the equality\n",
    "constraint?"
   ]
  },
  {
   "cell_type": "markdown",
   "metadata": {},
   "source": [
    "\n",
    "<br>\n",
    "The gradient of the objective function and the constraint are \n",
    "$\\mathbf \\nabla f(x_1,x_2) = \\left[ \\begin{array}{c}\n",
    "                                            1 \\\\\n",
    "                                            1\n",
    "                            \\end{array}\\right]$ and\n",
    "$\\mathbf \\nabla c(x_1,x_2) = \\left[ \\begin{array}{c}\n",
    "                                            -2x_1 \\\\\n",
    "                                            1\n",
    "                                \\end{array}\\right]$\n"
   ]
  },
  {
   "cell_type": "markdown",
   "metadata": {},
   "source": [
    "<u>Task 3</u>: Sketch the feasible region of the optimization problem for\n",
    "$x_1 \\in [-2,2]$ and $x_2 \\in [-2,3]$; add the contour lines of the\n",
    "objective function; add the direction of the gradients of the\n",
    "objective function and the equality constraint."
   ]
  },
  {
   "cell_type": "markdown",
   "metadata": {},
   "source": [
    "<div>\n",
    "<img src=\"figures/HU52.png\" width=\"300\"/>\n",
    "</div>\n",
    "<br>\n",
    "<br>\n",
    "The feasible points lie on the parabola. The contour lines of the function $f$ are illustrated by the dotted parallel lines. The gradient of $f$ is perpendicular to the contour lines and points in the direction of strongest increase of the objective function. The gradients of $c$ are also perpendicular to the graph of $c$. Note, that if we formulated the constraint $c$ as\n",
    "\n",
    "$$ c(x_1,x_2)=-x_2+x_1^2-2$$ \n",
    "\n",
    "the gradients would point in the opposite direction. From the figure, we know that the minimum is at that point of the parabola, where the gradient of $c$ points in exactly the same direction as the gradient of $f$."
   ]
  },
  {
   "cell_type": "markdown",
   "metadata": {},
   "source": [
    "<u>Task 4</u>: Set up the Langrangian function for this optimization problem"
   ]
  },
  {
   "cell_type": "markdown",
   "metadata": {},
   "source": [
    "\n",
    "<br>\n",
    "The general Lagrangian function $L$ is defined as\n",
    "\n",
    "$$L (\\mathbf {x}, \\mathbf {\\lambda}) = f(\\mathbf {x}) + \\mathbf {\\lambda^T} \\mathbf {c}(\\mathbf {x})$$\n",
    "\n",
    "And in our case, the Lagrangian function $L$ is\n",
    "\n",
    "$$L (x_1,x_2,\\lambda) = x_1 + x_2 + \\lambda (x_2 - x_1^2+2)$$ \n",
    "\n",
    "$\\lambda \\in \\mathbb R$ is the Lagrange multiplier with respect to the equality constraint. \n",
    "       \n"
   ]
  },
  {
   "cell_type": "markdown",
   "metadata": {},
   "source": [
    "<u>Task 5</u>: Write down the KKT-conditions with respect to this optimization\n",
    "problem"
   ]
  },
  {
   "cell_type": "markdown",
   "metadata": {},
   "source": [
    "<details>\n",
    "<br>\n",
    "The KKT-conditions of a general optimization problem are\n",
    "\n",
    "$$\\begin{aligned}\n",
    "\\nabla_{\\mathbf {x}} L(\\mathbf {x},\\mathbf {\\lambda}) & = \\mathbf {{0}}       \\\\\n",
    "\\mathbf {c}_i(\\mathbf {x}) & \\leq  \\mathbf {0}  \\quad   i \\in I            \\\\\n",
    "\\mathbf {c}_i(\\mathbf {x}) & =     \\mathbf {0}  \\quad  i \\in E    \\\\\n",
    "\\mathbf {\\lambda_{i} } & \\geq  0       \\quad \\forall i \\in I          \\\\\n",
    "\\lambda_i \\cdot c_i(\\mathbf {x}) & =     0 \\quad \\forall i \\in I\n",
    "\\end{aligned}$$\n",
    "<br>\n",
    "<br>\n",
    "In our case, stationarity is\n",
    "\n",
    "$$\\left[\\begin{array}{c}\n",
    "    1 \\\\\n",
    "    1\n",
    "\\end{array}\\right]\n",
    "+ \\lambda \\cdot\n",
    "\\left[\\begin{array}{cc}\n",
    "-2x_1 &  \\\\\n",
    "1   &\n",
    "\\end{array}\\right]\n",
    "= \\left[\\begin{array}{cc}\n",
    "0 \\\\\n",
    "0 \\\\\n",
    "\\end{array}\\right]$$\n",
    "\n",
    "This leads to two equations, we have to solve, namely\n",
    "\n",
    "\\(I\\) $1 - 2 \\lambda x_1 = 0$\n",
    "\n",
    "\\(II\\) $1 + \\lambda = 0 \\Rightarrow \\lambda = -1$\n",
    "\n",
    "Since we do not have any inequality constraints. Primal fesibility reduces to\n",
    "\n",
    "\\(III\\) $x_2 - x_1^2 + 2 = 0$\n",
    "\n",
    "Dual feasibility and complementarity slackness are similarly non-existent in this case.\n",
    "</details>"
   ]
  },
  {
   "cell_type": "markdown",
   "metadata": {},
   "source": [
    "<u>Task 6</u>: Solve manually the KKT-conditions for $x_1$, $x_2$ and the Lagrange\n",
    "multiplier."
   ]
  },
  {
   "cell_type": "markdown",
   "metadata": {},
   "source": [
    "<br>\n",
    "We have three equations and three unknown variables. By inserting\n",
    "(II) in (I), we get $x_1 = -\\frac{1}{2}$. Afterwards, we can solve (III)\n",
    "for $x_2$, which leads to\n",
    "$x_2 = -2 + \\frac{1}{4} = -1.75$. \n",
    "<br>\n",
    "As you see, in this case, $\\lambda$ is negative. If we had written the equality constraint as\n",
    "\n",
    "$$ c(x_1,x_2)=-x_2+x_1^2-2=0$$\n",
    "\n",
    "$\\lambda$ would be positive. This is the reason, why dual feasibility\n",
    "\n",
    "$$\\begin{aligned}\n",
    "\\lambda_i & \\geq  0     \\quad \\forall i \\in I            \\\\\n",
    "\\lambda_i \\cdot c_i(\\mathbf {x}) & =     0 \\quad \\forall i \\in I\n",
    "\\end{aligned}$$\n",
    "\n",
    "makes sense for only inequality constraints and not for equality constraints. "
   ]
  },
  {
   "cell_type": "markdown",
   "metadata": {},
   "source": [
    "<u>Task 7</u>: Solve numerically (with `fsolve` from scipy.optimize) the KKT-conditions for\n",
    "$x_1$, $x_2$ and the Lagrange multiplier."
   ]
  },
  {
   "cell_type": "code",
   "execution_count": 1,
   "metadata": {
    "scrolled": true
   },
   "outputs": [
    {
     "name": "stdout",
     "output_type": "stream",
     "text": [
      "x1 = -0.50 \n",
      "x2 = -1.75 \n",
      "l = -1.00\n"
     ]
    }
   ],
   "source": [
    "from scipy import optimize as opt\n",
    "import numpy as np\n",
    "\n",
    "def kkt_conditions(y):\n",
    "    conds = np.zeros(len(y))\n",
    "    x1 = y[0]\n",
    "    x2 = y[1]\n",
    "    l = y[2]\n",
    "    \n",
    "    conds[0] = 1 - 2*l*x1\n",
    "    conds[1] = 1 + l\n",
    "    conds[2] = x2 - x1**2 + 2\n",
    "    return conds\n",
    "    \n",
    "\n",
    "y0 = np.array([-1.0, -1.0, -1.0]) # initial guess \n",
    "\n",
    "res = opt.fsolve(kkt_conditions, y0, full_output=False)\n",
    "\n",
    "print (\"x1 = {:.2f} \\nx2 = {:.2f} \\nl = {:.2f}\".format(res[0],res[1],res[2]))"
   ]
  },
  {
   "cell_type": "markdown",
   "metadata": {},
   "source": [
    "### KKT conditions for inequality-constrained problems\n",
    "\n",
    "We consider the following optimization problem \n",
    "\n",
    "$$\\begin{aligned}\n",
    "\\displaystyle \\min_{x_1,x_2} \\quad &x_1+x_2 \\\\\n",
    "\\mbox{s.t. } \\; &x_1 \\geq -2 \\\\\n",
    "&x_2  \\geq -2\n",
    "\\end{aligned}$$"
   ]
  },
  {
   "cell_type": "markdown",
   "metadata": {},
   "source": [
    "<u>Task 1</u>: Reformulate the optimization problem with the general nomenclature\n",
    "of the Lecture in terms of $f$ and $c_{i}$."
   ]
  },
  {
   "cell_type": "markdown",
   "metadata": {},
   "source": [
    "\n",
    "<br>\n",
    "With the nomenclature introduced before, we can write\n",
    "$\\mathbf x = \\left[ \\begin{array}{{c}}\n",
    "                                        x_1 \\\\\n",
    "                                        x_2\n",
    "                                    \\end{array} \\right]$ and $n=2$,\n",
    "$f(\\mathbf x) = x_1 + x_2$ and\n",
    "${ \\mathbf c(\\mathbf x)}= \\left( \\begin{array}{{c}}\n",
    "                                                                                                                                         -x_1 - 2 \\\\\n",
    "                                                                                                                                         -x_2 - 2\n",
    "                                                                                                                                     \\end{array} \\right)$. \n",
    "\n",
    "There are no equality constraints in this case.\n"
   ]
  },
  {
   "cell_type": "markdown",
   "metadata": {},
   "source": [
    "<u>Task 2</u>: -   What are the gradients of the objective function and the inequality\n",
    "constraints?"
   ]
  },
  {
   "cell_type": "markdown",
   "metadata": {},
   "source": [
    "\n",
    "<br>\n",
    "The gradient of the objective function is\n",
    "$\\nabla f(\\mathbf x) = \\left[ \\begin{array}{c}\n",
    "                                            1 \\\\\n",
    "                                            1 \\\\\n",
    "                            \\end{array}\\right]$ and the gradients of the constraints are\n",
    "$\\nabla c_1(\\mathbf x) = \\left[ \\begin{array}{c}\n",
    "                                            -1 \\\\\n",
    "                                            0 \\\\\n",
    "                            \\end{array}\\right]$ and\n",
    "$\\nabla c_2(\\mathbf x) = \\left[ \\begin{array}{c}\n",
    "                                            0 \\\\\n",
    "                                            -1 \\\\\n",
    "                            \\end{array}\\right]$\n"
   ]
  },
  {
   "cell_type": "markdown",
   "metadata": {},
   "source": [
    "<u>Task 3</u>: -   Sketch the feasible region of the optimization problem for\n",
    "$x_1 \\in [-3,1]$ and $x_2 \\in [-3,1]$; add the contour lines of the\n",
    "objective function; add the direction of the gradients of the\n",
    "objective function and the inequality constraints."
   ]
  },
  {
   "cell_type": "markdown",
   "metadata": {},
   "source": [
    "\n",
    "<img src=\"figures\\HU51.png\" width=\"300\"/>\n",
    "</div>\n",
    "The gradients of the constraints are illustrated by arrows pointing out of the\n",
    "feasible set. The contour lines of the function $f$ are illustrated by the dotted parallel lines. The gradient of $f$ is perpendicular to the contour lines and points in the direction of strongest increase of the objective function. So, where is the minimum of this optimization problem?\n",
    "\n",
    "Clearly, it is at the point $\\mathbf { x} = \\left[ \\begin{array}{{c}}\n",
    "                                        -2 \\\\\n",
    "                                        -2\n",
    "                                    \\end{array} \\right]$."
   ]
  },
  {
   "cell_type": "markdown",
   "metadata": {},
   "source": [
    "<u>Task 4</u>: Set up the Langrangian function for this optimization problem"
   ]
  },
  {
   "cell_type": "markdown",
   "metadata": {},
   "source": [
    "\n",
    "<br>\n",
    "$$\\begin{aligned}\n",
    "        L (x_1,x_2,\\lambda_1,\\lambda_2) = x_1 + x_2 + \\lambda_1 (-x_1 - 2) + \\lambda_2 (-x_2 - 2)\n",
    "\\end{aligned}$$\n",
    "        \n",
    "Note, that we have two Lagrange multipliers ($\\lambda_1$ and\n",
    "$\\lambda_2$), since we have two constraints.\n",
    "       "
   ]
  },
  {
   "cell_type": "markdown",
   "metadata": {},
   "source": [
    "<u>Task 5</u>: Write down the KKT-conditions with respect to this optimization\n",
    "problem"
   ]
  },
  {
   "cell_type": "markdown",
   "metadata": {},
   "source": [
    "\n",
    "<br>\n",
    "<u>Stationarity</u>: $\\left[\\begin{array}{c}\n",
    "                        1  \\\\\n",
    "                        1  \\\\\n",
    "                \\end{array}\\right] +\n",
    "                \\left[\\begin{array}{cc}\n",
    "                        -1 & 0 \\\\\n",
    "                        0 & -1 \\\\\n",
    "                \\end{array}\\right] \\cdot \\left( \\begin{array}{{c}}\n",
    "                                                                        \\lambda_1 \\\\\n",
    "                                                                        \\lambda_2\n",
    "                                                                 \\end{array} \\right) =\n",
    "                \\left[\\begin{array}{c}\n",
    "                        0 \\\\\n",
    "                        0 \\\\\n",
    "                \\end{array}\\right]$\n",
    "\n",
    "This leads to two equations, which have to be satisfied\n",
    "\n",
    "(I): $1 - \\lambda_1 = 0 \\Rightarrow \\lambda_1 = 1$\n",
    "\n",
    "(II): $1 - \\lambda_2 = 0\\Rightarrow \\lambda_2 = 1$\n",
    "\n",
    "<u>Primal feasibilty</u> means that the constraints $\\mathbf {c}_I(x_1,x_2)$ have to\n",
    "be fulfilled, namely\n",
    "\n",
    "(III): $x_1 + 2 \\geq 0$\n",
    "\n",
    "(IV): $x_2 + 2 \\geq 0$\n",
    "\n",
    "<u>Dual feasibilty</u>:\n",
    "\n",
    "(V-VI): $\\lambda_1, \\lambda_2 \\geq 0$\n",
    "    \n",
    "<u>Complementarity slackness</u>:    \n",
    "    \n",
    "(VII-VIII): $\\lambda_1 (-x_1 - 2) = 0, \\lambda_2 (-x_2 - 2) = 0$"
   ]
  },
  {
   "cell_type": "markdown",
   "metadata": {},
   "source": [
    "<u>Task 6</u>: Solve manually the KKT-conditions for $x_1$, $x_2$ and the Lagrange\n",
    "multiplier."
   ]
  },
  {
   "cell_type": "markdown",
   "metadata": {},
   "source": [
    "<details>\n",
    "<br>\n",
    "Note, that from equations (I) and (II) both Lagrange multipliers are equal to 1.\n",
    "\n",
    "Thus, from VII-VIII, both constraints are active.\n",
    "    \n",
    "It follows from (VII), that $x_1 = -2$. Similarily, from (VIII), $x_2 = -2$. \n",
    "</details>"
   ]
  },
  {
   "cell_type": "markdown",
   "metadata": {},
   "source": [
    "### A degenerate case\n",
    "\n",
    "We consider the following optimization problem \n",
    "\n",
    "$$\\begin{aligned}\n",
    "\\displaystyle \\min_{x_1,x_2} \\quad &x_1 \\\\\n",
    "\\mbox{s.t. } \\;  &x_{2} \\leq 0 \\\\\n",
    "&x_{1}^{2} - x_{2} \\leq 0\\,.\n",
    "\\end{aligned}$$"
   ]
  },
  {
   "cell_type": "markdown",
   "metadata": {},
   "source": [
    "<u>Task 1</u>: Write down the KKT-conditions with respect to this optimization\n",
    "problem"
   ]
  },
  {
   "cell_type": "markdown",
   "metadata": {},
   "source": [
    "\n",
    "<br>\n",
    "\n",
    "$$L(\\mathbf {x},\\mathbf {\\lambda}) \\; = \\; x_1 + \\lambda_1 x_2 + \\lambda_2 (x_1^2 - x_2)$$\n",
    "KKT conditions:\n",
    "$$\\begin{aligned}\n",
    "\\nabla_{{x_1}}L \\; &= \\; 1 + 2x_1\\lambda_2 = 0\\\\\n",
    "\\nabla_{{x_2}}L \\; &= \\; \\lambda_1 - \\lambda_2 = 0 \\\\\n",
    "x_2 \\; &\\leq \\; 0 \\\\\n",
    "x_1^2 - x_2 \\; &\\leq \\; 0\\\\\n",
    "\\lambda_1 \\cdot x_2 \\; &= \\; 0\\\\\n",
    "\\lambda_2 \\cdot (x_1^2-x_2) \\; &= \\; 0\n",
    "\\end{aligned}$$"
   ]
  },
  {
   "cell_type": "markdown",
   "metadata": {},
   "source": [
    "<u>Task 2</u>: Solve manually the KKT-conditions for $x_1$, $x_2$ and the Lagrange\n",
    "multipliers."
   ]
  },
  {
   "cell_type": "markdown",
   "metadata": {},
   "source": [
    "<details>\n",
    "<br>\n",
    "The system of equations above has no solution. We can see, for example,\n",
    "\n",
    "$\\lambda_1 = \\lambda_2$ from stationarity (see above)\n",
    "\n",
    "Consider the two possible cases:\n",
    "\n",
    "1.  $\\lambda = 0 \\implies 1= 0$ (stationarity)\n",
    "<br>\n",
    "<br>\n",
    "2.  $\\lambda > 0 \\implies x_1,x_2=0$ (complementatrity) <br>\n",
    "$ \\quad \\quad \\; \\implies 1= 0 \\quad \\quad$ (stationarity) \n",
    "\n",
    "We cannot solve the equation system as the rows of the constraint Jacobian are <u>linearly dependent</u> at the isolated feasible point: \n",
    "\n",
    "$$\\begin{aligned}\n",
    "    \\text{Jacobian }(x_1,x_2) = \n",
    "\\begin{bmatrix}\n",
    "0 \\quad &1 \\\\\n",
    "2x_1 \\quad &-1 \n",
    "\\end{bmatrix}\\\\\n",
    "\\\\\n",
    "\\text{Jacobian }(0,0) = \\begin{bmatrix}\n",
    "0 \\quad &1 \\\\\n",
    "0 \\quad &-1 \n",
    "\\end{bmatrix}\n",
    "\\end{aligned}$$\n",
    "</details> \n",
    "</details>"
   ]
  },
  {
   "cell_type": "markdown",
   "metadata": {},
   "source": [
    "<u>Task 3</u>: Sketch the feasible region of the optimization problem; add the contour lines of the\n",
    "objective function; add the direction of the gradients of the objective function and the constraints. Where is the optimum?"
   ]
  },
  {
   "cell_type": "code",
   "execution_count": 3,
   "metadata": {
    "scrolled": true
   },
   "outputs": [
    {
     "data": {
      "image/png": "[encoded data removed]",
      "text/plain": [
       "<Figure size 432x288 with 1 Axes>"
      ]
     },
     "metadata": {
      "needs_background": "light"
     },
     "output_type": "display_data"
    }
   ],
   "source": [
    "import numpy as np\n",
    "import matplotlib.pyplot as plt\n",
    "\n",
    "# plot the feasible region\n",
    "d = np.linspace(-3,3,300)\n",
    "x,y = np.meshgrid(d,d)\n",
    "fig, ax = plt.subplots()\n",
    "\n",
    "plt.imshow(((y<=0)).astype(int) , \n",
    "                extent=(x.min(),x.max(),y.min(),y.max()),origin=\"lower\", cmap=\"Greys\", alpha = 0.3);\n",
    "# plot the lines defining the constraints\n",
    "x = np.linspace(-2, 2, 500)\n",
    "y = np.linspace(-1, 2, 500)\n",
    "\n",
    "y1 = x**2\n",
    "y2 = 4*np.ones_like(x)\n",
    "ax.fill_between(x, y1, y2, where=y1 <= y2, facecolor='green', interpolate=True)\n",
    "\n",
    "for i in range(-2,3): \n",
    "    plt.plot(i*np.ones(len(np.arange(-3,5))), np.arange(-3,5), '--')\n",
    "plt.ylim([-3,4])\n",
    "plt.xlabel(r'$x1$')\n",
    "plt.ylabel(r'$x2$')\n",
    "plt.show()"
   ]
  },
  {
   "cell_type": "markdown",
   "metadata": {},
   "source": [
    "The green shaded feasible area and the grey shaded area do not overlap, but only touch at the origin. \n",
    "The gradients are anti-parallel at this point and therefore, the rows of the Jacobian are linearly dependent. The KKT conditions, thus, cannot help to identify this point as optimal point. "
   ]
  },
  {
   "cell_type": "code",
   "execution_count": null,
   "metadata": {},
   "outputs": [],
   "source": []
  }
 ],
 "metadata": {
  "kernelspec": {
   "display_name": "Python 3 (ipykernel)",
   "language": "python",
   "name": "python3"
  },
  "language_info": {
   "codemirror_mode": {
    "name": "ipython",
    "version": 3
   },
   "file_extension": ".py",
   "mimetype": "text/x-python",
   "name": "python",
   "nbconvert_exporter": "python",
   "pygments_lexer": "ipython3",
   "version": "3.10.6"
  }
 },
 "nbformat": 4,
 "nbformat_minor": 4
}

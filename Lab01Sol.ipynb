{
 "cells": [
  {
   "cell_type": "markdown",
   "metadata": {},
   "source": [
    "<div>\n",
    "<img src=\"figures/svtLogo.png\"/>\n",
    "</div>"
   ]
  },
  {
   "cell_type": "markdown",
   "metadata": {},
   "source": [
    "<center><h1>Mathematical Optimization for Engineers</h1></center>\n",
    "<center><h2>Lab 1</h2></center>\n",
    "$ \\def\\euro{\\unicode{x20AC}} $\n",
    "\n",
    "In this notebook, we will formulate the following optimization problem:\n",
    "\n",
    "The system shown in the figure below, is used for the production of vapor and electrical energy.\n",
    "<br>\n",
    "<br>\n",
    "<br>\n",
    "<div>\n",
    "<img src=\"figures/evaporator.png\" width=\"600\"/>\n",
    "</div>\n",
    "\n",
    "<br>\n",
    "<br>\n",
    "\n",
    "Two turbines are thereby employed:\n",
    "\n",
    "1. The first turbine expands in 3 stages: passing two intermediate flows $HE_1$ and $LE_1$, and the condensate flow $C$ in the final stage. \n",
    "<br>\n",
    "<br>\n",
    "2. The second turbine expands in 2 stages: passing one intermediate flow $HE_2$ and one outflow $LE_2$. \n",
    "\n",
    "Three pressure levels of the vapor are denoted by HPS, MPS and LPS (high, medium and low pressure sides, respectively). See the legend next to the figure for more details.\n",
    "<br>\n",
    "<br>\n",
    "The power output from the plant must be 24.5 MW (cf. Table 1 below). However, it is not clear, given all the operational constraints in Tables 1-5, how much power the plant can produce.\n",
    "\n",
    "Therefore, additional power $EP$ is purchased from an external provider. The provider has been assured that the purchased power will not be less than 12 MW. In case a lower amount is purchased, the part which is <u>not</u> purchased will be billed by the so-called 'demand penalty'.\n",
    "\n",
    "<u>Problem statement</u>:\n",
    "\n",
    "Formulate an optimization problem to determine the optimal plant operating point having the <b>minimal operational costs</b> in $\\euro/h$.\n",
    "\n",
    "<i>Plant operating point</i>, in simple words, means the values of all the physical quantities listed in the figure. For example, how much power is being produced by the two turbines ($P_1$ and $P_2$); how much additional power $EP$ is being purchased; what are the HPS, MPS and LPS flowrates; how much fuel is being consumed - to name a few.\n",
    "\n",
    "Since it is not clear, whether it would be cheaper to <br>\n",
    "(a) Purchase at least 12 MW additional power and avoid demand penalty or<br>\n",
    "(b) Purchase less than 12 MW additional power and pay demand penalty\n",
    "\n",
    "you need to look at both cases and find out the cheaper option.\n",
    "\n",
    "\n",
    "All required data to formulate the problem is given in the tables below."
   ]
  },
  {
   "cell_type": "markdown",
   "metadata": {},
   "source": [
    "| Resource         |     Minimum Demand|\n",
    "|:-----------------|------------------:|\n",
    "| MPS              | 123 000 kg/h |\n",
    "| LPS              | 45 000 kg/h  |\n",
    "| Output power | 24.5 MW      |\n",
    "\n",
    "<br>\n",
    "<center><b>Table 1: Demand data</b>"
   ]
  },
  {
   "cell_type": "markdown",
   "metadata": {},
   "source": [
    "|                                     |       |\n",
    "|:------------------------------------|:------|\n",
    "| Cost of fuel \\[$\\euro$/10<sup>6</sup>kJ\\]     | 1.5   |\n",
    "| Cost of condensate loss \\[$\\euro$/Kg\\]             | 0.008 |\n",
    "| Cost of produced electrical power \\[$\\euro$/kWh\\]  | 0.02  |\n",
    "| Cost of purchased electrical power \\[$\\euro$/kWh\\] | 0.05  |\n",
    "| Demand penalty \\[$\\euro$/kWh\\]             | 0.001 |\n",
    "\n",
    "<br>\n",
    "<center><b>Table 2: Price data</b>"
   ]
  },
  {
   "cell_type": "markdown",
   "metadata": {},
   "source": [
    "| Parameters                    | Turbine 1 | Turbine 2 |\n",
    "|:------------------------------|:----------|:----------|\n",
    "| Max. power \\[kW\\]             | 6250      | 9000      |\n",
    "| Min. power \\[kW\\]             | 2500      | 3000      |\n",
    "| Max. inflow \\[kg/h\\]          | 87 000    | 110 000   |\n",
    "| Max. LPS-flow \\[kg/h\\]        | \\-        | 64 000    |\n",
    "| Max. condensate flow \\[kg/h\\] | 28 000    | \\-        |\n",
    "| Max. internal flow \\[kg/h\\]   | 60 000    | \\-        |\n",
    "\n",
    "<br>\n",
    "<center><b>Table 3: Turbine data</b>"
   ]
  },
  {
   "cell_type": "markdown",
   "metadata": {},
   "source": [
    "| Stage        | Enthalpy \\[kJ/kg\\] |\n",
    "|:-------------------|-------------------:|\n",
    "| HPS                | 3163               |\n",
    "| MPS                | 2949               |\n",
    "| LPS                | 2911               |\n",
    "| Condensate         | 449                |\n",
    "\n",
    "<br>\n",
    "<center><b>Table 4: Working fluid data</b>"
   ]
  },
  {
   "cell_type": "markdown",
   "metadata": {},
   "source": [
    "|                                     |       |\n",
    "|:------------------------------------|:------|\n",
    "| Evaporator efficiency               | 0.75  |\n",
    "| Turbine efficiencies               | 1.0  |\n",
    "| Basic additional power \\[MW\\]                  | 12    |\n",
    "\n",
    "<br>\n",
    "<center><b>Table 5: Miscellaneous</b>"
   ]
  },
  {
   "cell_type": "markdown",
   "metadata": {},
   "source": [
    "<u>Task 1</u>: First of all, think why do we need optimization here. Is it obvious, what the optimial operating point is?"
   ]
  },
  {
   "cell_type": "markdown",
   "metadata": {},
   "source": [
    "<details>\n",
    "<br>\n",
    "<u>Answer</u>: We need optimization because there are trade-offs. One of the easiest ones that can be identified is whether it'd be cheaper to avoid the demand penalty or pay it?\n",
    "\n",
    "Another example is $P_1$ vs $P_2$: how much should each turbine contribute to the the total power produced, such that operational costs are minimal and the all the constraints are met?\n",
    "\n",
    "So, it is not obvious what the optimial operating point is.\n",
    "</details>"
   ]
  },
  {
   "cell_type": "markdown",
   "metadata": {},
   "source": [
    "<u>Task 2</u>: Identify the variables of the optimization problem."
   ]
  },
  {
   "cell_type": "markdown",
   "metadata": {},
   "source": [
    "\n",
    "<br>\n",
    "<u>Answer</u>: One possible collection of optimization variables is:<br>\n",
    "<br>\n",
    "$\\mathbf{x}^T$ = ($I_1$, $I_2$, $HE_1$, $HE_2$, $LE_1$, $LE_2$, $C$, $BF_1$, $BF_2$, $HPS$, $MPS$, $LPS$, $P_1$, $P_2$, $PP$, $EP$, $OutputPower$, $Fuel$), <br>\n",
    "where $\\mathbf{x}\\in \\mathbf{R}^{18}$.\n",
    "<br>\n",
    "<br>\n",
    "Basically, we selected everything that we see in the figure. However, this selection is not unique. For example, the variables $PP$ or $OutputPower$ could be eliminated.\n"
   ]
  },
  {
   "cell_type": "markdown",
   "metadata": {},
   "source": [
    "<u>Task 3</u>: Formulate the objective functions for the two cases:<br>\n",
    "<br>\n",
    "(a) $\\quad$ If $EP \\ge 12000$ [kW] <br>\n",
    "<br>\n",
    "(b) $\\quad$ If $0  \\le EP \\lt 12000$ [kW]\n",
    "<br>\n",
    "<br>\n",
    "<i>Hint: The objective function comprises the sum of all operational costs and the demand penalty, if applicable. </i>"
   ]
  },
  {
   "cell_type": "markdown",
   "metadata": {},
   "source": [
    "<details>\n",
    "<br>\n",
    "<u>Answer</u>: \n",
    "\n",
    "1.  &emsp; IF &emsp; $EP \\ge 12000$ kW\n",
    "\n",
    "$$\\begin{aligned}\n",
    "      J_a \\quad = \\quad &\\text{cost of the fuel consumed . }Fuel\\\\\n",
    "                      &+ \\quad \\text{cost of the lost condensate . }C\\\\\n",
    "                      &+ \\quad \\text{cost of the produced power . }PP\\\\\n",
    "                      &+ \\quad \\text{cost of the additional power . }EP\\\\\n",
    "                      & \\\\\n",
    "                      = \\quad &c_{Fuel}Fuel + c_{C}C + c_{PP}PP + c_{EP}EP\n",
    "\\end{aligned}$$\n",
    "\n",
    "\n",
    "2.  &emsp; IF &emsp; $0  \\le EP \\lt 12000$ kW\n",
    "\n",
    "$$\\begin{aligned}\n",
    "      J_b \\quad = \\quad &\\text{cost of the fuel consumed . }Fuel\\\\\n",
    "                      &+ \\quad \\text{cost of the lost condensate . }C\\\\\n",
    "                      &+ \\quad \\text{cost of the produced power . }PP\\\\\n",
    "                      &+ \\quad \\text{cost of the additional power . }EP\\\\\n",
    "                      &+ \\quad \\text{demand penalty . }(12000-EP)\\\\\n",
    "                      & \\\\                      \n",
    "                      = \\quad &c_{Fuel}Fuel + c_{C}C + c_{PP}PP + (c_{EP}-c_{DP})EP+ c_{DP}12000\n",
    "\\end{aligned}$$\n",
    "<br>\n",
    "<br>\n",
    "Note that, $c_{Fuel}=1.5$ x $10^{-6}$ ($\\euro$/kJ)\n",
    "\n",
    "Other values are given in Table 2.\n",
    "<br>\n",
    "<br>\n",
    "1.  &emsp; IF &emsp; $EP \\ge 12000$ kW\n",
    "\n",
    "&emsp; &emsp; $J(\\mathbf{x}) \\quad = \\quad 1.5$ x $10^{-6}\\:Fuel + \\quad 0.008\\:C+ \\quad 0.02\\:PP + \\quad 0.05\\:EP$\n",
    "<br>\n",
    "<br>\n",
    "2.  &emsp; IF &emsp; $0  \\le EP \\lt 12000$ kW\n",
    "\n",
    "&emsp; &emsp; $J(\\mathbf{x}) \\quad = \\quad 1.5$ x $10^{-6}\\:Fuel + \\quad 0.008\\:C+ \\quad 0.02\\:PP + \\quad 0.05\\:EP + \\quad 0.001\\:(12000-EP)$\n",
    "<br>\n",
    "<br>\n",
    "&emsp; &emsp; ($J$ in $\\euro$/h)\n",
    "\n",
    "</details>"
   ]
  },
  {
   "cell_type": "markdown",
   "metadata": {},
   "source": [
    "<u>Task 4</u>: Using the data from Tables 1-5, write down all the mass and energy balances in the system (in other words, write down the model of the system).\n",
    "\n",
    "<i>Hint: Some of the model equations are:\n",
    "<br>\n",
    "<br>\n",
    "$\\quad$ Mass balances like $\\quad HPS = I_1 + I_2 + BF_1$\n",
    "<br>\n",
    "<br>\n",
    "$\\quad$ Energy balances like $\\quad 3163\\,I_1 = 2949\\,HE_1 + 2911\\,LE_1 + 449\\,C + 3600\\,P_1$"
   ]
  },
  {
   "cell_type": "markdown",
   "metadata": {},
   "source": [
    "\n",
    "<br>\n",
    "<u>Model:</u>\n",
    "\n",
    "  <u>Mass balances:</u>\n",
    "\n",
    "|                                                   |        |\n",
    "|:--------------------------------------------------|-------:|\n",
    "|$HPS = I_1 + I_2 + BF_1$           |(MB1)|\n",
    "|$I_1 = HE_1 + LE_1 + C$            |(MB2)|\n",
    "|$I_2 = HE_2 + LE_2$                |(MB3)|\n",
    "|$HE_1 + HE_2 + BF_1 = BF_2 +MPS$   |(MB4)|\n",
    "|$LPS = LE_1 + LE_2 + BF_2$         |(MB5)|\n",
    "\n",
    "  <u>Energy balances:</u>\n",
    "  \n",
    "|                                                                                       |        |\n",
    "|:--------------------------------------------------------------------------------------|-------:|\n",
    "|$3163 I_1 = 2949 HE_1 + 2911 LE_1 + 449 C + 3600 P_1$                             |(EB1)|\n",
    "|$3163  I_2 = 2949 HE_2 + 2911 LE_2 + 3600 P_2$                                    |(EB2)|\n",
    "|$PP = P_1 + P_2$                                                                  |(EB3)|\n",
    "|$OutputPower = PP + EP$                                                                 |(EB4)|\n",
    "|$\\text{Enthalpy_of_HPS} \\cdot HPS = \\text{Evaporator_Efficiency} \\cdot Fuel$      |(EB5)|\n",
    "\n",
    "<br>\n",
    "<br>\n",
    "$P_1$ and $P_2$ are in kW: 1 kW $= 1 \\frac{kJ}{s} = 3600 \\frac{kJ}{h}$\n"
   ]
  },
  {
   "cell_type": "markdown",
   "metadata": {},
   "source": [
    "<u>Task 5</u>: Complete the problem formulation by considering all remaining constraints and upper and lower bounds on variables.\n",
    "\n",
    "<i>Hint: Upper and lower bounds on variables such as:\n",
    "<br>\n",
    "<br>\n",
    "$\\quad$ $2500 \\le  P_1 \\le 6250$</i>"
   ]
  },
  {
   "cell_type": "markdown",
   "metadata": {},
   "source": [
    "\n",
    "<br>\n",
    "<u>Inequality constraints:</u>  \n",
    "  \n",
    "|         |                 |                         |         |           |           |\n",
    "|:-------:|:---------------:|:-----------------------:|:-------:|:---------:|:---------:|\n",
    "|         |                 |   $I_1 - HE_1$          |$\\le$   |60000     |(IC1)|\n",
    "|         |                 | $P_1 + P_2 + EP$        |$\\ge$   |24500     |(IC2)|\n",
    "    \n",
    "<br>\n",
    "<u>Bounds:</u>\n",
    "    \n",
    "|         |                 |                         |         |           |           |\n",
    "|:-------:|:---------------:|:-----------------------:|:-------:|:---------:|:---------:|\n",
    "|   2500  |     $\\le$       |      $P_1$              |$\\le$   | 6250     |(BND1)|\n",
    "|         |                 |     $I_1$               |$\\le$   |87000     |(BND2)|\n",
    "|         |                 |       $C$               |$\\le$   |28000     |(BND3)|\n",
    "|   3000  |     $\\le$       |      $P_2$              |$\\le$   |9000      |(BND4)|\n",
    "|         |                 |      $I_2$              |$\\le$   |110000    |(BND5)|\n",
    "|         |                 |      $LE_2$             |$\\le$   |64000     |(BND6)|\n",
    "|         |                 |      $MPS$              |$\\ge$   |123000    |(BND7)|\n",
    "|         |                 |      $LPS$              |$\\ge$   |45000     |(BND8)|\n",
    "\n",
    "<br>    \n",
    "<center>all optimization variables shall be non-negative, i.e., $\\ge 0$ (BND9)</center>\n",
    "\n",
    "|         |                 |                         |         |           |           |\n",
    "|:-------:|:---------------:|:-----------------------:|:-------:|:---------:|:---------:|\n",
    "|         | either case a)  |       $EP$              |$\\ge$   |12000     |(BND10a)|\n",
    "|         |  or case b)     |      $EP$               |$\\lt$   |12000     |(BND10b)|\n",
    "\n",
    "<br>\n",
    "Note: (IC2) can also be written as a bound $OutputPower \\ge 24500$.\n",
    "<br>\n",
    "<br>\n",
    "<u>Complete optimization problem:</u><br>\n",
    "<br>\n",
    "Case (a):\n",
    "\n",
    "$$\\min_{\\mathbf x} \\quad J_a(\\mathbf{x})$$\n",
    "    \n",
    "|                                           |               |\n",
    "|:-----------------------------------------:|:-------------:|\n",
    "|       s.t.      |      (MB1)-(MB5)   |\n",
    "|                             |      (EB1)-(EB5)   |\n",
    "|                             |      (IC1)- (IC2)   |\n",
    "|                             |      (BND1)- (BND9)   |\n",
    "|                             |      (BND10a)   |\n",
    "\n",
    "<br>\n",
    "Case (b):\n",
    "\n",
    "$$\\min_{\\mathbf x} \\quad J_b(\\mathbf{x})$$\n",
    "\n",
    "|                                           |               |\n",
    "|:-----------------------------------------:|:-------------:|\n",
    "|       s.t.      |      (MB1)-(MB5)   |\n",
    "|                             |      (EB1)-(EB5)   |\n",
    "|                             |      (IC1)- (IC2)   |\n",
    "|                             |      (BND1)- (BND9)   |\n",
    "|                             |      (BND10b)   |\n"
   ]
  },
  {
   "cell_type": "markdown",
   "metadata": {},
   "source": [
    "<u>Task 6:</u> Which class of optimization problems did we work with?"
   ]
  },
  {
   "cell_type": "markdown",
   "metadata": {},
   "source": [
    "<details>\n",
    "<br>\n",
    "<u>Classification of the problem:</u>\n",
    "\n",
    "We have a linear optimization problem, also called a Linear Program (LP), since in both cases we have a linear objective function <u>and</u> linear constraints. \n",
    "\n",
    "It is also possible (but beyond the scope of this exercise) to assemble both cases into one optimization problem by introducing a binary variable that indicates whether the demand penalty is active or not. Then we would have a Mixed Integer Linear Program (MILP).\n",
    "    \n",
    "</details>"
   ]
  }
 ],
 "metadata": {
  "kernelspec": {
   "display_name": "Python 3 (ipykernel)",
   "language": "python",
   "name": "python3"
  },
  "language_info": {
   "codemirror_mode": {
    "name": "ipython",
    "version": 3
   },
   "file_extension": ".py",
   "mimetype": "text/x-python",
   "name": "python",
   "nbconvert_exporter": "python",
   "pygments_lexer": "ipython3",
   "version": "3.10.6"
  }
 },
 "nbformat": 4,
 "nbformat_minor": 4
}

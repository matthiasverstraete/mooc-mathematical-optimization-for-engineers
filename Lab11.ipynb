{
 "cells": [
  {
   "cell_type": "markdown",
   "id": "c9e1d476",
   "metadata": {},
   "source": [
    "<div>\n",
    "<img src=\"figures/svtLogo.png\"/>\n",
    "</div>\n",
    "<h1><center>Mathematical Optimization for Engineers</center></h1>\n",
    "<h2><center>Lab 11 - Full discretization method</center></h2>"
   ]
  },
  {
   "cell_type": "markdown",
   "id": "d73bf7f4",
   "metadata": {},
   "source": [
    "$\\newcommand{\\ddt}[1]{\\frac{d#1}{dt}\\Bigr \\rvert_{t}}$\n",
    "In this exercise, we want to solve the van der Pol oscillator optimal control problem using the full discretization approach. \n",
    "The problem with state constraint is as follows: \n",
    "\n",
    "\n",
    "$\\begin{align}\n",
    "\\min_{x(\\cdot), u(\\cdot)} \\int_{t_{0}}^{t_{f}} x_1^2(t) &+ x_2^{2}(t) + u(t)^2 dt\\\\\n",
    "s.t.  \\ddt{x_1} &= (1-(x_2(t))^2)\\cdot x_1(t) - x_2(t) + u(t),\\quad t\\in [t_0,t_f], \\label{eq:vdp_b} \\\\\n",
    "\\ddt{x_2}&= x_1(t),\\quad t\\in [t_0,t_f] \\label{eq:vdp_a} \\\\\n",
    "\\ddt{x_3} &= ({x_1}(t))^2 + ({x_2}(t))^2+ (u(t))^2 \\quad t\\in [t_0,t_f] \\\\\n",
    "\\mathbf{x}(t_{0}) &= \\left[0.0, 1.0, 0.0 \\right]^{T} \\\\\n",
    "x_1(t) &\\geq - 0.4 \\quad \\forall t \\in [t_{0},t_{f}]\\\\\n",
    "-0.3 &\\leq u(t) \\leq 1.0 \\quad \\forall t \\in [t_{0},t_{f}]\\\\\n",
    "\\end{align}\n",
    "$\n",
    "\n",
    "\n",
    "Note that the objective function value can be determined from the value of the state $x_{3}$ and that $t_{f}=5$.\n",
    "\n",
    "\n",
    "For the full discretization approach, the differential equations are discretized usually by implicit Runge-Kutta methods. In this exercise, we will use the implicit Euler method due to its simplicity.\n",
    "\n"
   ]
  },
  {
   "cell_type": "markdown",
   "id": "75b4f95e",
   "metadata": {
    "heading_collapsed": true
   },
   "source": [
    "### Imports"
   ]
  },
  {
   "cell_type": "code",
   "execution_count": 1,
   "id": "d5cc717d",
   "metadata": {
    "hidden": true
   },
   "outputs": [],
   "source": [
    "import numpy as np\n",
    "\n",
    "from scipy.optimize import minimize\n",
    "from scipy.optimize import Bounds\n",
    "from scipy.optimize import NonlinearConstraint\n",
    "\n",
    "from matplotlib import pyplot as plt"
   ]
  },
  {
   "cell_type": "markdown",
   "id": "aef73232",
   "metadata": {
    "heading_collapsed": true
   },
   "source": [
    "### Right-hand side function of ODE"
   ]
  },
  {
   "cell_type": "code",
   "execution_count": 109,
   "id": "898c8549",
   "metadata": {
    "hidden": true
   },
   "outputs": [],
   "source": [
    "def eval_rhs(x, u):\n",
    "    f = np.array([\n",
    "        (1-x[1]**2)*x[0] - x[1] + u[0],\n",
    "        x[0],\n",
    "        x[0]**2 + x[1]**2 + u[0]**2\n",
    "    ])\n",
    "    \n",
    "    return f"
   ]
  },
  {
   "cell_type": "markdown",
   "id": "7df207ae",
   "metadata": {},
   "source": [
    "### Constraints for optimization - discretized ODE"
   ]
  },
  {
   "cell_type": "code",
   "execution_count": 111,
   "id": "662abad4",
   "metadata": {},
   "outputs": [],
   "source": [
    "def cons(y, x0, finalTime, M, n_u):\n",
    "    # time step h (equidistant here)\n",
    "    h = finalTime / M\n",
    "    # number of states n_x\n",
    "    n_x = len(x0)\n",
    "    ceq = np.zeros((M, n_x))\n",
    "\n",
    "    # backward Euler y_(k+1) = y_(k) + h.f(t_(k+1),y_(k+1))\n",
    "    y_ = np.reshape(y, (M,n_x+n_u))\n",
    "    \n",
    "    # evalue RHS first time step f1\n",
    "    f1 = eval_rhs(y_[0,:n_x], y_[0,n_x:n_x+n_u])\n",
    "    \n",
    "    # first element of constraint ceq[0:n_x]\n",
    "    ceq[0,:] = x0 + h * f1 - y_[0,:n_x]\n",
    "        \n",
    "    # int(z) for z in [] just converts all elements in the list to integer\n",
    "    # it's an implementation detail because python only allows integer indices\n",
    "    \n",
    "    # second time step onward\n",
    "    for k in np.arange(1,M):\n",
    "        fk = eval_rhs(y_[k,:n_x],y_[k,n_x:n_x+n_u])\n",
    "        \n",
    "        ceq[k] = y_[k-1,:n_x] + h * fk - y_[k,:n_x]\n",
    "            \n",
    "    return ceq.flatten()"
   ]
  },
  {
   "cell_type": "markdown",
   "id": "5f5194a7",
   "metadata": {},
   "source": [
    "### Objective"
   ]
  },
  {
   "cell_type": "code",
   "execution_count": 114,
   "id": "f24c9a48",
   "metadata": {},
   "outputs": [],
   "source": [
    "def objective(y, x0):\n",
    "    # define objective\n",
    "    obj = y[-2]\n",
    "    return obj"
   ]
  },
  {
   "cell_type": "markdown",
   "id": "d6c2ba26",
   "metadata": {},
   "source": [
    "### Setting up optimization problem and solve it"
   ]
  },
  {
   "cell_type": "code",
   "execution_count": 116,
   "id": "d1cc0e94",
   "metadata": {},
   "outputs": [
    {
     "name": "stdout",
     "output_type": "stream",
     "text": [
      "  NIT    FC           OBJFUN            GNORM\n",
      "    1   202    -1.108719E-01     1.000000E+00\n",
      "    2   403     6.320982E-01     1.000000E+00\n",
      "    3   604     2.714853E+00     1.000000E+00\n",
      "    4   805     2.981548E+00     1.000000E+00\n",
      "    5  1006     2.955657E+00     1.000000E+00\n",
      "    6  1207     2.820939E+00     1.000000E+00\n",
      "    7  1408     2.771703E+00     1.000000E+00\n",
      "    8  1609     2.800691E+00     1.000000E+00\n",
      "    9  1810     2.768467E+00     1.000000E+00\n",
      "   10  2011     2.758840E+00     1.000000E+00\n",
      "   11  2212     2.764718E+00     1.000000E+00\n",
      "   12  2413     2.759293E+00     1.000000E+00\n",
      "   13  2614     2.755296E+00     1.000000E+00\n",
      "   14  2815     2.756104E+00     1.000000E+00\n",
      "   15  3016     2.755835E+00     1.000000E+00\n",
      "   16  3217     2.755881E+00     1.000000E+00\n",
      "   17  3418     2.755706E+00     1.000000E+00\n",
      "   18  3619     2.755752E+00     1.000000E+00\n",
      "   19  3820     2.755763E+00     1.000000E+00\n",
      "   20  4021     2.755764E+00     1.000000E+00\n",
      "   21  4221     2.755764E+00     1.000000E+00\n",
      "Optimization terminated successfully    (Exit mode 0)\n",
      "            Current function value: 2.7557644939578974\n",
      "            Iterations: 21\n",
      "            Function evaluations: 4221\n",
      "            Gradient evaluations: 21\n",
      "Optimal function value is\n",
      "2.7557644939578974\n"
     ]
    }
   ],
   "source": [
    "n_x = 3 # dimension of state vector x \n",
    "n_u = 1 # dimension of control vector u\n",
    "\n",
    "M=50 # Number of discretization intervals\n",
    "\n",
    "x1_0 = 0 # initial value of x1\n",
    "x2_0 = 1 # initial value of x2\n",
    "x3_0 = 0 # initial value of x3\n",
    "\n",
    "x_initial = [0.0, 1.0, 0.0]\n",
    "finalTime = 5 # final time\n",
    "\n",
    "x1_min = -0.4\n",
    "u_min = -0.3\n",
    "u_max = 1.0\n",
    "\n",
    "\n",
    "n = (n_x+n_u)*M # number of optimization variables\n",
    "iu = (np.arange(n_x,n,n_x+n_u)).astype(int) # indices of control variables\n",
    "ix1 = [int(z)-3 for z in iu] # indices of state x1\n",
    "ix2 = [int(z)-2 for z in iu] # indices of state x2\n",
    "ix3 = [int(z)-1 for z in iu] # indices of state x3\n",
    "\n",
    "lb = -float(\"inf\")*np.ones(n) # initialize lower bounds on all variables\n",
    "ub = float(\"inf\")*np.ones(n) # initialize upper bounds on all variables\n",
    "\n",
    "lb[iu] = u_min # lower bound of control \n",
    "ub[iu] = u_max # upper bound of control\n",
    "lb[ix1] = x1_min # lower bound on x1\n",
    "\n",
    "x_guess = np.zeros(n)  # initial guess of optimzation variable\n",
    "\n",
    "x_guess[ix1] = x1_0  # initial guess for state x1\n",
    "x_guess[ix2] = x2_0  # initial guess for state x2\n",
    "x_guess[ix3] = x3_0  # initial guess for state x3\n",
    "\n",
    "x_guess[iu] = 0.0  # initial guess for control u\n",
    "\n",
    "bounds = Bounds(lb, ub)\n",
    "\n",
    "consWithInitial = lambda y: cons(y, x_initial, finalTime, M, n_u)\n",
    "\n",
    "nonlinear_constraints = NonlinearConstraint(consWithInitial, 0, 0)\n",
    "# call optimization with bounds, constraints and objective\n",
    "res = minimize(objective, x_guess, args=(x_initial), bounds = bounds, method='SLSQP', constraints=[nonlinear_constraints],\n",
    "               options={\"maxiter\": 10000, 'iprint': 2, 'disp': True})\n",
    "\n",
    "print('Optimal function value is')\n",
    "print(res.fun)"
   ]
  },
  {
   "cell_type": "markdown",
   "id": "b651de81",
   "metadata": {},
   "source": [
    "### Plot trajectories"
   ]
  },
  {
   "cell_type": "code",
   "execution_count": 117,
   "id": "5dd07f30",
   "metadata": {},
   "outputs": [
    {
     "name": "stderr",
     "output_type": "stream",
     "text": [
      "/tmp/ipykernel_50/3352550625.py:11: MatplotlibDeprecationWarning: Auto-removal of overlapping axes is deprecated since 3.6 and will be removed two minor releases later; explicitly call ax.remove() as needed.\n",
      "  plt.subplot(311)\n",
      "/tmp/ipykernel_50/3352550625.py:13: MatplotlibDeprecationWarning: Auto-removal of overlapping axes is deprecated since 3.6 and will be removed two minor releases later; explicitly call ax.remove() as needed.\n",
      "  plt.subplot(221)\n"
     ]
    },
    {
     "data": {
      "image/png": "[encoded data removed]",
      "text/plain": [
       "<Figure size 640x480 with 4 Axes>"
      ]
     },
     "metadata": {},
     "output_type": "display_data"
    }
   ],
   "source": [
    "xopt = res.x\n",
    "\n",
    "t = np.linspace(0, finalTime, M+1)\n",
    "x1 = np.append([x1_0],list(xopt[np.arange(0,len(xopt),4)]))\n",
    "x2 = np.append([x2_0],list(xopt[np.arange(1,len(xopt),4)]))\n",
    "x3 = np.append([x3_0],list(xopt[np.arange(2,len(xopt),4)]))\n",
    "u = np.append([0.0],list(xopt[np.arange(3,len(xopt),4)]))\n",
    "\n",
    "plt.figure()\n",
    "ax1 = plt.axes(xlim=(-4,4), ylim=(-4, 4))\n",
    "plt.subplot(311)\n",
    "\n",
    "plt.subplot(221)\n",
    "plt.plot(t, x1)\n",
    "plt.title('x1')\n",
    "\n",
    "plt.subplot(222)\n",
    "plt.plot(t, x2)\n",
    "plt.title('x2')\n",
    "\n",
    "plt.subplot(223)\n",
    "plt.plot(t, x3)\n",
    "plt.title('x3')\n",
    "#\n",
    "plt.subplot(224)\n",
    "plt.plot(t, u)\n",
    "plt.title('u')\n",
    "\n",
    "plt.tight_layout()\n",
    "\n",
    "plt.show()\n"
   ]
  },
  {
   "cell_type": "code",
   "execution_count": null,
   "id": "86bdf7ae",
   "metadata": {},
   "outputs": [],
   "source": []
  }
 ],
 "metadata": {
  "kernelspec": {
   "display_name": "Python 3 (ipykernel)",
   "language": "python",
   "name": "python3"
  },
  "language_info": {
   "codemirror_mode": {
    "name": "ipython",
    "version": 3
   },
   "file_extension": ".py",
   "mimetype": "text/x-python",
   "name": "python",
   "nbconvert_exporter": "python",
   "pygments_lexer": "ipython3",
   "version": "3.10.6"
  }
 },
 "nbformat": 4,
 "nbformat_minor": 5
}

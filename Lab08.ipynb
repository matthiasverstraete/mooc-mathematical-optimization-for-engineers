{
 "cells": [
  {
   "cell_type": "markdown",
   "metadata": {},
   "source": [
    "<div>\n",
    "<img src=\"figures/svtLogo.png\"/>\n",
    "</div>  \n",
    "\n",
    "<center><h1>Mathematical Optimization for Engineers</h1></center>\n",
    "<center><h2>Lab 8 - Elimination of variables, Penalty and SQP methods</h2></center>"
   ]
  },
  {
   "cell_type": "markdown",
   "metadata": {},
   "source": [
    "$$\\newcommand{\\bx}{\\mathbf{x}}$$\n",
    "The following problem is given:\n",
    "\\begin{align*}\n",
    "  \\min_{\\bx \\in \\mathbb{R}^2} \\;\\; & f(\\bx)  \\\\\n",
    "   \\text{s.t.} \\;\\;& x_1+x_2=8,\n",
    "\\end{align*}\n",
    "\n",
    "where $f(\\bx) = - (x_1^2+x_2^2+4x_1x_2)$."
   ]
  },
  {
   "cell_type": "markdown",
   "metadata": {},
   "source": [
    "<u>Task 1</u>: Find the minimum of the function using variable elimination.\n",
    "Check the second-order sufficient conditions for the unconstrained one-variable problem."
   ]
  },
  {
   "cell_type": "markdown",
   "metadata": {},
   "source": [
    "We solve for $x_1$:\n",
    "$$\\begin{align}\n",
    "x_1 = 8-x_2 \\Leftrightarrow \\bar{f}(x_2) & = - ((8-x_2)^2+x_2^2+4(8-x_2)x_2) \\\\\n",
    "& = 4x_2^2 - 16  x_2 - 64\n",
    "\\end{align}\n",
    "$$\n",
    "We then solve $\\bar{f}(x_2)$:\n",
    "$$\n",
    "\\begin{align}\n",
    "\\frac{\\partial \\bar{f}}{\\partial x_2} &= 4x_2 - 16 = 0 \\Leftrightarrow x_2 = 4 \\\\\n",
    "\\frac{\\partial \\bar{f}}{\\partial x_2^2} &= 4 ( > 0 )\n",
    "\\end{align}\n",
    "$$\n",
    "\n",
    "The optimal point $x^* = (4, 4)$\n"
   ]
  },
  {
   "cell_type": "markdown",
   "metadata": {},
   "source": [
    "Another possibility is to use the following penalty function:\n",
    "\\begin{align*}\n",
    "  \tQ(\\bx;\\mu)=f(\\bx)+\\frac{1}{2\\mu} (x_1+x_2-8)^2\\,,\n",
    "\\end{align*}\n",
    "with $\\mu>0$ being a penalty parameter.\n",
    "     \n",
    "<br>\n",
    "<u>Task 2</u>: Write down the first-order necessary condition of optimality for minimizing $Q$."
   ]
  },
  {
   "cell_type": "markdown",
   "metadata": {},
   "source": [
    "first-order necessary condition of optimality is $\\nabla Q(\\bx; \\mu) = 0$\n",
    "$$\\begin{align}\n",
    "\\frac{\\partial Q}{\\partial x_1} & = -2 x_1 - 4 x_2 + \\frac{1}{\\mu}(x_1 + x_2 - 8) = 0 \\\\\n",
    "& \\Leftrightarrow (\\frac{1}{\\mu}-2)x_1 + (\\frac{1}{\\mu}-4)x_2 - 8 = 0 \\\\\n",
    "\\frac{\\partial Q}{\\partial x_2} &= -2 x_2 - 4 x_1 + \\frac{1}{\\mu}(x_1 + x_2 - 8) = 0 \\\\\n",
    "& \\Leftrightarrow (\\frac{1}{\\mu}-2)x_2 + (\\frac{1}{\\mu}-4)x_1 - 8 = 0 \\\\\n",
    "\\end{align}$$"
   ]
  },
  {
   "cell_type": "markdown",
   "metadata": {},
   "source": [
    "<u>Task 3</u>: What happens as $\\mu \\rightarrow 0$?  Complete the implementation of the quadratic penalty method below:\n",
    "\n",
    "Also, report the eigenvalues and the condition number of the Hessian for each $\\mu$."
   ]
  },
  {
   "cell_type": "code",
   "execution_count": 1,
   "metadata": {},
   "outputs": [],
   "source": [
    "import numpy as np\n",
    "import scipy.optimize as sp\n",
    "\n",
    "# to calculate the gradient and Hessian of the objective function\n",
    "from autograd import grad\n",
    "from autograd import hessian\n",
    "\n",
    "# to solve additionally using SLSQP solver, later on\n",
    "from scipy.optimize import Bounds\n",
    "from scipy.optimize import NonlinearConstraint\n",
    "from math import inf"
   ]
  },
  {
   "cell_type": "markdown",
   "metadata": {},
   "source": [
    "### Objective, constraint, quadratic penalty function, gradient and hessian"
   ]
  },
  {
   "cell_type": "code",
   "execution_count": 2,
   "metadata": {},
   "outputs": [],
   "source": [
    "def objective(X):\n",
    "    x1, x2 = X[0], X[1]\n",
    "    f = -(x1 ** 2 + x2 ** 2 + 4 * x1 * x2)\n",
    "    return f"
   ]
  },
  {
   "cell_type": "code",
   "execution_count": 3,
   "metadata": {},
   "outputs": [],
   "source": [
    "def constraint(X):\n",
    "    x1, x2 = X[0], X[1]\n",
    "    c = x1 + x2 - 8\n",
    "    return c"
   ]
  },
  {
   "cell_type": "code",
   "execution_count": 29,
   "metadata": {},
   "outputs": [],
   "source": [
    "def penaltyFunction(X, mu):\n",
    "    f = objective(X) + 1/(2*mu) * constraint(X)**2\n",
    "    return f"
   ]
  },
  {
   "cell_type": "code",
   "execution_count": 23,
   "metadata": {},
   "outputs": [],
   "source": [
    "def gradient_function(x, mu): \n",
    "    return [el.item() for el in grad(penaltyFunction, 0)(x, mu)]"
   ]
  },
  {
   "cell_type": "code",
   "execution_count": 24,
   "metadata": {},
   "outputs": [],
   "source": [
    "def hessian_function(x, mu): \n",
    "    return hessian(penaltyFunction, 0)(x, mu)"
   ]
  },
  {
   "cell_type": "markdown",
   "metadata": {},
   "source": [
    "### Quadratic penalty method"
   ]
  },
  {
   "cell_type": "code",
   "execution_count": 25,
   "metadata": {},
   "outputs": [],
   "source": [
    "def qpm(x0, mu): \n",
    "    \n",
    "    # get eigenvalues of the Hessian\n",
    "    w, v = np.linalg.eig(hessian_function(x0, mu))\n",
    "    \n",
    "    # get condition number of the Hessian\n",
    "    n = np.linalg.cond(hessian_function(x0, mu))\n",
    "    \n",
    "    # unconstrained optimization using BFGS method\n",
    "    res = sp.minimize(penaltyFunction, x0, args=(mu), method='BFGS', jac=gradient_function)\n",
    "    \n",
    "    return w, n, res.x"
   ]
  },
  {
   "cell_type": "code",
   "execution_count": 26,
   "metadata": {},
   "outputs": [
    {
     "name": "stdout",
     "output_type": "stream",
     "text": [
      "iter       mu         minimum             \t   condition nr.     constraint violation\t         eigenvalues          \n",
      "1          1.000e+00  [732.3181, 732.3181]\t     2.00e+00                  1.457e+03      \t[ 2.0000 , -4.0000 ]\n",
      "2          5.000e-01  [1463.6362, 1463.6362]\t     1.00e+00                  2.919e+03      \t[ 2.0000 , -2.0000 ]\n",
      "3          2.500e-01  [16.0000 , 16.0000 ]\t     1.00e+00                  2.400e+01      \t[ 2.0000 ,  2.0000 ]\n",
      "4          1.250e-01  [ 6.4000 ,  6.4000 ]\t     5.00e+00                  4.800e+00      \t[10.0000 ,  2.0000 ]\n",
      "5          6.250e-02  [ 4.9231 ,  4.9231 ]\t     1.30e+01                  1.846e+00      \t[26.0000 ,  2.0000 ]\n",
      "6          3.125e-02  [ 4.4138 ,  4.4138 ]\t     2.90e+01                  8.276e-01      \t[58.0000 ,  2.0000 ]\n",
      "7          1.562e-02  [ 4.1967 ,  4.1967 ]\t     6.10e+01                  3.934e-01      \t[122.0000,  2.0000 ]\n",
      "8          7.812e-03  [ 4.0960 ,  4.0960 ]\t     1.25e+02                  1.920e-01      \t[250.0000,  2.0000 ]\n",
      "9          3.906e-03  [ 4.0474 ,  4.0474 ]\t     2.53e+02                  9.486e-02      \t[506.0000,  2.0000 ]\n",
      "10         1.953e-03  [ 4.0236 ,  4.0236 ]\t     5.09e+02                  4.715e-02      \t[1018.0000,  2.0000 ]\n",
      "11         9.766e-04  [ 4.0118 ,  4.0118 ]\t     1.02e+03                  2.351e-02      \t[2042.0000,  2.0000 ]\n",
      "12         4.883e-04  [ 4.0059 ,  4.0059 ]\t     2.04e+03                  1.174e-02      \t[4090.0000,  2.0000 ]\n",
      "13         2.441e-04  [ 4.0029 ,  4.0029 ]\t     4.09e+03                  5.864e-03      \t[8186.0000,  2.0000 ]\n",
      "14         1.221e-04  [ 4.0015 ,  4.0015 ]\t     8.19e+03                  2.931e-03      \t[16378.0000,  2.0000 ]\n",
      "15         6.104e-05  [ 4.0007 ,  4.0007 ]\t     1.64e+04                  1.465e-03      \t[32762.0000,  2.0000 ]\n",
      "16         3.052e-05  [ 4.0004 ,  4.0004 ]\t     3.28e+04                  7.325e-04      \t[65530.0000,  2.0000 ]\n",
      "17         1.526e-05  [ 4.0002 ,  4.0002 ]\t     6.55e+04                  3.662e-04      \t[131066.0000,  2.0000 ]\n",
      "18         7.629e-06  [ 4.0001 ,  4.0001 ]\t     1.31e+05                  1.831e-04      \t[262138.0000,  2.0000 ]\n",
      "19         3.815e-06  [ 4.0000 ,  4.0000 ]\t     2.62e+05                  9.155e-05      \t[524282.0000,  2.0000 ]\n",
      "20         1.907e-06  [ 4.0000 ,  4.0000 ]\t     5.24e+05                  4.578e-05      \t[1048570.0000,  2.0000 ]\n",
      "21         9.537e-07  [ 4.0000 ,  4.0000 ]\t     1.05e+06                  2.289e-05      \t[2097146.0000,  2.0000 ]\n",
      "22         4.768e-07  [ 4.0000 ,  4.0000 ]\t     2.10e+06                  1.144e-05      \t[4194298.0000,  2.0000 ]\n",
      "23         2.384e-07  [ 4.0000 ,  4.0000 ]\t     4.19e+06                  5.722e-06      \t[8388602.0000,  2.0000 ]\n",
      "24         1.192e-07  [ 4.0000 ,  4.0000 ]\t     8.39e+06                  2.861e-06      \t[16777210.0000,  2.0000 ]\n",
      "25         5.960e-08  [ 4.0000 ,  4.0000 ]\t     1.68e+07                  1.431e-06      \t[33554426.0000,  2.0000 ]\n",
      "26         2.980e-08  [ 4.0000 ,  4.0000 ]\t     3.36e+07                  7.153e-07      \t[67108858.0000,  2.0000 ]\n",
      "27         1.490e-08  [ 4.0000 ,  4.0000 ]\t     6.71e+07                  3.576e-07      \t[134217722.0000,  2.0000 ]\n",
      "28         7.451e-09  [ 4.0000 ,  4.0000 ]\t     1.34e+08                  1.788e-07      \t[268435450.0000,  2.0000 ]\n",
      "29         3.725e-09  [ 4.0000 ,  4.0000 ]\t     2.68e+08                  8.941e-08      \t[536870906.0000,  2.0000 ]\n",
      "30         1.863e-09  [ 4.0000 ,  4.0000 ]\t     5.37e+08                  4.470e-08      \t[1073741818.0000,  2.0000 ]\n",
      "31         9.313e-10  [ 4.0000 ,  4.0000 ]\t     1.07e+09                  2.235e-08      \t[2147483642.0000,  2.0000 ]\n",
      "32         4.657e-10  [ 4.0000 ,  4.0000 ]\t     2.15e+09                  1.118e-08      \t[4294967290.0000,  2.0000 ]\n",
      "33         2.328e-10  [ 4.0000 ,  4.0000 ]\t     4.29e+09                  5.588e-09      \t[8589934586.0000,  2.0000 ]\n",
      "34         1.164e-10  [ 4.0000 ,  4.0000 ]\t     8.59e+09                  2.794e-09      \t[17179869178.0000,  2.0000 ]\n",
      "35         5.821e-11  [ 4.0000 ,  4.0000 ]\t     1.72e+10                  1.397e-09      \t[34359738362.0000,  2.0000 ]\n",
      "36         2.910e-11  [ 4.0000 ,  4.0000 ]\t     3.44e+10                  6.985e-10      \t[68719476730.0000,  2.0000 ]\n",
      "37         1.455e-11  [ 4.0000 ,  4.0000 ]\t     6.87e+10                  3.492e-10      \t[137438953466.0000,  2.0000 ]\n",
      "38         7.276e-12  [ 4.0000 ,  4.0000 ]\t     1.37e+11                  1.746e-10      \t[274877906938.0000,  2.0000 ]\n",
      "39         3.638e-12  [ 4.0000 ,  4.0000 ]\t     2.75e+11                  8.731e-11      \t[549755813882.0000,  2.0000 ]\n",
      "40         1.819e-12  [ 4.0000 ,  4.0000 ]\t     5.50e+11                  4.366e-11      \t[1099511627770.0000,  2.0000 ]\n",
      "41         9.095e-13  [ 4.0000 ,  4.0000 ]\t     1.10e+12                  2.183e-11      \t[2199023255546.0000,  2.0000 ]\n",
      "42         4.547e-13  [ 4.0000 ,  4.0000 ]\t     2.20e+12                  1.091e-11      \t[4398046511098.0000,  2.0000 ]\n",
      "43         2.274e-13  [ 4.0000 ,  4.0000 ]\t     4.40e+12                  5.457e-12      \t[8796093022202.0000,  2.0000 ]\n",
      "44         1.137e-13  [ 4.0000 ,  4.0000 ]\t     8.80e+12                  2.728e-12      \t[17592186044410.0000,  1.9980 ]\n",
      "45         5.684e-14  [ 4.0000 ,  4.0000 ]\t     1.76e+13                  1.364e-12      \t[35184372088826.0000,  2.0000 ]\n",
      "46         2.842e-14  [ 4.0000 ,  4.0000 ]\t     3.52e+13                  6.821e-13      \t[70368744177658.0000,  2.0039 ]\n",
      "47         1.421e-14  [ 4.0000 ,  4.0000 ]\t     7.04e+13                  3.411e-13      \t[140737488355322.0000,  2.0000 ]\n",
      "48         7.105e-15  [ 4.0000 ,  4.0000 ]\t     1.42e+14                  1.705e-13      \t[281474976710650.0000,  2.0000 ]\n",
      "49         3.553e-15  [ 4.0000 ,  4.0000 ]\t     2.80e+14                  8.527e-14      \t[562949953421306.0000,  2.0000 ]\n",
      "50         1.776e-15  [ 4.0000 ,  4.0000 ]\t     5.66e+14                  4.263e-14      \t[1125899906842618.0000,  2.0000 ]\n",
      "51         8.882e-16  [ 4.0000 ,  4.0000 ]\t     1.11e+15                  2.132e-14      \t[2251799813685242.0000,  2.0000 ]\n",
      "52         4.441e-16  [ 4.0000 ,  4.0000 ]\t     2.32e+15                  1.066e-14      \t[4503599627370490.0000,  2.0000 ]\n",
      "53         2.220e-16  [ 4.0000 ,  4.0000 ]\t     4.25e+15                  3.553e-15      \t[9007199254740986.0000,  2.0000 ]\n",
      "54         1.110e-16  [ 4.0000 ,  4.0000 ]\t     8.49e+15                  3.553e-15      \t[18014398509481978.0000,  2.0000 ]\n",
      "55         5.551e-17  [ 4.0000 ,  4.0000 ]\t     2.55e+16                  1.776e-15      \t[36028797018963960.0000,  2.0000 ]\n",
      "56         2.776e-17  [ 4.0000 ,  4.0000 ]\t     2.55e+16                  0.000e+00      \t[72057594037927928.0000,  0.0000 ]\n"
     ]
    }
   ],
   "source": [
    "mu = 1\n",
    "x0 = np.array([1.,1.])\n",
    "\n",
    "# acceptable constraint violation at optimum\n",
    "eps_viol = 1e-15\n",
    "constraint_violation = True\n",
    "\n",
    "it = 0\n",
    "\n",
    "print (\"{:<10} {:<10} {:<20}\\t{:^20} {:^20}\\t{:^30}\".format('iter','mu','minimum','condition nr.', 'constraint violation', 'eigenvalues'))\n",
    "while constraint_violation:\n",
    "    it = it + 1\n",
    "    \n",
    "    w, n, xmin = qpm(x0,mu)\n",
    "    print (\"{:<10d} {:<10.3e} [{:^8.4f}, {:^8.4f}]\\t{:<4} {:<20.2e} {:^20.3e}\\t[{:^8.4f}, {:^8.4f}]\".format(it,mu,xmin[0],xmin[1],' ',n,constraint(xmin), w[0], w[1]))\n",
    "    \n",
    "    if constraint(xmin) <= eps_viol:\n",
    "        constraint_violation = False \n",
    "    \n",
    "    # update for next iteration (e.g. half of previous penalty value)\n",
    "    x0 = xmin\n",
    "    mu = mu/2"
   ]
  },
  {
   "cell_type": "markdown",
   "metadata": {},
   "source": [
    "### SLSQP method (scipy)"
   ]
  },
  {
   "cell_type": "markdown",
   "metadata": {},
   "source": [
    "We will solve the problem using scipy's SLSQP solver (written by Dieter Kraft, DLR Oberpfaffenhofen)"
   ]
  },
  {
   "cell_type": "code",
   "execution_count": 21,
   "metadata": {},
   "outputs": [
    {
     "name": "stdout",
     "output_type": "stream",
     "text": [
      "  NIT    FC           OBJFUN            GNORM\n",
      "    1     4    -9.600000E+01     2.107342E-08\n",
      "    2     6    -9.600000E+01     3.394112E+01\n",
      "Optimization terminated successfully    (Exit mode 0)\n",
      "            Current function value: -95.99999999999997\n",
      "            Iterations: 2\n",
      "            Function evaluations: 6\n",
      "            Gradient evaluations: 2\n",
      "minimum = [4. 4.]\n",
      "constraint violation = -1.7763568394002505e-15\n"
     ]
    }
   ],
   "source": [
    "x0 = np.array([0.,0.])\n",
    "\n",
    "bounds = Bounds([-inf,-inf], [inf,inf])\n",
    "\n",
    "# The constraint is actually linear, so you can also try a different approach.\n",
    "# See SLSQP documentation for more details on how to set up linear constraints.\n",
    "nonlinear_constraints = NonlinearConstraint(constraint, 0, 0)\n",
    "\n",
    "# use SLSQP\n",
    "res = sp.minimize(objective, x0,\n",
    "               constraints=[nonlinear_constraints], bounds=bounds, \n",
    "                  options={'disp': True, 'iprint': 4} )\n",
    "\n",
    "print(\"minimum = {}\".format(res.x))\n",
    "print(\"constraint violation = {}\".format(constraint(res.x)))\n",
    "# The problem is a QP which is the reason why the SLSQP method is so fast. "
   ]
  },
  {
   "cell_type": "markdown",
   "metadata": {},
   "source": [
    "# Rosenbrock function contrained\n",
    "\n",
    "The original Rosenbrock function does not have constraints, however, we introduce a constraint \n",
    "$$x_1^2 + x_2^2 - 1 \\leq 0$$"
   ]
  },
  {
   "cell_type": "code",
   "execution_count": 37,
   "metadata": {},
   "outputs": [],
   "source": [
    "def rosenbrock(x):\n",
    "    return ((x[0]-1)**2 + 100*(x[1]-x[0]**2)**2)"
   ]
  },
  {
   "cell_type": "code",
   "execution_count": 38,
   "metadata": {},
   "outputs": [],
   "source": [
    "def rosenbrock_inequality(x): \n",
    "    return x[0]**2 + x[1]**2 - 1"
   ]
  },
  {
   "cell_type": "code",
   "execution_count": 39,
   "metadata": {},
   "outputs": [],
   "source": [
    "def penalty_inequality(x, mu): \n",
    "    \n",
    "    f = rosenbrock(x) + 1/(2*mu) * max(0,rosenbrock_inequality(x))**2\n",
    "    return f"
   ]
  },
  {
   "cell_type": "code",
   "execution_count": 40,
   "metadata": {},
   "outputs": [],
   "source": [
    "def qpm_inequality(x0, mu): \n",
    "    \n",
    "    # get eigenvalues of the Hessian\n",
    "    #w, v = np.linalg.eig(hessian_function(x0, mu))\n",
    "    \n",
    "    # get condition number of the Hessian\n",
    "    #n = np.linalg.cond(hessian_function(x0, mu))\n",
    "    \n",
    "    # unconstrained optimization using BFGS method\n",
    "    res = sp.minimize(penalty_inequality, x0, args=(mu), method='BFGS')# jac=gradient_function)\n",
    "\n",
    "    return res.x\n",
    "    #return w, n, res.x"
   ]
  },
  {
   "cell_type": "code",
   "execution_count": 41,
   "metadata": {},
   "outputs": [
    {
     "name": "stdout",
     "output_type": "stream",
     "text": [
      "iter       mu         minimum                 condition nr.            constraint value       \n",
      "1          1.000e+00  [ 0.8135 ,  0.6611 ]      2.55e+16                  9.875e-02      \n",
      "2          5.000e-01  [ 0.8015 ,  0.6417 ]      2.55e+16                  5.423e-02      \n",
      "3          2.500e-01  [ 0.7945 ,  0.6304 ]      2.55e+16                  2.861e-02      \n",
      "4          1.250e-01  [ 0.7906 ,  0.6243 ]      2.55e+16                  1.473e-02      \n",
      "5          6.250e-02  [ 0.7885 ,  0.6210 ]      2.55e+16                  7.476e-03      \n",
      "6          3.125e-02  [ 0.7875 ,  0.6194 ]      2.55e+16                  3.767e-03      \n",
      "7          1.562e-02  [ 0.7870 ,  0.6185 ]      2.55e+16                  1.891e-03      \n",
      "8          7.812e-03  [ 0.7867 ,  0.6181 ]      2.55e+16                  9.473e-04      \n",
      "9          3.906e-03  [ 0.7865 ,  0.6179 ]      2.55e+16                  4.741e-04      \n",
      "10         1.953e-03  [ 0.7865 ,  0.6178 ]      2.55e+16                  2.372e-04      \n",
      "11         9.766e-04  [ 0.7864 ,  0.6178 ]      2.55e+16                  1.186e-04      \n",
      "12         4.883e-04  [ 0.7864 ,  0.6177 ]      2.55e+16                  5.932e-05      \n",
      "13         2.441e-04  [ 0.7864 ,  0.6177 ]      2.55e+16                  2.965e-05      \n",
      "14         1.221e-04  [ 0.7864 ,  0.6177 ]      2.55e+16                  1.482e-05      \n",
      "15         6.104e-05  [ 0.7864 ,  0.6177 ]      2.55e+16                  7.405e-06      \n",
      "16         3.052e-05  [ 0.7864 ,  0.6177 ]      2.55e+16                  3.697e-06      \n",
      "17         1.526e-05  [ 0.7864 ,  0.6177 ]      2.55e+16                  1.844e-06      \n",
      "18         7.629e-06  [ 0.7864 ,  0.6177 ]      2.55e+16                  1.004e-06      \n",
      "19         3.815e-06  [ 0.7864 ,  0.6177 ]      2.55e+16                  3.022e-07      \n",
      "20         1.907e-06  [ 0.7864 ,  0.6177 ]      2.55e+16                  2.392e-07      \n"
     ]
    }
   ],
   "source": [
    "mu = 1\n",
    "x0 = np.array([0.0, 0.0])\n",
    "\n",
    "# acceptable constraint violation at optimum\n",
    "eps_f = 1e-8\n",
    "sufficient_decrease = True\n",
    "\n",
    "it = 0\n",
    "\n",
    "print (\"{:<10} {:<10} {:<20} {:^20} {:^30}\".format('iter','mu','minimum','condition nr.', 'constraint value'))\n",
    "while sufficient_decrease:\n",
    "    it = it + 1\n",
    "    f_prev = rosenbrock(x0)\n",
    "    xmin = qpm_inequality(x0, mu)\n",
    "    print (\"{:<10d} {:<10.3e} [{:^8.4f}, {:^8.4f}] {:<4} {:<20.2e} {:^20.3e}\".format(it,mu,xmin[0],xmin[1],' ',n, rosenbrock_inequality(xmin)))\n",
    "    \n",
    "    if abs(f_prev - rosenbrock(xmin)) <= eps_f:\n",
    "        sufficient_decrease = False \n",
    "    \n",
    "    # update penalty for next iteration (e.g. half of previous value)\n",
    "    x0 = xmin\n",
    "    mu = mu/2\n"
   ]
  },
  {
   "cell_type": "code",
   "execution_count": 42,
   "metadata": {},
   "outputs": [
    {
     "name": "stdout",
     "output_type": "stream",
     "text": [
      "  NIT    FC           OBJFUN            GNORM\n",
      "    1     4     1.601001E+03     2.000000E+00\n",
      "    2     8     3.141943E+03     8.158461E+00\n",
      "    3    13     1.597029E+00     9.044028E+00\n",
      "    4    17     4.171509E-01     1.494909E+00\n",
      "    5    20     9.114047E-01     1.060580E+00\n",
      "    6    24     5.712767E-01     1.679292E+00\n",
      "    7    28     2.615425E-01     3.334856E+00\n",
      "    8    31     1.930068E-01     7.378206E+00\n",
      "    9    34     1.215000E-01     2.677153E+00\n",
      "   10    37     7.945503E-02     2.483551E+00\n",
      "   11    40     4.857427E-02     4.150391E+00\n",
      "   12    43     4.567073E-02     2.384905E+00\n",
      "   13    46     4.567481E-02     2.366884E-01\n",
      "   14    48     4.567481E-02     2.429864E-01\n",
      "Optimization terminated successfully    (Exit mode 0)\n",
      "            Current function value: 0.045674808595787916\n",
      "            Iterations: 14\n",
      "            Function evaluations: 48\n",
      "            Gradient evaluations: 14\n",
      "minimum = [0.78641516 0.6176983 ]\n",
      "constraint value = 1.0186842480663927e-09\n"
     ]
    }
   ],
   "source": [
    "x0 = np.array([0.,0.])\n",
    "\n",
    "bounds = Bounds([-inf,-inf], [inf,inf])\n",
    "\n",
    "nonlinear_constraints = NonlinearConstraint(rosenbrock_inequality, -inf, 0)\n",
    "\n",
    "# use SLSQP\n",
    "res = sp.minimize(rosenbrock, x0,\n",
    "               constraints=[nonlinear_constraints], bounds=bounds, options={'disp': True, 'iprint': 4} )\n",
    "\n",
    "print(\"minimum = {}\".format(res.x))\n",
    "print(\"constraint value = {}\".format(rosenbrock_inequality(res.x)))"
   ]
  },
  {
   "cell_type": "code",
   "execution_count": null,
   "metadata": {},
   "outputs": [],
   "source": []
  }
 ],
 "metadata": {
  "kernelspec": {
   "display_name": "Python 3 (ipykernel)",
   "language": "python",
   "name": "python3"
  },
  "language_info": {
   "codemirror_mode": {
    "name": "ipython",
    "version": 3
   },
   "file_extension": ".py",
   "mimetype": "text/x-python",
   "name": "python",
   "nbconvert_exporter": "python",
   "pygments_lexer": "ipython3",
   "version": "3.10.6"
  }
 },
 "nbformat": 4,
 "nbformat_minor": 4
}

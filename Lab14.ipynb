{
 "cells": [
  {
   "cell_type": "markdown",
   "id": "eb1f00ec",
   "metadata": {},
   "source": [
    "<div>\n",
    "<img src=\"figures/svtLogo.png\"/>\n",
    "</div>\n",
    "<h1><center>Mathematical Optimization for Engineers</center></h1>\n",
    "<h2><center>Lab 14 - Uncertainty</center></h2>"
   ]
  },
  {
   "cell_type": "markdown",
   "id": "19963daa",
   "metadata": {},
   "source": [
    "We want to optimize the total annualized cost of a heating and electric power system. Three different technologies are present: \n",
    "- a gas boiler\n",
    "- a combined heat and power plant\n",
    "- a photovoltaic module\n",
    "\n",
    "We first the the nominal case without uncertanties. \n",
    "Next, we will consider a two-stage approach to consider uncertainties in the electricity demand and the power producable via PV. \n",
    "Uncertain variables are the solar power and the power demand. "
   ]
  },
  {
   "cell_type": "code",
   "execution_count": 89,
   "id": "22d071bf",
   "metadata": {},
   "outputs": [],
   "source": [
    "# import cell\n",
    "from scipy.optimize import minimize, NonlinearConstraint, Bounds\n",
    "import numpy as np"
   ]
  },
  {
   "cell_type": "code",
   "execution_count": 90,
   "id": "3871a696",
   "metadata": {},
   "outputs": [],
   "source": [
    "class Boiler():\n",
    "    \"\"\"Boiler \n",
    "    Gas in, heat out\n",
    "    \"\"\"\n",
    "    \n",
    "    def __init__(self):\n",
    "        self.M = 0.75  \n",
    "        \n",
    "    def invest_cost(self, Qdot_nom):\n",
    "        inv = 100 * Qdot_nom ** self.M\n",
    "        return inv\n",
    "    \n",
    "    def oper_cost(self, Qdot_nom, op_load): \n",
    "        cost_gas = 60\n",
    "        cost_gas_oper = Qdot_nom * cost_gas * op_load\n",
    "        \n",
    "        return cost_gas_oper\n",
    "    \n",
    "    def heat(self, Qdot_nom, op_load):\n",
    "        eta_th = 0.9 - (1 - op_load) * 0.05\n",
    "        return Qdot_nom * op_load * eta_th\n",
    "    "
   ]
  },
  {
   "cell_type": "code",
   "execution_count": 91,
   "id": "92d07740",
   "metadata": {},
   "outputs": [],
   "source": [
    "class CHP():\n",
    "    \"\"\"Combined-heat-and-power (CHP) engine \n",
    "    Gas in, heat and power out\n",
    "    \"\"\"\n",
    "\n",
    "    def __init__(self):\n",
    "        self.c_ref = 150\n",
    "        self.M = 0.80  # [-], cost exponent\n",
    "        self.cost_gas = 60\n",
    "    \n",
    "    def invest_cost(self, Qdot_nom):\n",
    "        inv = self.c_ref * (Qdot_nom) ** self.M\n",
    "        return inv\n",
    "    \n",
    "    def oper_cost(self, Qdot_nom, op_load): \n",
    "        cost_gas_oper = Qdot_nom * op_load * self.cost_gas\n",
    "        return cost_gas_oper\n",
    "    \n",
    "    def elec_out(self, Qdot_nom, op_load):\n",
    "        eta_el = 0.3 - (1 - op_load) * 0.1\n",
    "        out_pow = eta_el * Qdot_nom * op_load\n",
    "        return out_pow\n",
    "    \n",
    "    def heat(self, Qdot_nom, op_load): \n",
    "        eta_th = 0.6 - (1-op_load) * 0.05  \n",
    "        return Qdot_nom * eta_th * op_load\n"
   ]
  },
  {
   "cell_type": "code",
   "execution_count": 92,
   "id": "53e82a64",
   "metadata": {},
   "outputs": [],
   "source": [
    "class PV:\n",
    "    \"\"\"Photovoltaic modules (PV) \n",
    "    solar \n",
    "    \"\"\" \n",
    "    \n",
    "    def __init__(self): \n",
    "        self.M = 0.9  # [-], cost exponent\n",
    "       \n",
    "    def invest_cost(self, p_nom):\n",
    "        inv = 200 * p_nom ** self.M\n",
    "        return inv\n",
    "    \n",
    "    def oper_cost(self, out_nom): \n",
    "        return 0\n",
    "    \n",
    "    def elec_out(self, p_nom, op_load, solar):\n",
    "        return p_nom * op_load * solar\n",
    "    "
   ]
  },
  {
   "cell_type": "code",
   "execution_count": 93,
   "id": "ffdca31e",
   "metadata": {},
   "outputs": [],
   "source": [
    "def objective_function(x, PV, Boiler, CHP, scenarios):\n",
    "    total_cost = 0\n",
    "    design_PV = x[0]  \n",
    "    design_boiler = x[1]  \n",
    "    design_CHP = x[2] \n",
    "    \n",
    "    # investment costs\n",
    "    investment_costs = (PV.invest_cost(design_PV) + \n",
    "                       Boiler.invest_cost(design_boiler) + \n",
    "                       CHP.invest_cost(design_CHP))\n",
    "    \n",
    "    # expected operating costs\n",
    "    total_operating_costs = 0\n",
    "    for i, scenario in enumerate(scenarios):\n",
    "        PV_load = x[(i+1)*3]\n",
    "        boiler_load = x[(i+1)*3+1]\n",
    "        CHP_load = x[(i+1)*3+2]\n",
    "        operating_costs = Boiler.oper_cost(design_boiler, boiler_load) + \\\n",
    "                          CHP.oper_cost(design_CHP, CHP_load)\n",
    "        \n",
    "        total_operating_costs += (operating_costs * scenario[\"p\"])\n",
    "    \n",
    "    \n",
    "    total_cost = investment_costs + total_operating_costs\n",
    "\n",
    "    return total_cost"
   ]
  },
  {
   "cell_type": "code",
   "execution_count": 94,
   "id": "2e7b221a",
   "metadata": {},
   "outputs": [],
   "source": [
    "def constraint_function(x, PV, Boiler, CHP, scenarios): \n",
    "    heat_demand = 200\n",
    "    \n",
    "    design_PV = x[0]  \n",
    "    design_boiler = x[1]  \n",
    "    design_CHP = x[2] \n",
    "\n",
    "    # loop over all uncertainties\n",
    "    c = []\n",
    "    \n",
    "    for i, scenario in enumerate(scenarios):\n",
    "        PV_load = x[(i+1)*3]\n",
    "        boiler_load = x[(i+1)*3+1]\n",
    "        CHP_load = x[(i+1)*3+2]\n",
    "        \n",
    "        # heat demand\n",
    "        heat = CHP.heat(design_CHP, CHP_load) + \\\n",
    "               Boiler.heat(design_boiler, boiler_load)\n",
    "        c.append(heat_demand - heat)\n",
    "        \n",
    "        # electricty demand \n",
    "        elec = CHP.elec_out(design_CHP, CHP_load) + \\\n",
    "               PV.elec_out(design_PV, PV_load, scenario[\"solar\"])\n",
    "        c.append(scenario[\"elec\"] - elec)\n",
    "        \n",
    "    return c"
   ]
  },
  {
   "cell_type": "code",
   "execution_count": 95,
   "id": "92c6727c",
   "metadata": {},
   "outputs": [],
   "source": [
    "def print_solution(x):\n",
    "    print('PV design: ', x[0])\n",
    "    print('Boiler design: ', x[1])\n",
    "    print('CHP design: ', x[2])\n",
    "    \n",
    "    # print scenarios\n",
    "    n_scenarios = int((len(x) - 3) / 3)\n",
    "    for i_scenario in range(1, n_scenarios + 1): \n",
    "            print('Scenario ' + str(i_scenario) + ' PV load: ', x[3 * i_scenario])\n",
    "            print('Scenario ' + str(i_scenario) + ' Boiler load: ', x[3 * i_scenario + 1])\n",
    "            print('Scenario ' + str(i_scenario) + ' CHP load: ', x[3 * i_scenario + 2], end='\\n\\n')\n",
    "    "
   ]
  },
  {
   "cell_type": "code",
   "execution_count": 96,
   "id": "9c1215b0",
   "metadata": {},
   "outputs": [],
   "source": [
    "# nominal case\n",
    "scenario1 = {\"p\": 1.0, \"solar\":1.0, \"elec\": 100}\n",
    "scenarios = [scenario1] # base scenario\n"
   ]
  },
  {
   "cell_type": "code",
   "execution_count": 97,
   "id": "75c9d159",
   "metadata": {},
   "outputs": [],
   "source": [
    "# now consider different scenarios\n",
    "myPV = PV()\n",
    "myBoiler = Boiler()\n",
    "myCHP = CHP()\n",
    "cons = lambda x: constraint_function(x, myPV, myBoiler, myCHP, scenarios)\n",
    "obj = lambda x: objective_function(x, myPV, myBoiler, myCHP, scenarios)\n",
    "# constraints need bounds\n",
    "nonlinear_constraints = NonlinearConstraint(cons, 0, 0)\n",
    "# bounds for operation 0 . 1\n",
    "x_guess = [200,200,200, 1,1,1 ]\n",
    "# bounds for decision variables\n",
    "lbs = [0, 0, 0, 0, 0, 0]\n",
    "ubs = [10000, 10000, 10000, 1, 1, 1]\n",
    "bnds = Bounds(lbs, ubs)\n"
   ]
  },
  {
   "cell_type": "code",
   "execution_count": 98,
   "id": "55103277",
   "metadata": {},
   "outputs": [
    {
     "name": "stdout",
     "output_type": "stream",
     "text": [
      "  NIT    FC           OBJFUN            GNORM\n",
      "    1     8     4.230683E+04     1.697139E+04\n",
      "    2    15     3.378399E+04     1.515439E+04\n",
      "    3    22     3.433070E+04     1.215995E+04\n",
      "    4    29     3.405367E+04     1.113483E+04\n",
      "    5    36     3.171484E+04     1.148279E+04\n",
      "    7    43     3.170808E+04     1.333695E+04\n",
      "    9    50     3.170808E+04     1.405754E+04\n",
      "Optimization terminated successfully    (Exit mode 0)\n",
      "            Current function value: 31708.080336661325\n",
      "            Iterations: 9\n",
      "            Function evaluations: 50\n",
      "            Gradient evaluations: 7\n"
     ]
    }
   ],
   "source": [
    "res = minimize(obj, x_guess, method = 'SLSQP', bounds=bnds,\n",
    "               constraints = nonlinear_constraints,\n",
    "               options={\"maxiter\": 25, 'iprint': 2, 'disp': True})\n"
   ]
  },
  {
   "cell_type": "code",
   "execution_count": 99,
   "id": "2a62cf81",
   "metadata": {},
   "outputs": [
    {
     "name": "stdout",
     "output_type": "stream",
     "text": [
      "PV design:  99.99999977680706\n",
      "Boiler design:  222.22222217945233\n",
      "CHP design:  0.0\n",
      "Scenario 1 PV load:  1.0\n",
      "Scenario 1 Boiler load:  1.0\n",
      "Scenario 1 CHP load:  1.0\n",
      "\n"
     ]
    }
   ],
   "source": [
    "print_solution(res.x)"
   ]
  },
  {
   "cell_type": "code",
   "execution_count": 100,
   "id": "a3cf4dd2",
   "metadata": {},
   "outputs": [],
   "source": [
    "# nominal \n",
    "# uncertanties: power demand and solar power (relative 1.0)\n",
    "scenario1 = {\"p\": 0.4, \"solar\":1.0, \"elec\": 100}\n",
    "scenario2 = {\"p\": 0.3, \"solar\":1.0, \"elec\": 120}\n",
    "scenario3 = {\"p\": 0.3, \"solar\":0.5, \"elec\": 80}\n",
    "\n",
    "# put scenarios together\n",
    "scenarios = [scenario1, scenario2, scenario3]"
   ]
  },
  {
   "cell_type": "code",
   "execution_count": 101,
   "id": "fb8478c9",
   "metadata": {},
   "outputs": [
    {
     "name": "stdout",
     "output_type": "stream",
     "text": [
      "  NIT    FC           OBJFUN            GNORM\n",
      "    1    14     4.368662E+04     9.896865E+03\n",
      "    2    27     3.780995E+04     8.491301E+03\n",
      "    3    40     3.822670E+04     7.547584E+03\n",
      "    4    53     3.775750E+04     7.319111E+03\n",
      "    5    66     3.775213E+04     6.631493E+03\n",
      "    6    79     3.776393E+04     6.596803E+03\n",
      "    7    92     3.776375E+04     6.599369E+03\n",
      "    9   105     3.776385E+04     6.599323E+03\n",
      "   10   118     3.776382E+04     6.599339E+03\n",
      "   12   141     3.776385E+04     6.599339E+03\n",
      "   13   164     3.776385E+04     6.599339E+03\n",
      "   14   187     3.776365E+04     6.599339E+03\n",
      "   15   209     3.776385E+04     6.599339E+03\n",
      "Iteration limit reached    (Exit mode 9)\n",
      "            Current function value: 37763.854880380386\n",
      "            Iterations: 15\n",
      "            Function evaluations: 209\n",
      "            Gradient evaluations: 13\n"
     ]
    }
   ],
   "source": [
    "myPV = PV()\n",
    "myBoiler = Boiler()\n",
    "myCHP = CHP()\n",
    "cons = lambda x: constraint_function(x, myPV, myBoiler, myCHP, scenarios)\n",
    "obj = lambda x: objective_function(x, myPV, myBoiler, myCHP, scenarios)\n",
    "# bounds and constraints\n",
    "nonlinear_constraints = NonlinearConstraint(cons, 0, 0)\n",
    "x_guess = [200,200,200] + [1, 1, 1] * len(scenarios)\n",
    "lbs = [0, 0, 0] + [0, 0, 0] * len(scenarios)\n",
    "ubs = [10000, 10000, 10000] + [1, 1, 1] * len(scenarios)\n",
    "bnds = Bounds(lbs, ubs)\n",
    "\n",
    "\n",
    "res = minimize(obj, x_guess, method = 'SLSQP', bounds=bnds,\n",
    "               constraints = nonlinear_constraints,\n",
    "               options={\"maxiter\": 15, 'iprint': 2, 'disp': True})"
   ]
  },
  {
   "cell_type": "code",
   "execution_count": 103,
   "id": "fe9a39c2",
   "metadata": {},
   "outputs": [
    {
     "name": "stdout",
     "output_type": "stream",
     "text": [
      "PV design:  79.99999999686838\n",
      "Boiler design:  133.33333332272832\n",
      "CHP design:  133.33333333948795\n",
      "Scenario 1 PV load:  0.7499999871985024\n",
      "Scenario 1 Boiler load:  0.9999999868880614\n",
      "Scenario 1 CHP load:  0.9999999999991549\n",
      "\n",
      "Scenario 2 PV load:  0.9999999904536151\n",
      "Scenario 2 Boiler load:  0.9999999902223338\n",
      "Scenario 2 CHP load:  0.9999999999993647\n",
      "\n",
      "Scenario 3 PV load:  0.9999999885369261\n",
      "Scenario 3 Boiler load:  0.999999994160683\n",
      "Scenario 3 CHP load:  0.9999999999995447\n",
      "\n"
     ]
    }
   ],
   "source": [
    "print_solution(res.x)"
   ]
  },
  {
   "cell_type": "code",
   "execution_count": null,
   "id": "83829db1",
   "metadata": {},
   "outputs": [],
   "source": []
  }
 ],
 "metadata": {
  "kernelspec": {
   "display_name": "Python 3 (ipykernel)",
   "language": "python",
   "name": "python3"
  },
  "language_info": {
   "codemirror_mode": {
    "name": "ipython",
    "version": 3
   },
   "file_extension": ".py",
   "mimetype": "text/x-python",
   "name": "python",
   "nbconvert_exporter": "python",
   "pygments_lexer": "ipython3",
   "version": "3.10.6"
  }
 },
 "nbformat": 4,
 "nbformat_minor": 5
}

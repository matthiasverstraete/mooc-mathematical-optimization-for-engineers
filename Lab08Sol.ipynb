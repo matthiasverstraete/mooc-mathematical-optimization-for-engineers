{
 "cells": [
  {
   "cell_type": "markdown",
   "metadata": {},
   "source": [
    "<div>\n",
    "<img src=\"figures/svtLogo.png\"/>\n",
    "</div>  \n",
    "\n",
    "<center><h1>Mathematical Optimization for Engineers</h1></center>\n",
    "<center><h2>Lab 8 - Elimination of variables, Penalty and SQP methods</h2></center>"
   ]
  },
  {
   "cell_type": "markdown",
   "metadata": {},
   "source": [
    "$$\\newcommand{\\bx}{\\mathbf{x}}$$\n",
    "The following problem is given:\n",
    "\\begin{align*}\n",
    "  \\min_{\\bx \\in \\mathbb{R}^2} \\;\\; & f(\\bx)  \\\\\n",
    "   \\text{s.t.} \\;\\;& x_1+x_2=8,\n",
    "\\end{align*}\n",
    "\n",
    "where $f(\\bx) = - (x_1^2+x_2^2+4x_1x_2)$."
   ]
  },
  {
   "cell_type": "markdown",
   "metadata": {},
   "source": [
    "<u>Task 1</u>: Find the minimum of the function using variable elimination.\n",
    "Check the second-order sufficient conditions for the unconstrained one-variable problem."
   ]
  },
  {
   "cell_type": "markdown",
   "metadata": {},
   "source": [
    "<details>\n",
    "We solve for $x_1$ (we could also solve for $x_{2}$). This implies\n",
    "\n",
    "\\begin{equation} \\label{resolve}\n",
    "\tx_1 = 8-x_2.\n",
    "\\end{equation}\n",
    "    \n",
    "The objetcive function can now be written as $f(x_1,x_2) = -(8-x_2)^2 -x_2 ^2 - 4 (8-x_2) x_2 = 2 \\,x_2^2 - 16 x_2 -64$. \n",
    "<br>    \n",
    "We define the function $S(x_2) = x_2^2 -8 x_2$. Constant terms (the number $64$, or the multiplication factor of $2$) are redundant in the objective function. Hence, we can formulate the unconstrained optimization problem as \n",
    "    \n",
    "\\begin{equation} \\label{varEli}\n",
    "\t\t\\min_{x_2} x_2 ^2 -8\\, x_2 \\,.\n",
    "\\end{equation}\n",
    "   \n",
    "In order to get the stationary point, we differentiate $S(x_2)$ with respect to $x_2$ and set it to zero. This results in $x_2 ^* = 4$. From the equality constraint, we get $x_1 ^* = 4$.\n",
    "<br>         \n",
    "The Hessian of the one-variable problem is $S_{x_2x_2} \\equiv 2$, i.e., the Hessian is positive definite and the second-order sufficient conditions are satisfied.\n",
    "    \n",
    "</details>"
   ]
  },
  {
   "cell_type": "markdown",
   "metadata": {},
   "source": [
    "Another possibility is to use the following penalty function:\n",
    "\\begin{align*}\n",
    "  \tQ(\\bx;\\mu)=f(\\bx)+\\frac{1}{2\\mu} (x_1+x_2-8)^2\\,,\n",
    "\\end{align*}\n",
    "with $\\mu>0$ being a penalty parameter.\n",
    "     \n",
    "<br>\n",
    "<u>Task 2</u>: Write down the first-order necessary condition of optimality for minimizing $Q$."
   ]
  },
  {
   "cell_type": "markdown",
   "metadata": {},
   "source": [
    "<details>\n",
    "\n",
    "We differentiate $Q$ with\n",
    "respect to $x_1$ and $x_2$.\n",
    "<br>\n",
    "<br>\n",
    "$$\\begin{aligned}\n",
    "\\frac{\\partial Q}{\\partial x_1} (x_1,x_2) = -2 x_1 - 4 x_2 + \\frac{1}{\\mu} (x_1 + x_2 -8) \\\\\n",
    "\\frac{\\partial Q}{\\partial x_2} (x_1,x_2) = -2 x_2 - 4 x_1 + \\frac{1}{\\mu} (x_1 + x_2 -8)\n",
    "\\end{aligned}$$\n",
    "<br>\n",
    "Now, we have to set the partial derivatives to zero for the first-order necessary condition of optimality:\n",
    "<br>\n",
    "<br>\n",
    "$$\\left(\n",
    "  \\begin{array}{cc}\n",
    "    \\frac{1}{\\mu} - 2 & \\frac{1}{\\mu} - 4 \\\\\n",
    "    \\frac{1}{\\mu} - 4 & \\frac{1}{\\mu} - 2 \\\\\n",
    "  \\end{array}\n",
    "\\right)\n",
    "\\left(\n",
    "  \\begin{array}{c}\n",
    "    x_1 \\\\\n",
    "    x_2 \\\\\n",
    "  \\end{array}\n",
    "\\right)\n",
    "=\n",
    "\\left(\n",
    "  \\begin{array}{c}\n",
    "    \\frac{8}{\\mu} \\\\\n",
    "    \\frac{8}{\\mu} \\\\\n",
    "  \\end{array}\n",
    "\\right)$$\n",
    "\n",
    "</details>"
   ]
  },
  {
   "cell_type": "markdown",
   "metadata": {},
   "source": [
    "<u>Task 3</u>: What happens if $\\mu \\downarrow 0$?  Complete the implementation of the quadratic penalty method below:\n",
    "\n",
    "Also, report the eigenvalues and the condition number of the Hessian for each $\\mu$."
   ]
  },
  {
   "cell_type": "code",
   "execution_count": 3,
   "metadata": {},
   "outputs": [],
   "source": [
    "import numpy as np\n",
    "import scipy.optimize as sp\n",
    "\n",
    "# to calculate the gradient and Hessian of the objective function\n",
    "from autograd import grad\n",
    "from autograd import hessian\n",
    "\n",
    "# to solve additionally using SLSQP solver, later on\n",
    "from scipy.optimize import Bounds\n",
    "from scipy.optimize import NonlinearConstraint\n",
    "from math import inf"
   ]
  },
  {
   "cell_type": "markdown",
   "metadata": {},
   "source": [
    "### Objective, constraint, quadratic penalty function, gradient and hessian"
   ]
  },
  {
   "cell_type": "code",
   "execution_count": 4,
   "metadata": {},
   "outputs": [],
   "source": [
    "def objective(X):\n",
    "    x1, x2 = X[0], X[1]\n",
    "    f = -(x1 ** 2 + x2 ** 2 + 4 * x1 * x2)\n",
    "    return f"
   ]
  },
  {
   "cell_type": "code",
   "execution_count": 5,
   "metadata": {},
   "outputs": [],
   "source": [
    "def constraint(X):\n",
    "    x1, x2 = X[0], X[1]\n",
    "    c = x1 + x2 -8\n",
    "    return c"
   ]
  },
  {
   "cell_type": "code",
   "execution_count": 6,
   "metadata": {},
   "outputs": [],
   "source": [
    "def penaltyFunction(X, mu):\n",
    "    x1, x2 = X[0], X[1]\n",
    "    f = -(x1 ** 2 + x2 ** 2 + 4 * x1 * x2) + 1 / (2 * mu) * (x1 + x2 -8) ** 2\n",
    "    return f"
   ]
  },
  {
   "cell_type": "code",
   "execution_count": 7,
   "metadata": {},
   "outputs": [],
   "source": [
    "def gradient_function(x, mu): \n",
    "    return [el.item() for el in grad(penaltyFunction, 0)(x, mu)]"
   ]
  },
  {
   "cell_type": "code",
   "execution_count": 8,
   "metadata": {},
   "outputs": [],
   "source": [
    "def hessian_function(x, mu): \n",
    "    return hessian(penaltyFunction, 0)(x, mu)"
   ]
  },
  {
   "cell_type": "markdown",
   "metadata": {},
   "source": [
    "### Quadratic penalty method"
   ]
  },
  {
   "cell_type": "code",
   "execution_count": 9,
   "metadata": {},
   "outputs": [],
   "source": [
    "def qpm(x0, mu): \n",
    "    \n",
    "    # get eigenvalues of the Hessian\n",
    "    w, v = np.linalg.eig(hessian_function(x0, mu))\n",
    "    \n",
    "    # get condition number of the Hessian\n",
    "    n = np.linalg.cond(hessian_function(x0, mu))\n",
    "    \n",
    "    # unconstrained optimization using BFGS method\n",
    "    res = sp.minimize(penaltyFunction, x0, args=(mu), method='BFGS', jac=gradient_function)\n",
    "    \n",
    "    return w, n, res.x"
   ]
  },
  {
   "cell_type": "code",
   "execution_count": 10,
   "metadata": {
    "scrolled": true
   },
   "outputs": [
    {
     "name": "stdout",
     "output_type": "stream",
     "text": [
      "iter       mu         minimum                 condition nr.          constraint violation     \n",
      "1          1.000e+00  [732.3181, 732.3181]      2.00e+00                  1.457e+03      \n",
      "2          5.000e-01  [1463.6362, 1463.6362]      1.00e+00                  2.919e+03      \n",
      "3          2.500e-01  [16.0000 , 16.0000 ]      1.00e+00                  2.400e+01      \n",
      "4          1.250e-01  [ 6.4000 ,  6.4000 ]      5.00e+00                  4.800e+00      \n",
      "5          6.250e-02  [ 4.9231 ,  4.9231 ]      1.30e+01                  1.846e+00      \n",
      "6          3.125e-02  [ 4.4138 ,  4.4138 ]      2.90e+01                  8.276e-01      \n",
      "7          1.562e-02  [ 4.1967 ,  4.1967 ]      6.10e+01                  3.934e-01      \n",
      "8          7.812e-03  [ 4.0960 ,  4.0960 ]      1.25e+02                  1.920e-01      \n",
      "9          3.906e-03  [ 4.0474 ,  4.0474 ]      2.53e+02                  9.486e-02      \n",
      "10         1.953e-03  [ 4.0236 ,  4.0236 ]      5.09e+02                  4.715e-02      \n",
      "11         9.766e-04  [ 4.0118 ,  4.0118 ]      1.02e+03                  2.351e-02      \n",
      "12         4.883e-04  [ 4.0059 ,  4.0059 ]      2.04e+03                  1.174e-02      \n",
      "13         2.441e-04  [ 4.0029 ,  4.0029 ]      4.09e+03                  5.864e-03      \n",
      "14         1.221e-04  [ 4.0015 ,  4.0015 ]      8.19e+03                  2.931e-03      \n",
      "15         6.104e-05  [ 4.0007 ,  4.0007 ]      1.64e+04                  1.465e-03      \n",
      "16         3.052e-05  [ 4.0004 ,  4.0004 ]      3.28e+04                  7.325e-04      \n",
      "17         1.526e-05  [ 4.0002 ,  4.0002 ]      6.55e+04                  3.662e-04      \n",
      "18         7.629e-06  [ 4.0001 ,  4.0001 ]      1.31e+05                  1.831e-04      \n",
      "19         3.815e-06  [ 4.0000 ,  4.0000 ]      2.62e+05                  9.155e-05      \n",
      "20         1.907e-06  [ 4.0000 ,  4.0000 ]      5.24e+05                  4.578e-05      \n",
      "21         9.537e-07  [ 4.0000 ,  4.0000 ]      1.05e+06                  2.289e-05      \n",
      "22         4.768e-07  [ 4.0000 ,  4.0000 ]      2.10e+06                  1.144e-05      \n",
      "23         2.384e-07  [ 4.0000 ,  4.0000 ]      4.19e+06                  5.722e-06      \n",
      "24         1.192e-07  [ 4.0000 ,  4.0000 ]      8.39e+06                  2.861e-06      \n",
      "25         5.960e-08  [ 4.0000 ,  4.0000 ]      1.68e+07                  1.431e-06      \n",
      "26         2.980e-08  [ 4.0000 ,  4.0000 ]      3.36e+07                  7.153e-07      \n",
      "27         1.490e-08  [ 4.0000 ,  4.0000 ]      6.71e+07                  3.576e-07      \n",
      "28         7.451e-09  [ 4.0000 ,  4.0000 ]      1.34e+08                  1.788e-07      \n",
      "29         3.725e-09  [ 4.0000 ,  4.0000 ]      2.68e+08                  8.941e-08      \n",
      "30         1.863e-09  [ 4.0000 ,  4.0000 ]      5.37e+08                  4.470e-08      \n",
      "31         9.313e-10  [ 4.0000 ,  4.0000 ]      1.07e+09                  2.235e-08      \n",
      "32         4.657e-10  [ 4.0000 ,  4.0000 ]      2.15e+09                  1.118e-08      \n",
      "33         2.328e-10  [ 4.0000 ,  4.0000 ]      4.29e+09                  5.588e-09      \n",
      "34         1.164e-10  [ 4.0000 ,  4.0000 ]      8.59e+09                  2.794e-09      \n",
      "35         5.821e-11  [ 4.0000 ,  4.0000 ]      1.72e+10                  1.397e-09      \n",
      "36         2.910e-11  [ 4.0000 ,  4.0000 ]      3.44e+10                  6.985e-10      \n",
      "37         1.455e-11  [ 4.0000 ,  4.0000 ]      6.87e+10                  3.492e-10      \n",
      "38         7.276e-12  [ 4.0000 ,  4.0000 ]      1.37e+11                  1.746e-10      \n",
      "39         3.638e-12  [ 4.0000 ,  4.0000 ]      2.75e+11                  8.731e-11      \n",
      "40         1.819e-12  [ 4.0000 ,  4.0000 ]      5.50e+11                  4.366e-11      \n",
      "41         9.095e-13  [ 4.0000 ,  4.0000 ]      1.10e+12                  2.183e-11      \n",
      "42         4.547e-13  [ 4.0000 ,  4.0000 ]      2.20e+12                  1.091e-11      \n",
      "43         2.274e-13  [ 4.0000 ,  4.0000 ]      4.40e+12                  5.457e-12      \n",
      "44         1.137e-13  [ 4.0000 ,  4.0000 ]      8.80e+12                  2.728e-12      \n",
      "45         5.684e-14  [ 4.0000 ,  4.0000 ]      1.76e+13                  1.364e-12      \n",
      "46         2.842e-14  [ 4.0000 ,  4.0000 ]      3.52e+13                  6.821e-13      \n",
      "47         1.421e-14  [ 4.0000 ,  4.0000 ]      7.04e+13                  3.411e-13      \n",
      "48         7.105e-15  [ 4.0000 ,  4.0000 ]      1.42e+14                  1.705e-13      \n",
      "49         3.553e-15  [ 4.0000 ,  4.0000 ]      2.81e+14                  8.527e-14      \n",
      "50         1.776e-15  [ 4.0000 ,  4.0000 ]      5.64e+14                  4.263e-14      \n",
      "51         8.882e-16  [ 4.0000 ,  4.0000 ]      1.09e+15                  2.132e-14      \n",
      "52         4.441e-16  [ 4.0000 ,  4.0000 ]      2.35e+15                  1.066e-14      \n",
      "53         2.220e-16  [ 4.0000 ,  4.0000 ]      4.38e+15                  5.329e-15      \n",
      "54         1.110e-16  [ 4.0000 ,  4.0000 ]      7.72e+15                  3.553e-15      \n",
      "55         5.551e-17  [ 4.0000 ,  4.0000 ]      1.77e+16                  1.776e-15      \n",
      "56         2.776e-17  [ 4.0000 ,  4.0000 ]      3.27e+16                  0.000e+00      \n"
     ]
    }
   ],
   "source": [
    "mu = 1\n",
    "x0 = np.array([1.,1.])\n",
    "\n",
    "# acceptable constraint violation at optimum\n",
    "vol = 1e-15\n",
    "constraint_violation = True\n",
    "\n",
    "it = 0\n",
    "\n",
    "print (\"{:<10} {:<10} {:<20} {:^20} {:^30}\".format('iter','mu','minimum','condition nr.', 'constraint violation'))\n",
    "while constraint_violation:\n",
    "    it=it+1\n",
    "    \n",
    "    w, n, xmin = qpm(x0,mu)\n",
    "    print (\"{:<10d} {:<10.3e} [{:^8.4f}, {:^8.4f}] {:<4} {:<20.2e} {:^20.3e}\".format(it,mu,xmin[0],xmin[1],' ',n,constraint(xmin)))\n",
    "    \n",
    "    if constraint(xmin)<=vol:\n",
    "        constraint_violation = False \n",
    "    \n",
    "    # update for next iteration\n",
    "    mu = mu/2\n",
    "    x0 = xmin"
   ]
  },
  {
   "cell_type": "markdown",
   "metadata": {},
   "source": [
    "### SLSQP method (scipy)"
   ]
  },
  {
   "cell_type": "markdown",
   "metadata": {},
   "source": [
    "We will solve the problem using scipy's SLSQP solver (written by Dieter Kraft, DLR Oberpfaffenhofen)"
   ]
  },
  {
   "cell_type": "code",
   "execution_count": 11,
   "metadata": {},
   "outputs": [
    {
     "name": "stdout",
     "output_type": "stream",
     "text": [
      "minimum = [4. 4.]\n",
      "constraint violation = -1.7763568394002505e-15\n"
     ]
    }
   ],
   "source": [
    "x0 = np.array([1.,1.])\n",
    "\n",
    "bounds = Bounds([-inf,-inf], [inf,inf])\n",
    "\n",
    "# The constraint is actually linear, so you can try a different approach.\n",
    "# See SLSQP documentation for more details on how to set up linear constraints.\n",
    "nonlinear_constraints = NonlinearConstraint(constraint, 0, 0)\n",
    "\n",
    "res = sp.minimize(objective, x0, method='SLSQP',\n",
    "               constraints=[nonlinear_constraints], bounds=bounds)\n",
    "\n",
    "print(\"minimum = {}\".format(res.x))\n",
    "print(\"constraint violation = {}\".format(constraint(res.x)))"
   ]
  },
  {
   "cell_type": "code",
   "execution_count": null,
   "metadata": {},
   "outputs": [],
   "source": []
  }
 ],
 "metadata": {
  "kernelspec": {
   "display_name": "Python 3 (ipykernel)",
   "language": "python",
   "name": "python3"
  },
  "language_info": {
   "codemirror_mode": {
    "name": "ipython",
    "version": 3
   },
   "file_extension": ".py",
   "mimetype": "text/x-python",
   "name": "python",
   "nbconvert_exporter": "python",
   "pygments_lexer": "ipython3",
   "version": "3.10.6"
  }
 },
 "nbformat": 4,
 "nbformat_minor": 4
}

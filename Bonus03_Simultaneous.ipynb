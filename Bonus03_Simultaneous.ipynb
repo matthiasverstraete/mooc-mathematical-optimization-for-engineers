{
 "cells": [
  {
   "cell_type": "markdown",
   "id": "c12ffd74",
   "metadata": {
    "deletable": false,
    "editable": false,
    "nbgrader": {
     "cell_type": "markdown",
     "checksum": "bb5d7499ccf85c0352263d389828a701",
     "grade": false,
     "grade_id": "cell-2380c365f7051fcf",
     "locked": true,
     "schema_version": 3,
     "solution": false,
     "task": false
    }
   },
   "source": [
    "<div>\n",
    "<img src=\"figures/svtLogo.png\"/>\n",
    "</div>"
   ]
  },
  {
   "cell_type": "markdown",
   "id": "b3f1a86f",
   "metadata": {
    "deletable": false,
    "editable": false,
    "nbgrader": {
     "cell_type": "markdown",
     "checksum": "cde5415abdea4e47503d7da2c7e7c6ec",
     "grade": false,
     "grade_id": "cell-6d45a0e831d294cb",
     "locked": true,
     "schema_version": 3,
     "solution": false,
     "task": false
    }
   },
   "source": [
    "<h1><center>Mathematical Optimization for Engineers</center></h1>\n",
    "<h2><center>Bonus exercise 3 </center></h2>"
   ]
  },
  {
   "cell_type": "markdown",
   "id": "793fc6e8",
   "metadata": {
    "deletable": false,
    "editable": false,
    "nbgrader": {
     "cell_type": "markdown",
     "checksum": "983687c98dd8718f91733630b9b378b4",
     "grade": false,
     "grade_id": "cell-63cbfa7c647637e7",
     "locked": true,
     "schema_version": 3,
     "solution": false,
     "task": false
    }
   },
   "source": [
    "## Background\n",
    "### Optimal control problems"
   ]
  },
  {
   "cell_type": "markdown",
   "id": "cfac7a39",
   "metadata": {
    "deletable": false,
    "editable": false,
    "nbgrader": {
     "cell_type": "markdown",
     "checksum": "cf8acdd5cf6ca570a798927f5891d130",
     "grade": false,
     "grade_id": "cell-d79a3f855bc32d6a",
     "locked": true,
     "schema_version": 3,
     "solution": false,
     "task": false
    }
   },
   "source": [
    "$$\\newcommand{\\R}{\\mathbb R}$$\n",
    "In this programming exercise, you will solve an optimal control problem (OCP). OCPs are a special case of dynamic optimization problems. For this exercise, we introduce the following class of optimal control problems:\n",
    "\n",
    "\\begin{align}\n",
    "\t\\min_{\\mathbf{x}(\\cdot),\\mathbf{u}(\\cdot)}  & \\Phi(\\mathbf{x}(\\cdot)) = \\mathbf{\\phi}(\\mathbf{x}(t_f)) \\\\\n",
    "\t\\mbox{s.t. }\\quad & \\dot{\\mathbf{x}}(t) = \\mathbf{f}(\\mathbf{x}(t),\\mathbf{u}(t)), \\; t \\in [t_0,t_f], \\\\\n",
    "    &\\mathbf{x}(t_0) = \\mathbf{x_0}, \\\\\n",
    "\t&\\mathbf{u}_{\\min}  \\leq \\mathbf{u}(t) \\leq \\mathbf{u}_{\\max} \\; \\forall \\; t \\in [t_0,t_f].\n",
    "\\end{align}\n",
    "    \n",
    "The state variables $\\mathbf{x}(t) \\in \\R^{n_x}$ and control variables $\\mathbf{u}(t) \\in \\R^{n_u}$ are time-dependent. The so-called Mayer-type objective functional $\\Phi$ is defined by the function $\\mathbf{\\phi} : \\R^{n_x} \\rightarrow \\R$, that only depends on the state $\\mathbf{x}(t)$ at the final time $t_f$. The constraints are a system of ordinary differential equations (ODE). The right hand side of the ODE is given by the function $\\mathbf{f}:\\R^{n_x}\\times \\R^{n_u} \\rightarrow \\R^{n_x}$. Finally, we consider control path constraints in form of simple lower and upper bounds $\\mathbf{u}_{\\min} \\in \\R^{n_u}$ and $\\mathbf{u}_{\\max} \\in \\R^{n_u}$ on $\\mathbf{u}(t)$, respectively.\n",
    "\n",
    "The dimension of the optimization problem is infinite, since for every $t\\in [t_0,t_f]$, $\\mathbf{u}(t)$ and $\\mathbf{x}(t)$ are optimization variables.\n",
    "\n",
    "For fixed $\\mathbf{u}(\\cdot)$, the state variables $\\mathbf{x}(t),\\,t\\in [t_0,t_f]$ are uniquely determined by the solution of the initial value problem. Thus, the control vector function $\\mathbf{u}:[t_0,t_f] \\rightarrow \\R^{n_u}$  is the actual (infinite-dimensional) degree of freedom."
   ]
  },
  {
   "cell_type": "markdown",
   "id": "e506a9f3",
   "metadata": {
    "deletable": false,
    "editable": false,
    "nbgrader": {
     "cell_type": "markdown",
     "checksum": "344c0eeb20806857565edba6d17c96f7",
     "grade": false,
     "grade_id": "cell-056c760315ee0882",
     "locked": true,
     "schema_version": 3,
     "solution": false,
     "task": false
    }
   },
   "source": [
    "### Full discretization approach"
   ]
  },
  {
   "cell_type": "markdown",
   "id": "fcba4771",
   "metadata": {
    "deletable": false,
    "editable": false,
    "nbgrader": {
     "cell_type": "markdown",
     "checksum": "77d4ae6762a8e21b72845f8e90d22152",
     "grade": false,
     "grade_id": "cell-0753d13b9ce9dc0e",
     "locked": true,
     "schema_version": 3,
     "solution": false,
     "task": false
    }
   },
   "source": [
    "$$\\newcommand{\\R}{\\mathbb R}$$\n",
    "The so-called full discretization approach discretizes state and control variables, as well as the differential equations. Thus, the original optimal control problem is transformed into an ordinary nonlinear program (NLP). Here, we will use the <u>implicit Euler method</u> to discretize the ODE into a set of nonlinear equations. The procedure to obtain a nonlinear program is now described in detail:\n",
    "\n",
    "The first step is to divide the time horizon $[t_0,t_f]$ into $M$ intervals $[t_{k-1},t_k]$, $k=1,\\dots, M$ of length $h$ with\n",
    "\n",
    "$\n",
    "t_M = t_f, \\qquad t_k - t_{k-1} = h, \\, k=1,\\dots, M, \\qquad h = \\frac{t_f-t_0}{M}.\n",
    "$\n",
    "\n",
    "The implicit Euler discretization is then\n",
    "\\begin{equation}\\label{eq:euler}\n",
    "\\mathbf{x}_{k+1} = \\mathbf{x}_k + h \\cdot \\mathbf{f}(\\mathbf{x}_{k+1},\\mathbf{u}_{k+1}), \\quad k=0,1,\\dots,M-1,\n",
    "\\end{equation}\n",
    "\n",
    "where $\\mathbf{x}_{k}\\in \\R^{n_x}$ and $\\mathbf{u}_k\\in \\R^{n_u}$ are finite dimensional decision variables that approximate the states $\\mathbf{x}(t)$ and controls $\\mathbf{u}(t)$, respectively, at the discretization points\n",
    "$t_k$, $k=1,2,\\dots,M$."
   ]
  },
  {
   "cell_type": "markdown",
   "id": "c3e13bb3",
   "metadata": {
    "deletable": false,
    "editable": false,
    "nbgrader": {
     "cell_type": "markdown",
     "checksum": "7a9dbd971e1c4ef7e1b1bf6f13745954",
     "grade": false,
     "grade_id": "cell-d37af9f9d6326b89",
     "locked": true,
     "schema_version": 3,
     "solution": false,
     "task": false
    }
   },
   "source": [
    "$$\\newcommand{\\R}{\\mathbb R}$$\n",
    "The optimization variable vector of the full discretization NLP is \n",
    "\n",
    "\\begin{align}\n",
    "\\mathbf{y} = \\left(\\begin{array}{c}\n",
    "\\mathbf{x}_1\\\\\n",
    "\\mathbf{u}_1\\\\\n",
    "\\mathbf{x}_2\\\\\n",
    "\\mathbf{u}_2\\\\\n",
    "\\vdots \\\\\n",
    "\\mathbf{x}_M\\\\\n",
    "\\mathbf{u}_M\n",
    "\\end{array} \\right) \\in \\R^{n_y}, \\quad \\text{where } n_y = M\\cdot(n_x+n_u).\n",
    "\\end{align}\n",
    "\n",
    "The full discretization NLP is\n",
    "\n",
    "\\begin{align}\n",
    "\\min_{\\mathbf{y} \\in \\R^{n_y}} & \\phi(\\mathbf{x}_M) \\\\\n",
    "\\text{s.t.}\\quad & \\mathbf{c}_k(y) = \\mathbf{0}, \\quad k=0,1,\\dots, M-1 \\\\\n",
    "& \\mathbf{u}_{\\min} \\le \\mathbf{u}_k \\le \\mathbf{u}_{\\max}, \\quad k=1,\\dots,M,\n",
    "\\end{align}\n",
    "\n",
    "where the constraint functions $\\mathbf{c}_k: \\R^{n_y} \\rightarrow \\R^{n_x}$, $k=0,1,\\dots,M-1$ are defined by:\n",
    "$\n",
    "\\mathbf{c}_k(\\mathbf{y}) := \\mathbf{x}_{k+1} - \\mathbf{x}_k - h \\cdot \\mathbf{f}(\\mathbf{x}_{k+1},\\mathbf{u}_{k+1}).\n",
    "$"
   ]
  },
  {
   "cell_type": "markdown",
   "id": "f23239f7",
   "metadata": {
    "deletable": false,
    "editable": false,
    "nbgrader": {
     "cell_type": "markdown",
     "checksum": "d2d25c72b0c16075da0680d3389ce5e6",
     "grade": false,
     "grade_id": "cell-62da453a7dc9a5c5",
     "locked": true,
     "schema_version": 3,
     "solution": false,
     "task": false
    }
   },
   "source": [
    "## Problem description"
   ]
  },
  {
   "cell_type": "markdown",
   "id": "cf8aad83",
   "metadata": {
    "deletable": false,
    "editable": false,
    "nbgrader": {
     "cell_type": "markdown",
     "checksum": "5016dec03e3b8fdc1ae0458cb6c55da5",
     "grade": false,
     "grade_id": "cell-bbf0482767b790e3",
     "locked": true,
     "schema_version": 3,
     "solution": false,
     "task": false
    }
   },
   "source": [
    "We consider reactions inside a cylindrical fixed bed reactor:\n",
    "<br>\n",
    "<br>\n",
    "<div>\n",
    "<img src=\"figures/fixedBed.png\" width=\"500\"/>\n",
    "</div>\n"
   ]
  },
  {
   "cell_type": "markdown",
   "id": "fb245c2c",
   "metadata": {
    "deletable": false,
    "editable": false,
    "nbgrader": {
     "cell_type": "markdown",
     "checksum": "06e74f9b90c03072e393939ac939b3a4",
     "grade": false,
     "grade_id": "cell-e21075c3ee4fe250",
     "locked": true,
     "schema_version": 3,
     "solution": false,
     "task": false
    }
   },
   "source": [
    "For modelling purposes, think of it as a cylndrical tube, filled with catalyst pellets (bed), with reactants flowing through the bed and being converted into products. The reactant enters the reactor on the inflow side, reacts inside the reactor and leaves together with the products on the outflow side.\n",
    "<br>\n",
    "<br>\n",
    "<div>\n",
    "<img src=\"figures/TubularReactor-001.png\" width=\"400\"/>\n",
    "</div>\n",
    "\n",
    "We additionally assume the fluid velocity inside the cylinder to be uniform over a cross-section $A_c$, the flow to be in steady-state and the density of the fluid to be constant.\n",
    "\n",
    "In our problem, the reactions inside the reactor can be described by the following chemical equation:\n",
    "<br>\n",
    "<br>\n",
    "<div>\n",
    "<img src=\"figures/catReaction.png\" width=\"150\"/>\n",
    "</div>\n",
    "\n",
    "The reactions are catalysed - the reversible step from species $A$ to intermediate species $B$, $A  \\rightleftharpoons B$, is dependent on catalyst 1 and the irreversible step from $B \\rightarrow C$ is dependent on catalyst 2. \n",
    "\n",
    "The objective is to maximize the amount of $C$ at the outflow by adjusting the mixture of catalysts at all positions $t$ on the bed. The control variable, $u(t)$, is the fraction of catalyst 1 and consequently, $(1-u(t))$ is the fraction of catalyst 2 on the cross-section of the bed, at position $t$. \n",
    "\n",
    "It is important to remark, that the variable $t$ does not represent the time in this problem, but the spatial dimension in direction of the reactor axis."
   ]
  },
  {
   "cell_type": "markdown",
   "id": "b8e064ba",
   "metadata": {
    "deletable": false,
    "editable": false,
    "nbgrader": {
     "cell_type": "markdown",
     "checksum": "fb0bbe0d2d5993a189b6436330011e8e",
     "grade": false,
     "grade_id": "cell-2601d1d7d9c9867b",
     "locked": true,
     "schema_version": 3,
     "solution": false,
     "task": false
    }
   },
   "source": [
    "To solve the problem using full-discretization, we first discretize the 1-dimensional space as shown:\n",
    "<br>\n",
    "<br>\n",
    "<div>\n",
    "<img src=\"figures/TubularReactor-002.png\" width=\"400\"/>\n",
    "</div>\n",
    "<br>\n",
    "<br>\n",
    "The equations below show the mathematical formulation of this setting:<br> \n",
    "<i>(Hint: The flow is assumed uniform and steady, so the space and time derivatives are interchangeable with the help of a constant. You can assume the constant flow speed to be $1m/s$ and the length of the reactor, $t_f = 1m$)</i>:\n",
    "\n",
    "\\begin{align}\n",
    "\\begin{split}\n",
    "\\frac{d x_A(t)}{d t} &= u(t) \\cdot (k_2x_B(t) - k_1x_A(t))\\\\\n",
    "\\\\\n",
    "\\frac{d x_B(t)}{d t} &= -u(t) \\cdot (k_2x_B(t)-k_1x_A(t))-(1-u(t))\\cdot k_3 x_B(t)\\\\\n",
    "\\\\\n",
    "x_C(t) &= 1-x_A(t)-x_B(t), \\; \\; t \\in [t_0,t_f] \\\\\n",
    "\\\\\n",
    "u_{min} \\; &\\le \\; u(t) \\; \\le \\; u_{max} \\; \\forall \\; t \\in [t_0,t_f]\\\\\n",
    "\\\\\n",
    "\\mathbf{\\phi}(x_A(t_f)&, x_B (t_f))=x_C(t_f) = 1-x_A(t_f)-x_B(t_f)\n",
    "\\end{split}\n",
    "\\end{align}\n",
    "<br>\n",
    "<br>\n",
    "$x_A(t)$ and $x_B(t)$ are the unknown mole fractions of the educts $A$ and $B$ at position $t$, where $t$ is the distance from the inflow.\n",
    "\n",
    "$k_1$, $k_2$ and $k_3$ are the velocity constants of reactions $1$, $2$ and $3$. In the following, the values $k_1=k_3=1$, $k_2=10$, $t_0=0$ and $t_f=1$ shall be used. \n",
    "\n",
    "As stated before the control variable $u$ represents the mole fraction of  catalyst 1, therefore $u_{min}=0$ and $u_{max}=1$.\n",
    "\n",
    "The inflow only consists of reactant $A$. So the last piece of information needed to solve this problem are the initial conditions:\n",
    "\\begin{align}\n",
    "\\begin{split}\n",
    "{x}_A(t_0) &= 1\\\\\n",
    "{x}_B(t_0) &= 0.\\label{initialvalue}\n",
    "\\end{split}\n",
    "\\end{align}\n",
    "\n",
    "The goal is to maximize the mole fraction of product $C$, namely \n",
    "$\n",
    "x_C(t_f) = \\phi(x_A(t_f), x_B (t_f)) =\n",
    "1-x_A(t_f)-x_B(t_f)\n",
    "$\n",
    "at the final position ($t_f = 1$)."
   ]
  },
  {
   "cell_type": "markdown",
   "id": "19cf029a",
   "metadata": {
    "deletable": false,
    "editable": false,
    "nbgrader": {
     "cell_type": "markdown",
     "checksum": "49c3c64481f2e01f3a5af16a1bcecb36",
     "grade": false,
     "grade_id": "cell-0019fa20eefc1dca",
     "locked": true,
     "schema_version": 3,
     "solution": false,
     "task": false
    }
   },
   "source": [
    "### Your task"
   ]
  },
  {
   "cell_type": "markdown",
   "id": "d2271f0b",
   "metadata": {
    "deletable": false,
    "editable": false,
    "nbgrader": {
     "cell_type": "markdown",
     "checksum": "b9ba955ff7267e34e28c85e1761fdef6",
     "grade": false,
     "grade_id": "cell-5518593ae96d4676",
     "locked": true,
     "schema_version": 3,
     "solution": false,
     "task": false
    }
   },
   "source": [
    "1. Set up the nonlinear program by applying full discretization.\n",
    "<br>\n",
    "<br>\n",
    "2. Solve the nonlinear optimization problem using the solver SLSQP. Use the value $0.5$ as initial guess for $u_k$, and $(1,0)^T$ (why?) as an initial guess for $x_k$."
   ]
  },
  {
   "cell_type": "markdown",
   "id": "8bbdb1d6",
   "metadata": {
    "deletable": false,
    "editable": false,
    "nbgrader": {
     "cell_type": "markdown",
     "checksum": "7d71af6cd70c2b4478b4861e851a4f2b",
     "grade": false,
     "grade_id": "cell-03f1d14521a45822",
     "locked": true,
     "schema_version": 3,
     "solution": false,
     "task": false
    }
   },
   "source": [
    "#### Hint"
   ]
  },
  {
   "cell_type": "markdown",
   "id": "9edda8da",
   "metadata": {
    "deletable": false,
    "editable": false,
    "nbgrader": {
     "cell_type": "markdown",
     "checksum": "79070f723a08bb39145c731268c40459",
     "grade": false,
     "grade_id": "cell-57411cfb4c3ab443",
     "locked": true,
     "schema_version": 3,
     "solution": false,
     "task": false
    }
   },
   "source": [
    "The computed optimal objective function values for $M=10$, $M=30$ and $M=50$ are\n",
    "0.0450, 0.0468 and 0.0472, respectively."
   ]
  },
  {
   "cell_type": "markdown",
   "id": "fe3339e2",
   "metadata": {
    "deletable": false,
    "editable": false,
    "nbgrader": {
     "cell_type": "markdown",
     "checksum": "86c9c8006c76bb39f0a6852b446bc855",
     "grade": false,
     "grade_id": "cell-b5c1ff7105196d51",
     "locked": true,
     "schema_version": 3,
     "solution": false,
     "task": false
    }
   },
   "source": [
    "<u>You must use the template below, for submission.</u> \n",
    "<br>\n",
    "<br>\n",
    "- As a rule of thumb, you <b>only add code</b> to this file and <b> do not delete or change anything in the template</b>.\n",
    "<br>\n",
    "<br>\n",
    "- To see where you can add code, go ahead and do a search (ctrl+f) for '# YOUR CODE HERE'\n",
    "<br>\n",
    "<br>\n",
    "- Once you have added your code at these spots, delete the subsequent 'raise NotImplementedError()'. These exist only to remind you to add your own code.\n",
    "<br>\n",
    "<br>\n",
    "- Most importantly, have fun while programing :)!"
   ]
  },
  {
   "cell_type": "code",
   "execution_count": 1,
   "id": "60ec762b",
   "metadata": {},
   "outputs": [],
   "source": [
    "import numpy as np\n",
    "\n",
    "# refer to the documentation of scipy's SLSQP solver to understand these imports\n",
    "from scipy.optimize import minimize\n",
    "from scipy.optimize import Bounds\n",
    "from scipy.optimize import NonlinearConstraint\n",
    "\n",
    "# don't worry about plotting\n",
    "from matplotlib import pyplot as plt"
   ]
  },
  {
   "cell_type": "code",
   "execution_count": 97,
   "id": "a4d2ee00",
   "metadata": {
    "deletable": false,
    "nbgrader": {
     "cell_type": "code",
     "checksum": "8aad4cf79e18769fe6f1177cf2dd494a",
     "grade": false,
     "grade_id": "eval_rhs",
     "locked": false,
     "schema_version": 3,
     "solution": true,
     "task": false
    }
   },
   "outputs": [
    {
     "data": {
      "text/plain": [
       "array([ 57., -53.])"
      ]
     },
     "execution_count": 97,
     "metadata": {},
     "output_type": "execute_result"
    }
   ],
   "source": [
    "# Right hand side function of ODE (10 points)\n",
    "\n",
    "# inputs: state and control vectors, x and u, as numpy arrays\n",
    "\n",
    "# output: RHS vector, f, as numpy array\n",
    "\n",
    "def eval_rhs(x, u):\n",
    "    # constants\n",
    "    k1 = 1\n",
    "    k2 = 10\n",
    "    k3 = 1\n",
    "    \n",
    "    f = np.zeros(2)\n",
    "    \n",
    "    xA = x[0]\n",
    "    xB = x[1]\n",
    "    \n",
    "    # YOUR CODE HERE\n",
    "    f[0] = u * (k2*xB - k1*xA)\n",
    "    f[1] = -u * (k2*xB - k1*xA) - (1-u) * (k3*xB)\n",
    "    \n",
    "    return f\n",
    "\n",
    "eval_rhs([1,2], 3)"
   ]
  },
  {
   "cell_type": "code",
   "execution_count": 3,
   "id": "38eea97d",
   "metadata": {
    "deletable": false,
    "editable": false,
    "nbgrader": {
     "cell_type": "code",
     "checksum": "1cf40a83fa405084aa6598dabeeeaf9e",
     "grade": true,
     "grade_id": "testeval_rhs",
     "locked": true,
     "points": 10,
     "schema_version": 3,
     "solution": false,
     "task": false
    }
   },
   "outputs": [],
   "source": [
    "# please leave this cell as it is"
   ]
  },
  {
   "cell_type": "code",
   "execution_count": 78,
   "id": "04c1a9f6",
   "metadata": {
    "deletable": false,
    "nbgrader": {
     "cell_type": "code",
     "checksum": "f0bd7a74634a656e5ccd0cc84c5b6532",
     "grade": false,
     "grade_id": "cons",
     "locked": false,
     "schema_version": 3,
     "solution": true,
     "task": false
    }
   },
   "outputs": [
    {
     "data": {
      "text/plain": [
       "array([-1.00000000e+00,  5.77263064e-12,  3.69377447e-12, -3.69378989e-12,\n",
       "       -3.84533998e-12,  3.46080937e-12,  1.95384042e-12, -2.25721526e-12,\n",
       "       -4.17733148e-12,  3.75612988e-12,  2.39456067e-12, -2.39456066e-12,\n",
       "       -7.56358691e-14,  1.05525065e-13,  1.45128371e-13, -1.46822360e-13,\n",
       "        1.19293532e-13, -1.23392561e-13, -2.42907148e-12,  2.08080257e-12])"
      ]
     },
     "execution_count": 78,
     "metadata": {},
     "output_type": "execute_result"
    }
   ],
   "source": [
    "# equality constraints for optimization - discretized ODE (50 points)\n",
    "\n",
    "# inputs: \n",
    "#  1. optimization variable vector of the full-discretization NLP, y, as numpy array\n",
    "#  2. number of discretization intervals, M, as integer\n",
    "\n",
    "# output: \n",
    "#  1. vector of evaluated contraint expressions, c_k(y) for all k = 0,1 ... ,M-1, as numpy array\n",
    "#\n",
    "#  Note - Please ensure that the output is in the format (c_0', c_1', c_2', ... , c_M-1')' i.e. all column vectors \n",
    "#         c_k(y) are vertically collated into one big column vector, ceq, in the order shown.\n",
    "\n",
    "def cons(y, M):\n",
    "    # YOUR CODE HERE\n",
    "    h = 1/M\n",
    "    y_0 = np.concatenate([np.array([1, 0, 0.5]), y])\n",
    "    \n",
    "    ceq = np.zeros(2*M)\n",
    "    \n",
    "    for i in range(M):\n",
    "        y_sub = y_0[i*3:]\n",
    "        x_i = y_sub[0:2]\n",
    "        x_i1 = y_sub[3:5]\n",
    "        u_i1 = y_sub[5]\n",
    "        \n",
    "        # print(\"----------------------------i\", i)\n",
    "        # print(\"xi1\", x_i1)\n",
    "        # print(\"xi\", x_i)\n",
    "        # print(\"ui\", u_i1)\n",
    "        # print(\"eval_rhs\", eval_rhs(x_i1, u_i1))\n",
    "        ceq[i*2:i*2+2] = x_i1 - x_i - h * eval_rhs(x_i1, u_i1)\n",
    "    \n",
    "    return ceq\n",
    "\n",
    "# cons(np.array([1. , 0. , 0.5, 0. , 0. , 0. , 0. , 0. , 0. , 0. , 0. , 0. , 0. ,  0. , 0. , 0. , 0. , 0. , 0. , 0. , 0. , 0. , 0. , 0. , 0. , 0. ,  0. , 0. , 0. , 0. ]), 10)\n",
    "cons(np.array([1.94016624e-15, 3.72434042e-12, 5.00000000e-01, 3.68973305e-12,\n",
    "       3.32649040e-14, 1.78178104e-02, 9.79241844e-13, 2.25260722e-12,\n",
    "       5.26689429e-01, 2.92764502e-12, 7.55099803e-16, 1.86200880e-02,\n",
    "       2.42245324e-15, 2.39090877e-12, 5.23748879e-01, 2.39285953e-12,\n",
    "       4.29487606e-16, 1.72638812e-02, 2.27322654e-12, 1.43117814e-13,\n",
    "       5.22501093e-01, 2.41426407e-12, 3.51720108e-16, 1.69691861e-02,\n",
    "       2.41014689e-12, 3.52688426e-16, 5.12796835e-01, 2.10606272e-15,\n",
    "       1.87475264e-12, 1.12190895e-02]), 10)"
   ]
  },
  {
   "cell_type": "code",
   "execution_count": 31,
   "id": "29f6d855",
   "metadata": {
    "deletable": false,
    "editable": false,
    "nbgrader": {
     "cell_type": "code",
     "checksum": "9920a0eaa706164b1ded02a92c9e9abe",
     "grade": true,
     "grade_id": "test_cons",
     "locked": true,
     "points": 50,
     "schema_version": 3,
     "solution": false,
     "task": false
    }
   },
   "outputs": [],
   "source": [
    "# please leave this cell as it is"
   ]
  },
  {
   "cell_type": "code",
   "execution_count": 53,
   "id": "ac573642",
   "metadata": {
    "deletable": false,
    "nbgrader": {
     "cell_type": "code",
     "checksum": "bdb0845a6062c3792fe7936567c90832",
     "grade": false,
     "grade_id": "obj",
     "locked": false,
     "schema_version": 3,
     "solution": true,
     "task": false
    }
   },
   "outputs": [],
   "source": [
    "# objective function (10 points)\n",
    "\n",
    "# inputs: \n",
    "#  1. optimization variable vector of the full-discretization NLP, y, as numpy array\n",
    "\n",
    "# output: \n",
    "#  1. objective function value \n",
    "\n",
    "def objective(y):\n",
    "\n",
    "    # YOUR CODE HERE\n",
    "    x_Af = y[-3]\n",
    "    x_Bf = y[-2]\n",
    "    obj = - (1 - x_Af - x_Bf)\n",
    "    \n",
    "    return obj"
   ]
  },
  {
   "cell_type": "code",
   "execution_count": 92,
   "id": "6e31a93d-f4ef-4fa1-8005-b9e44574921f",
   "metadata": {},
   "outputs": [],
   "source": [
    "%matplotlib inline\n",
    "plt.rcParams[\"figure.figsize\"] = (12, 4)\n",
    "\n",
    "def do_plot(y):\n",
    "    y0 = np.concatenate([[1,0,0.5],y])\n",
    "    t_all = np.arange((len(y0)/3)) / (len(y)/3)\n",
    "    plt.subplot(131)\n",
    "    plt.plot(t_all, y0[0::3])\n",
    "    plt.title('xA')\n",
    "\n",
    "    plt.subplot(132)\n",
    "    plt.plot(t_all, y0[1::3])\n",
    "    plt.title('xB')\n",
    "\n",
    "    plt.subplot(133)\n",
    "    plt.plot(t_all[1:], y[2::3])\n",
    "    plt.title('u')\n",
    "\n",
    "    plt.tight_layout()\n",
    "    plt.show()"
   ]
  },
  {
   "cell_type": "code",
   "execution_count": 93,
   "id": "7846bbee",
   "metadata": {
    "deletable": false,
    "editable": false,
    "nbgrader": {
     "cell_type": "code",
     "checksum": "82d008e77f71663307a6721d4e8341f6",
     "grade": true,
     "grade_id": "test_obj",
     "locked": true,
     "points": 10,
     "schema_version": 3,
     "solution": false,
     "task": false
    }
   },
   "outputs": [],
   "source": [
    "# please leave this cell as it is"
   ]
  },
  {
   "cell_type": "code",
   "execution_count": 99,
   "id": "75201a85",
   "metadata": {
    "deletable": false,
    "nbgrader": {
     "cell_type": "code",
     "checksum": "374246653c8da08a73bcd8745b651864",
     "grade": false,
     "grade_id": "main",
     "locked": false,
     "schema_version": 3,
     "solution": true,
     "task": false
    }
   },
   "outputs": [
    {
     "name": "stdout",
     "output_type": "stream",
     "text": [
      "  NIT    FC           OBJFUN            GNORM\n",
      "    1   122    -4.410447E-02     1.414214E+00\n",
      "    2   243    -4.038734E-02     1.414214E+00\n",
      "    3   364    -4.042281E-02     1.414214E+00\n",
      "    4   485    -4.058912E-02     1.414214E+00\n",
      "    5   606    -4.138057E-02     1.414214E+00\n",
      "    6   727    -4.233867E-02     1.414214E+00\n",
      "    7   848    -4.238066E-02     1.414214E+00\n",
      "    8   969    -4.286752E-02     1.414214E+00\n",
      "    9  1090    -4.425876E-02     1.414214E+00\n",
      "   10  1212    -4.420295E-02     1.414214E+00\n",
      "   11  1333    -4.424718E-02     1.414214E+00\n",
      "   12  1454    -4.469606E-02     1.414214E+00\n",
      "   13  1575    -4.495581E-02     1.414214E+00\n",
      "   14  1696    -4.513574E-02     1.414214E+00\n",
      "   15  1817    -4.555026E-02     1.414214E+00\n",
      "   16  1938    -4.554434E-02     1.414214E+00\n",
      "   17  2059    -4.558245E-02     1.414214E+00\n",
      "   18  2180    -4.565351E-02     1.414214E+00\n",
      "   19  2301    -4.580075E-02     1.414214E+00\n",
      "   20  2422    -4.579291E-02     1.414214E+00\n",
      "   21  2543    -4.582245E-02     1.414214E+00\n",
      "   22  2664    -4.584290E-02     1.414214E+00\n",
      "   23  2785    -4.593118E-02     1.414214E+00\n",
      "   24  2906    -4.597382E-02     1.414214E+00\n",
      "   25  3027    -4.597455E-02     1.414214E+00\n",
      "Optimization terminated successfully    (Exit mode 0)\n",
      "            Current function value: -0.04597454593693168\n",
      "            Iterations: 25\n",
      "            Function evaluations: 3027\n",
      "            Gradient evaluations: 25\n"
     ]
    },
    {
     "data": {
      "image/png": "[encoded data removed]",
      "text/plain": [
       "<Figure size 1200x400 with 3 Axes>"
      ]
     },
     "metadata": {},
     "output_type": "display_data"
    },
    {
     "name": "stdout",
     "output_type": "stream",
     "text": [
      "(-0.04597454593693168, array([9.80392157e-01, 1.96078431e-02, 1.00000000e+00, 9.70175685e-01,\n",
      "       2.95330829e-02, 6.05556836e-01, 9.56943432e-01, 4.27653349e-02,\n",
      "       1.00000000e+00, 9.52997445e-01, 4.59301721e-02, 3.19708090e-01,\n",
      "       9.43317137e-01, 5.56104804e-02, 1.00000000e+00, 9.42314786e-01,\n",
      "       5.53713697e-02, 1.03174789e-01, 9.34700503e-01, 6.29841695e-02,\n",
      "       9.99057655e-01, 9.34692889e-01, 6.14568243e-02, 9.51383018e-04,\n",
      "       9.28991065e-01, 6.69563382e-02, 8.79138912e-01, 9.28991065e-01,\n",
      "       6.53232568e-02, 1.43360326e-18, 9.24595761e-01, 6.93013276e-02,\n",
      "       7.59177517e-01, 9.24595761e-01, 6.76110513e-02, 1.21295118e-18,\n",
      "       9.21032539e-01, 7.05781578e-02, 6.62152558e-01, 9.21032539e-01,\n",
      "       6.88567393e-02, 8.31680475e-20, 9.18020341e-01, 7.11270308e-02,\n",
      "       5.82771096e-01, 9.18020341e-01, 6.93922252e-02, 1.25149118e-19,\n",
      "       9.15388624e-01, 7.11640326e-02, 5.16660413e-01, 9.15388624e-01,\n",
      "       6.94283244e-02, 0.00000000e+00, 9.13033347e-01, 7.08276242e-02,\n",
      "       4.60111018e-01, 9.13033347e-01, 6.91001211e-02, 8.12728113e-19,\n",
      "       9.10893255e-01, 7.02044943e-02, 4.09884257e-01, 9.10893255e-01,\n",
      "       6.84921895e-02, 3.66765266e-19, 9.08937316e-01, 6.93439199e-02,\n",
      "       3.63054016e-01, 9.08936929e-01, 6.76530925e-02, 6.66653837e-05,\n",
      "       9.07158484e-01, 6.82656765e-02, 3.16869044e-01, 9.07157731e-01,\n",
      "       6.66015984e-02, 1.25046953e-04, 9.05573132e-01, 6.69618445e-02,\n",
      "       2.68626922e-01, 9.05572364e-01, 6.53295717e-02, 1.21755960e-04,\n",
      "       9.04223720e-01, 6.53957279e-02, 2.15552386e-01, 9.04223489e-01,\n",
      "       6.38009886e-02, 3.46010701e-05, 9.03186300e-01, 6.34962995e-02,\n",
      "       1.54673694e-01, 9.03186300e-01, 6.19476093e-02, 4.40457133e-20,\n",
      "       9.02584470e-01, 6.11471646e-02, 8.26903246e-02, 9.02584470e-01,\n",
      "       5.96557703e-02, 6.60685699e-20, 9.02584470e-01, 5.82007515e-02,\n",
      "       0.00000000e+00, 9.02584470e-01, 5.67812210e-02, 8.88987548e-20,\n",
      "       9.02584470e-01, 5.53963132e-02, 0.00000000e+00, 9.02584470e-01,\n",
      "       5.40451836e-02, 0.00000000e+00, 9.02584470e-01, 5.27270084e-02,\n",
      "       2.17899226e-17, 9.02584470e-01, 5.14409838e-02, 1.58289282e-20]))\n"
     ]
    }
   ],
   "source": [
    "# main function (30 points)\n",
    "\n",
    "# inputs: \n",
    "#  1. number of discretization intervals, M, as integer\n",
    "\n",
    "# output: \n",
    "#  1. optimal objective function value \n",
    "#  2. optimal variable vector, y, as numpy array\n",
    "\n",
    "def run_optimization(M):\n",
    "    n = 3*M\n",
    "    x_guess = np.zeros(n)  # initial guess of optimzation variable\n",
    "\n",
    "    x_guess[0::2] = 1\n",
    "    x_guess[1::2] = 0\n",
    "    x_guess[2::2] = 0.5\n",
    "    \n",
    "    x_initial = np.array([1, 0])\n",
    "\n",
    "    lb = np.zeros(n)\n",
    "    ub = np.ones(n)\n",
    "    \n",
    "    bounds = Bounds(lb, ub)\n",
    "    \n",
    "    consWithInitial = lambda y: cons(y, M)\n",
    "    nonlinear_constraints = NonlinearConstraint(consWithInitial, 0, 0)\n",
    "    \n",
    "    # YOUR CODE HERE\n",
    "    res = minimize(objective, x_guess, bounds = bounds, method='SLSQP', constraints=[nonlinear_constraints],\n",
    "               options={\"maxiter\": 10000, 'iprint': 2, 'disp': True})\n",
    "    \n",
    "    objopt = objective(res.x)\n",
    "    yopt = res.x\n",
    "    do_plot(yopt)\n",
    "    return objopt, yopt\n",
    "\n",
    "\n",
    "print(run_optimization(40))"
   ]
  },
  {
   "cell_type": "code",
   "execution_count": null,
   "id": "db2f7d37",
   "metadata": {
    "deletable": false,
    "editable": false,
    "nbgrader": {
     "cell_type": "code",
     "checksum": "2466fd5523b3d56754df685aefe82c62",
     "grade": true,
     "grade_id": "test_main",
     "locked": true,
     "points": 30,
     "schema_version": 3,
     "solution": false,
     "task": false
    }
   },
   "outputs": [],
   "source": [
    "# please leave this cell as it is"
   ]
  }
 ],
 "metadata": {
  "kernelspec": {
   "display_name": "Python 3 (ipykernel)",
   "language": "python",
   "name": "python3"
  },
  "language_info": {
   "codemirror_mode": {
    "name": "ipython",
    "version": 3
   },
   "file_extension": ".py",
   "mimetype": "text/x-python",
   "name": "python",
   "nbconvert_exporter": "python",
   "pygments_lexer": "ipython3",
   "version": "3.10.6"
  }
 },
 "nbformat": 4,
 "nbformat_minor": 5
}

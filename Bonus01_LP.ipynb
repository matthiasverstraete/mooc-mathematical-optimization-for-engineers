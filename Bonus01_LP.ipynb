{
 "cells": [
  {
   "cell_type": "markdown",
   "metadata": {},
   "source": [
    "<div>\n",
    "<img src=\"figures/svtLogo.png\"/>\n",
    "</div>\n",
    "\n",
    "<center><h1>Mathematical Optimization for Engineers</h1></center>\n",
    "<center><h2>Bonus exercise 1</h2></center>"
   ]
  },
  {
   "cell_type": "markdown",
   "metadata": {},
   "source": [
    "In this exercise, you will implement and solve the optimization problem that we formulated in Lab 01.<br>\n",
    "<br>\n",
    "Please complete the following tasks as you program:\n",
    "\n",
    "1. Use the <i>linprog</i> solver from the <i>scipy</i> package.\n",
    "<br>\n",
    "<br>\n",
    "2. Is the demand penalty active in the optimal solution?\n",
    "<br>\n",
    "<br>\n",
    "3. Write down the units of all optimization variables next to their names as comments e.g.\n",
    "\n",
    "\n",
    "**Hint: The optimal objective value is 1943.87 €/h.**"
   ]
  },
  {
   "cell_type": "code",
   "execution_count": null,
   "metadata": {},
   "outputs": [],
   "source": [
    "# P1 - kW\n",
    "# PP - kW"
   ]
  },
  {
   "cell_type": "markdown",
   "metadata": {},
   "source": [
    "You may use the template below, for your code."
   ]
  },
  {
   "cell_type": "code",
   "execution_count": 1,
   "metadata": {},
   "outputs": [],
   "source": [
    "import numpy as np\n",
    "from scipy.optimize import linprog"
   ]
  },
  {
   "cell_type": "markdown",
   "metadata": {},
   "source": [
    "Tip: every solver expects input in its own unique format. We should inform ourselves of this format by looking at the documentation of the solver <u>before</u> we start to implement our problem.\n",
    "\n",
    "[Click here for linprog documentation](https://docs.scipy.org/doc/scipy/reference/generated/scipy.optimize.linprog.html)\n",
    "\n",
    "`linprog(c, Aub, bub, Aeq, beq, bounds, method='interior-point', options, x0)`\n",
    "\n",
    "\n",
    "\\begin{align}\n",
    "\\min_\\mathbf x \\ & \\mathbf c^T \\mathbf x \\\\\n",
    "        \\mbox{s. t.} \\; \\ & \\mathbf A_{ub} \\mathbf x \\leq \\mathbf b_{ub},\\\\\n",
    "        & \\mathbf A_{eq} \\mathbf x = \\mathbf b_{eq},\\\\\n",
    "        & \\mathbf l \\leq \\mathbf x \\leq \\mathbf u ,\n",
    "\\end{align}\n",
    "\n",
    "\n",
    "where $\\mathbf x$ is a vector of decision variables; $\\mathbf c$,\n",
    "$\\mathbf b_{ub}$, $\\mathbf b_{eq}$, $\\mathbf l$, and $\\mathbf u$ are vectors; and\n",
    "$\\mathbf A_{ub}$ and $\\mathbf A_{eq}$ are matrices."
   ]
  },
  {
   "cell_type": "code",
   "execution_count": 2,
   "metadata": {},
   "outputs": [],
   "source": [
    "# dimensions of problem \n",
    "numVars = 18\n",
    "numEqC = 10\n",
    "numInEqC = 2\n",
    "\n",
    "# define indicies for variables\n",
    "I1, I2, HE1, HE2, LE1, LE2, C, BF1, BF2, HPS, MPS, LPS, P1, P2, PP, EP, Power, Fuel = (i for i in range(numVars))\n",
    "\n",
    "# prices from Table 2\n",
    "fuel_cost_coeff=1.5*10 ** (-6)#Unit Euro/kJ\n",
    "condensate_loss_coeff=0.008 # Unit Euro/kg\n",
    "produced_power_coeff=0.02 # Unit Euro/kWh\n",
    "purchased_power_coeff=0.05# Unit Euro/kWh\n",
    "demand_penalty=0.001# Unit Euro/kWh\n",
    "\n",
    "# enthalpies from Table 4\n",
    "Enthalpy_of_HPS=3163 #Unit kJ/kg\n",
    "enthalpy_mps=2949 #Unit kJ/kg\n",
    "enthalpy_lps=2911 #Unit kJ/kg \n",
    "enthalpy_condensate=449 #Unit kJ/kg\n",
    "\n",
    "# data from Table 5\n",
    "Evaporator_Efficiency=0.75 #Unit -\n",
    "basic_power=12000 # Unit kW"
   ]
  },
  {
   "cell_type": "code",
   "execution_count": 3,
   "metadata": {},
   "outputs": [],
   "source": [
    "# coefficients in the objective function: \n",
    "c = np.zeros(numVars)\n",
    "c[PP]=produced_power_coeff\n",
    "c[Fuel]=fuel_cost_coeff\n",
    "c[C]=condensate_loss_coeff\n",
    "c[EP]=purchased_power_coeff  # case for EP >= 12MW\n",
    "\n"
   ]
  },
  {
   "cell_type": "code",
   "execution_count": 4,
   "metadata": {},
   "outputs": [],
   "source": [
    "# inequality constraints\n",
    "Aub = np.zeros([2,numVars])\n",
    "bub = np.zeros(2)\n",
    "\n",
    "# add your code here\n",
    "\n",
    "# I1-HE1 <= 60000 \n",
    "Aub[0,I1]=1\n",
    "Aub[0,HE1]=-1\n",
    "bub[0]=60000\n",
    "\n",
    "# P1+P2+EP >= 24500\n",
    "Aub[1,P1] = -1\n",
    "Aub[1,P2] = -1\n",
    "Aub[1,EP] = -1\n",
    "bub[1] = -24500\n"
   ]
  },
  {
   "cell_type": "code",
   "execution_count": 5,
   "metadata": {},
   "outputs": [],
   "source": [
    "# equality constraints \n",
    "\n",
    "Aeq = np.zeros([10, numVars])\n",
    "beq = np.zeros(10)\n",
    "\n",
    "# add your code here\n",
    "\n",
    "# Enthalpy_of_HPS*HPS=Evaporator_Efficiency*Fuel\n",
    "Aeq[0,Fuel]=Evaporator_Efficiency\n",
    "Aeq[0,HPS]=-Enthalpy_of_HPS\n",
    "\n",
    "# HPS = I1+I2+BF1\n",
    "Aeq[1,HPS] = -1\n",
    "Aeq[1,I1] = 1\n",
    "Aeq[1,I2] = 1\n",
    "Aeq[1,BF1] = 1\n",
    "\n",
    "# I1 = HE1+LE1+C\n",
    "Aeq[2,I1] = -1\n",
    "Aeq[2,HE1] = 1\n",
    "Aeq[2,LE1] = 1\n",
    "Aeq[2,C] = 1\n",
    "\n",
    "# I2 = HE2+LE2\n",
    "Aeq[3,I2] = -1\n",
    "Aeq[3,HE2] = 1\n",
    "Aeq[3,LE2] = 1\n",
    "\n",
    "# HE1+HE2+BF1 = BF2+MPS\n",
    "Aeq[4,HE1] = 1\n",
    "Aeq[4,HE2] = 1\n",
    "Aeq[4,BF1] = 1\n",
    "Aeq[4,BF2] = -1\n",
    "Aeq[4,MPS] = -1\n",
    "\n",
    "# LPS = LE1+LE2+BF2\n",
    "Aeq[5,LE1] = 1\n",
    "Aeq[5,LE2] = 1\n",
    "Aeq[5,BF2] = 1\n",
    "Aeq[5,LPS] = -1\n",
    "\n",
    "# 3163*I1 = enthalpy_mps*HE1+2911*LE1+449*C+3600*P1\n",
    "Aeq[6,I1] = -3163\n",
    "Aeq[6,HE1] = enthalpy_mps\n",
    "Aeq[6,LE1] = 2911\n",
    "Aeq[6,C] = 449\n",
    "Aeq[6,P1] = 3600\n",
    "\n",
    "# 3163*I2 = enthalpy_mps*HE2+2911*LE2+3600*P2\n",
    "Aeq[7,I2] = -3163\n",
    "Aeq[7,HE2] = enthalpy_mps\n",
    "Aeq[7,LE2] = 2911\n",
    "Aeq[7,P2] = 3600\n",
    "\n",
    "# PP=P1+P2\n",
    "Aeq[8,PP] = -1\n",
    "Aeq[8,P1] = 1\n",
    "Aeq[8,P2] = 1\n",
    "\n",
    "# Power=PP+EP\n",
    "Aeq[9,Power] = -1\n",
    "Aeq[9,PP] = 1\n",
    "Aeq[9,EP] = 1\n"
   ]
  },
  {
   "cell_type": "code",
   "execution_count": 6,
   "metadata": {},
   "outputs": [],
   "source": [
    "# lower bounds and upper bounds for variables\n",
    "bnds = []\n",
    "lb = np.zeros(numVars)\n",
    "ub = np.ones(numVars) * np.inf\n",
    "\n",
    "lb[P1]=2500\n",
    "lb[P2]=3000\n",
    "lb[MPS]=123000\n",
    "lb[LPS]=45000\n",
    "\n",
    "ub[P1]=6250\n",
    "ub[I1]=87000\n",
    "ub[C]=28000\n",
    "ub[P2]=9000\n",
    "ub[I2]=110000\n",
    "ub[LE2]=64000\n",
    "\n",
    "# collect bounds in the correct format for using linprog\n",
    "bnds = []\n",
    "for i in range(0, len(lb)):\n",
    "    bnds.append((lb[i], ub[i]))"
   ]
  },
  {
   "cell_type": "code",
   "execution_count": 9,
   "metadata": {},
   "outputs": [
    {
     "name": "stderr",
     "output_type": "stream",
     "text": [
      "/tmp/ipykernel_57/3916137544.py:6: DeprecationWarning: `method='interior-point'` is deprecated and will be removed in SciPy 1.11.0. Please use one of the HiGHS solvers (e.g. `method='highs'`) in new code.\n",
      "  linprog(c, Aub, bub, Aeq, beq, bnds, method='interior-point')\n"
     ]
    },
    {
     "data": {
      "text/plain": [
       "     con: array([-3.57627869e-06, -1.60071068e-10,  8.94942787e-10, -1.42608769e-09,\n",
       "        4.65661287e-10,  1.34605216e-10, -6.25848770e-07, -8.04662704e-07,\n",
       "       -2.18278728e-11, -4.72937245e-11])\n",
       "     fun: 1951.5020425237421\n",
       " message: 'Optimization terminated successfully.'\n",
       "     nit: 14\n",
       "   slack: array([4.89033460e+04, 4.75579509e-06])\n",
       "  status: 0\n",
       " success: True\n",
       "       x: array([7.08523033e+04, 9.98514550e+04, 5.97556493e+04, 6.32443513e+04,\n",
       "       8.39289573e+03, 3.66071038e+04, 2.70375826e+03, 6.79553640e-05,\n",
       "       5.47117774e-04, 1.70703758e+05, 1.23000000e+05, 4.50000000e+04,\n",
       "       6.17797738e+03, 6.32202259e+03, 1.25000000e+04, 1.20000000e+04,\n",
       "       2.45000000e+04, 7.19914650e+08])"
      ]
     },
     "execution_count": 9,
     "metadata": {},
     "output_type": "execute_result"
    }
   ],
   "source": [
    "# case A\n",
    "# EP >= 12 MW\n",
    "bnds[EP] = (12000, np.inf)\n",
    "c[EP]=purchased_power_coeff\n",
    "\n",
    "linprog(c, Aub, bub, Aeq, beq, bnds, method='interior-point')\n"
   ]
  },
  {
   "cell_type": "code",
   "execution_count": 13,
   "metadata": {},
   "outputs": [
    {
     "name": "stdout",
     "output_type": "stream",
     "text": [
      "     con: array([-2.26497650e-06, -4.58385330e-10,  1.29512046e-09, -4.94765118e-10,\n",
      "        6.27915142e-09,  2.46101541e-09, -3.18884850e-06,  3.06963921e-06,\n",
      "       -2.48292054e-10,  3.63797881e-12])\n",
      "     fun: 1931.8653083236616\n",
      " message: 'Optimization terminated successfully.'\n",
      "     nit: 12\n",
      "   slack: array([5.62829712e+04, 2.01906296e-05])\n",
      "  status: 0\n",
      " success: True\n",
      "       x: array([6.17170220e+04, 1.10000000e+05, 5.79999932e+04, 6.50000068e+04,\n",
      "       6.08240833e-03, 4.49999932e+04, 3.71702274e+03, 2.86628526e-03,\n",
      "       1.70517367e-03, 1.71717025e+05, 1.23000001e+05, 4.50000009e+04,\n",
      "       6.24999994e+03, 7.01388882e+03, 1.32638888e+04, 1.12361113e+04,\n",
      "       2.45000000e+04, 7.24187933e+08])\n",
      "1943.8653083236616\n"
     ]
    },
    {
     "name": "stderr",
     "output_type": "stream",
     "text": [
      "/tmp/ipykernel_57/2971995474.py:6: DeprecationWarning: `method='interior-point'` is deprecated and will be removed in SciPy 1.11.0. Please use one of the HiGHS solvers (e.g. `method='highs'`) in new code.\n",
      "  result = linprog(c, Aub, bub, Aeq, beq, bnds, method='interior-point')\n"
     ]
    }
   ],
   "source": [
    "# case B\n",
    "# EP < 12 MW\n",
    "bnds[EP] = (0, 12000)\n",
    "c[EP]=purchased_power_coeff-demand_penalty\n",
    "\n",
    "result = linprog(c, Aub, bub, Aeq, beq, bnds, method='interior-point')\n",
    "\n",
    "print(result)\n",
    "# as we didn't account for the offset in penalty we have to do it manually here\n",
    "print(result.fun + basic_power*demand_penalty)\n"
   ]
  }
 ],
 "metadata": {
  "kernelspec": {
   "display_name": "Python 3 (ipykernel)",
   "language": "python",
   "name": "python3"
  },
  "language_info": {
   "codemirror_mode": {
    "name": "ipython",
    "version": 3
   },
   "file_extension": ".py",
   "mimetype": "text/x-python",
   "name": "python",
   "nbconvert_exporter": "python",
   "pygments_lexer": "ipython3",
   "version": "3.10.6"
  }
 },
 "nbformat": 4,
 "nbformat_minor": 4
}
